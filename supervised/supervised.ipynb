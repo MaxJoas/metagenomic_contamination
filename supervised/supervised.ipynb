{
 "cells": [
  {
   "cell_type": "markdown",
   "metadata": {},
   "source": [
    "## Ziele\n",
    "Festlegung der Zielgroesse: PCR Platte, spezifisch, wird in kontaminierte Platte (Platte 1) und nicht kontaminierte Platte unterschieden. Ziel ist es mit einem ueberwachtem Lernverfahren vorherzusagen, ob eine Platte kontaminiert sein wird.\n",
    "Falls das mit annehmbarer Accuracy vorherzusagen ist, interessieren mich vor Allem die Features, die wichtig fuer die Vorhersage sind. Daraus erhoffe ich mir herauszufinden welche Variablen fuer die Kontamination verantwortlich sind / waren. Es handelt sich um eine Klassifikationsaufgabe\n",
    "\n",
    "## Ziele Bullet Points\n",
    "* What went wrong with the contaminated PCR Plate\n",
    "* Can we predict the contaminated PCR Plate\n",
    "* Are there specific contaminations\n",
    "\n",
    "## Implementation\n",
    "* Use Random Forest to predict PCR Plate (1 and other)\n",
    "* Check Accuracy\n",
    "- Use RF Feature Importance to find factors that contribute to contamination\n",
    "- Use Shapley Value to find factors that contribute to contamination\n"
   ]
  },
  {
   "cell_type": "code",
   "execution_count": 50,
   "metadata": {},
   "outputs": [],
   "source": [
    "# import packages\n",
    "import pandas as pd\n",
    "import numpy as np\n",
    "import seaborn as sns\n",
    "import shap\n",
    "\n",
    "import pprint\n",
    "import statistics\n",
    "\n",
    "import matplotlib.pyplot as plt\n",
    "import matplotlib.mlab as mlab\n",
    "import matplotlib\n",
    "plt.style.use('ggplot')\n",
    "from matplotlib.pyplot import figure\n",
    "\n",
    "from sklearn.model_selection import cross_val_score\n",
    "from sklearn.model_selection import RepeatedStratifiedKFold\n",
    "from sklearn.ensemble import RandomForestClassifier\n",
    "from sklearn.metrics import confusion_matrix\n",
    "from sklearn import metrics\n",
    "from sklearn import preprocessing\n",
    "from sklearn.ensemble import RandomForestRegressor\n",
    "from sklearn.tree import DecisionTreeClassifier\n",
    "from sklearn.model_selection import cross_val_score\n",
    "from sklearn.model_selection import cross_validate \n",
    "from sklearn.neural_network import MLPClassifier\n",
    "from sklearn.model_selection import KFold\n",
    "from sklearn.metrics import f1_score\n",
    "\n",
    "\n",
    "np.random.seed(0)\n",
    "\n",
    "\n",
    "\n",
    "%matplotlib inline\n",
    "matplotlib.rcParams['figure.figsize'] = (10,4)\n",
    "\n",
    "pd.options.mode.chained_assignment = None\n",
    "pp = pprint.PrettyPrinter(indent=4)"
   ]
  },
  {
   "cell_type": "code",
   "execution_count": 2,
   "metadata": {
    "scrolled": false
   },
   "outputs": [
    {
     "data": {
      "text/plain": [
       "1    93\n",
       "2    91\n",
       "3    15\n",
       "Name: PCR_plate, dtype: int64"
      ]
     },
     "execution_count": 2,
     "metadata": {},
     "output_type": "execute_result"
    }
   ],
   "source": [
    "# read data\n",
    "meta_df = pd.read_csv(\"../data/output/preprocessed_data.csv\",  index_col=0)\n",
    "seq_df = pd.read_csv(\"../data/output/seqData.csv\", index_col = 0)\n",
    "otu_info = pd.read_csv(\"../data/output/otu_info.csv\")\n",
    "\n",
    "otu_info_helper = otu_info.rename(index = otu_info.otu)\n",
    "otu_info_helper = otu_info_helper.transpose()\n",
    "whole_meta_df = pd.read_csv(\"../data/output/whole_preprocessed_meta_data\", index_col = 0)\n",
    "whole_meta_df[\"PCR_plate\"].value_counts(dropna=False)\n"
   ]
  },
  {
   "cell_type": "markdown",
   "metadata": {},
   "source": [
    "## Task 0: Prepare Data specifically for supervised models\n",
    "I want to classify the count data as well as the metadata based on if the pcr plate was contamined. Therefore, I aggregate the information about the PCR plate of the sample into two groups: contamined (plate 1) and not contamined(plates 2,3). The contamined plates are encoded with a 1, the non-contamined plates with a 0.\n",
    "Subsequently, I will save the target variable (contamined, not contamined) as an extra vector an remove it from the dataframe we train and test with. I will perform to analyses: The main analysis will use the OTU Counts as features to predict if the plate will be contamined. If the predictions work with sufficient accuracy, I will investigate which OTUs have the highest influence on the prediction. I will perform the same anlayses with the metadata."
   ]
  },
  {
   "cell_type": "code",
   "execution_count": 3,
   "metadata": {},
   "outputs": [],
   "source": [
    "\n",
    "# Modify target variable\n",
    "meta_df = meta_df.assign(\n",
    "    is_contamined = lambda dataframe: dataframe['PCR_plate'].map(lambda PCR_plate: 1 if PCR_plate == 1 else 0) \n",
    ")\n",
    "meta_df = meta_df.drop(columns=[\"PCR_plate\"])\n",
    "\n",
    "\n"
   ]
  },
  {
   "cell_type": "code",
   "execution_count": 4,
   "metadata": {},
   "outputs": [],
   "source": [
    "whole_meta_df = whole_meta_df.assign(\n",
    "    is_contamined = lambda dataframe: dataframe['PCR_plate'].map(lambda PCR_plate: 1 if PCR_plate == 1 else 0) \n",
    ")\n",
    "whole_meta_df = whole_meta_df.drop(columns=[\"PCR_plate\"])"
   ]
  },
  {
   "cell_type": "code",
   "execution_count": 5,
   "metadata": {},
   "outputs": [
    {
     "data": {
      "text/plain": [
       "dtype('int64')"
      ]
     },
     "execution_count": 5,
     "metadata": {},
     "output_type": "execute_result"
    }
   ],
   "source": [
    "whole_meta_df.is_contamined.dtypes\n"
   ]
  },
  {
   "cell_type": "code",
   "execution_count": 6,
   "metadata": {},
   "outputs": [
    {
     "data": {
      "text/html": [
       "<div>\n",
       "<style scoped>\n",
       "    .dataframe tbody tr th:only-of-type {\n",
       "        vertical-align: middle;\n",
       "    }\n",
       "\n",
       "    .dataframe tbody tr th {\n",
       "        vertical-align: top;\n",
       "    }\n",
       "\n",
       "    .dataframe thead th {\n",
       "        text-align: right;\n",
       "    }\n",
       "</style>\n",
       "<table border=\"1\" class=\"dataframe\">\n",
       "  <thead>\n",
       "    <tr style=\"text-align: right;\">\n",
       "      <th></th>\n",
       "      <th>Rearing_LAB</th>\n",
       "      <th>Sex</th>\n",
       "      <th>Age_weeks</th>\n",
       "      <th>Animals_for</th>\n",
       "      <th>cage_ID</th>\n",
       "      <th>BOX</th>\n",
       "      <th>Position</th>\n",
       "      <th>sample_type</th>\n",
       "      <th>extraction_date</th>\n",
       "      <th>extraction_run</th>\n",
       "      <th>...</th>\n",
       "      <th>tail_handling</th>\n",
       "      <th>BW_g</th>\n",
       "      <th>BW1_g</th>\n",
       "      <th>BW2_g</th>\n",
       "      <th>BW3_g</th>\n",
       "      <th>BW4_g</th>\n",
       "      <th>BW5_g</th>\n",
       "      <th>Notes</th>\n",
       "      <th>median_count</th>\n",
       "      <th>is_contamined</th>\n",
       "    </tr>\n",
       "  </thead>\n",
       "  <tbody>\n",
       "    <tr>\n",
       "      <th>100A</th>\n",
       "      <td>LAB_3</td>\n",
       "      <td>F</td>\n",
       "      <td>14.0</td>\n",
       "      <td>behaviour</td>\n",
       "      <td>BF4</td>\n",
       "      <td>3.0</td>\n",
       "      <td>17.0</td>\n",
       "      <td>primary</td>\n",
       "      <td>29/5/2020</td>\n",
       "      <td>15.0</td>\n",
       "      <td>...</td>\n",
       "      <td>no</td>\n",
       "      <td>NaN</td>\n",
       "      <td>19.1</td>\n",
       "      <td>20.5</td>\n",
       "      <td>20.3</td>\n",
       "      <td>21.1</td>\n",
       "      <td>21.8</td>\n",
       "      <td>NaN</td>\n",
       "      <td>0.0</td>\n",
       "      <td>0</td>\n",
       "    </tr>\n",
       "    <tr>\n",
       "      <th>100B</th>\n",
       "      <td>LAB_3</td>\n",
       "      <td>F</td>\n",
       "      <td>14.0</td>\n",
       "      <td>gene_expr</td>\n",
       "      <td>BF4</td>\n",
       "      <td>2.0</td>\n",
       "      <td>17.0</td>\n",
       "      <td>primary</td>\n",
       "      <td>14/5/2020</td>\n",
       "      <td>8.0</td>\n",
       "      <td>...</td>\n",
       "      <td>no</td>\n",
       "      <td>NaN</td>\n",
       "      <td>19.2</td>\n",
       "      <td>20.7</td>\n",
       "      <td>21.1</td>\n",
       "      <td>22.2</td>\n",
       "      <td>23.4</td>\n",
       "      <td>NaN</td>\n",
       "      <td>0.0</td>\n",
       "      <td>1</td>\n",
       "    </tr>\n",
       "    <tr>\n",
       "      <th>101A</th>\n",
       "      <td>LAB_4</td>\n",
       "      <td>F</td>\n",
       "      <td>14.0</td>\n",
       "      <td>gene_expr</td>\n",
       "      <td>MF7</td>\n",
       "      <td>2.0</td>\n",
       "      <td>23.0</td>\n",
       "      <td>primary</td>\n",
       "      <td>14/5/2020</td>\n",
       "      <td>8.0</td>\n",
       "      <td>...</td>\n",
       "      <td>yes</td>\n",
       "      <td>NaN</td>\n",
       "      <td>17.0</td>\n",
       "      <td>20.1</td>\n",
       "      <td>19.9</td>\n",
       "      <td>19.8</td>\n",
       "      <td>21.1</td>\n",
       "      <td>NaN</td>\n",
       "      <td>0.0</td>\n",
       "      <td>1</td>\n",
       "    </tr>\n",
       "    <tr>\n",
       "      <th>101B</th>\n",
       "      <td>LAB_4</td>\n",
       "      <td>F</td>\n",
       "      <td>14.0</td>\n",
       "      <td>behaviour</td>\n",
       "      <td>MF7</td>\n",
       "      <td>3.0</td>\n",
       "      <td>23.0</td>\n",
       "      <td>primary</td>\n",
       "      <td>2/6/2020</td>\n",
       "      <td>16.0</td>\n",
       "      <td>...</td>\n",
       "      <td>yes</td>\n",
       "      <td>NaN</td>\n",
       "      <td>15.5</td>\n",
       "      <td>17.8</td>\n",
       "      <td>18.0</td>\n",
       "      <td>18.5</td>\n",
       "      <td>18.9</td>\n",
       "      <td>NaN</td>\n",
       "      <td>0.0</td>\n",
       "      <td>0</td>\n",
       "    </tr>\n",
       "    <tr>\n",
       "      <th>103A</th>\n",
       "      <td>LAB_4</td>\n",
       "      <td>F</td>\n",
       "      <td>14.0</td>\n",
       "      <td>behaviour</td>\n",
       "      <td>MF2</td>\n",
       "      <td>3.0</td>\n",
       "      <td>19.0</td>\n",
       "      <td>primary</td>\n",
       "      <td>2/6/2020</td>\n",
       "      <td>16.0</td>\n",
       "      <td>...</td>\n",
       "      <td>yes</td>\n",
       "      <td>NaN</td>\n",
       "      <td>16.0</td>\n",
       "      <td>18.4</td>\n",
       "      <td>18.3</td>\n",
       "      <td>17.9</td>\n",
       "      <td>19.1</td>\n",
       "      <td>NaN</td>\n",
       "      <td>0.0</td>\n",
       "      <td>0</td>\n",
       "    </tr>\n",
       "  </tbody>\n",
       "</table>\n",
       "<p>5 rows × 61 columns</p>\n",
       "</div>"
      ],
      "text/plain": [
       "     Rearing_LAB  Sex  Age_weeks Animals_for  cage_ID  BOX   Position   \\\n",
       "100A        LAB_3   F       14.0    behaviour     BF4   3.0       17.0   \n",
       "100B        LAB_3   F       14.0    gene_expr     BF4   2.0       17.0   \n",
       "101A        LAB_4   F       14.0    gene_expr     MF7   2.0       23.0   \n",
       "101B        LAB_4   F       14.0    behaviour     MF7   3.0       23.0   \n",
       "103A        LAB_4   F       14.0    behaviour     MF2   3.0       19.0   \n",
       "\n",
       "     sample_type extraction_date  extraction_run  ... tail_handling  BW_g  \\\n",
       "100A     primary       29/5/2020            15.0  ...            no   NaN   \n",
       "100B     primary       14/5/2020             8.0  ...            no   NaN   \n",
       "101A     primary       14/5/2020             8.0  ...           yes   NaN   \n",
       "101B     primary        2/6/2020            16.0  ...           yes   NaN   \n",
       "103A     primary        2/6/2020            16.0  ...           yes   NaN   \n",
       "\n",
       "     BW1_g  BW2_g  BW3_g  BW4_g  BW5_g  Notes median_count is_contamined  \n",
       "100A  19.1   20.5   20.3   21.1   21.8    NaN          0.0             0  \n",
       "100B  19.2   20.7   21.1   22.2   23.4    NaN          0.0             1  \n",
       "101A  17.0   20.1   19.9   19.8   21.1    NaN          0.0             1  \n",
       "101B  15.5   17.8   18.0   18.5   18.9    NaN          0.0             0  \n",
       "103A  16.0   18.4   18.3   17.9   19.1    NaN          0.0             0  \n",
       "\n",
       "[5 rows x 61 columns]"
      ]
     },
     "execution_count": 6,
     "metadata": {},
     "output_type": "execute_result"
    }
   ],
   "source": [
    "\n",
    "meta_df.head()\n",
    "whole_meta_df.head()"
   ]
  },
  {
   "cell_type": "code",
   "execution_count": 7,
   "metadata": {},
   "outputs": [
    {
     "data": {
      "text/plain": [
       "(173, 42)"
      ]
     },
     "execution_count": 7,
     "metadata": {},
     "output_type": "execute_result"
    }
   ],
   "source": [
    "meta_df.shape"
   ]
  },
  {
   "cell_type": "markdown",
   "metadata": {},
   "source": [
    "\n",
    "\n",
    "## Task 1:  split data in test and validation data\n",
    "Therefore I use a custom function to have balanced classes, as mentioned before my target variable ist if the plate was contaminied"
   ]
  },
  {
   "cell_type": "code",
   "execution_count": 8,
   "metadata": {},
   "outputs": [],
   "source": [
    "def split_to_train_test(df, label_column, train_frac=0.8):\n",
    "    train_df, test_df = pd.DataFrame(), pd.DataFrame()\n",
    "    labels = df[label_column].unique()\n",
    "    for lbl in labels:\n",
    "        lbl_df = df[df[label_column] == lbl]\n",
    "        lbl_train_df = lbl_df.sample(frac=train_frac)\n",
    "        lbl_test_df = lbl_df.drop(lbl_train_df.index)\n",
    "        print('\\n%s:\\n---------\\ntotal:%d\\ntrain_df:%d\\ntest_df:%d' % (lbl, len(lbl_df), len(lbl_train_df), len(lbl_test_df)))\n",
    "        train_df = train_df.append(lbl_train_df)\n",
    "        test_df = test_df.append(lbl_test_df)\n",
    "\n",
    "    return train_df, test_df"
   ]
  },
  {
   "cell_type": "code",
   "execution_count": 9,
   "metadata": {},
   "outputs": [
    {
     "data": {
      "text/plain": [
       "(199, 61)"
      ]
     },
     "execution_count": 9,
     "metadata": {},
     "output_type": "execute_result"
    }
   ],
   "source": [
    "whole_meta_df.shape"
   ]
  },
  {
   "cell_type": "code",
   "execution_count": 10,
   "metadata": {},
   "outputs": [
    {
     "data": {
      "text/plain": [
       "(173, 42)"
      ]
     },
     "execution_count": 10,
     "metadata": {},
     "output_type": "execute_result"
    }
   ],
   "source": [
    "meta_df.shape"
   ]
  },
  {
   "cell_type": "code",
   "execution_count": 11,
   "metadata": {},
   "outputs": [
    {
     "name": "stdout",
     "output_type": "stream",
     "text": [
      "\n",
      "0:\n",
      "---------\n",
      "total:90\n",
      "train_df:63\n",
      "test_df:27\n",
      "\n",
      "1:\n",
      "---------\n",
      "total:83\n",
      "train_df:58\n",
      "test_df:25\n",
      "\n",
      "0:\n",
      "---------\n",
      "total:106\n",
      "train_df:74\n",
      "test_df:32\n",
      "\n",
      "1:\n",
      "---------\n",
      "total:93\n",
      "train_df:65\n",
      "test_df:28\n"
     ]
    },
    {
     "data": {
      "text/plain": [
       "(199, 1565)"
      ]
     },
     "execution_count": 11,
     "metadata": {},
     "output_type": "execute_result"
    }
   ],
   "source": [
    "train_df_meta, test_df_meta = split_to_train_test(meta_df, \"is_contamined\",0.7)\n",
    "seq_df_and_target = seq_df\n",
    "seq_df_and_target[\"is_contamined\"] = whole_meta_df.is_contamined\n",
    "train_df_counts, test_df_counts = split_to_train_test(seq_df_and_target, \"is_contamined\", 0.7)\n",
    "seq_df_and_target.shape"
   ]
  },
  {
   "cell_type": "code",
   "execution_count": 12,
   "metadata": {},
   "outputs": [
    {
     "data": {
      "text/plain": [
       "0    90\n",
       "1    83\n",
       "Name: is_contamined, dtype: int64"
      ]
     },
     "execution_count": 12,
     "metadata": {},
     "output_type": "execute_result"
    }
   ],
   "source": [
    "# Check Class Balance to select suitable evaluation metric\n",
    "meta_df.is_contamined.value_counts()\n"
   ]
  },
  {
   "cell_type": "markdown",
   "metadata": {},
   "source": [
    "## Task 2: Select a evaluation metric\n",
    "For my first analyses I will chose the Accuracy as defined: Accuracy = (TP+TN)/(TP+FP+FN+TN) as a metric. It is a well established metric for a two class classification problem and since we have equally balanced classes it is a reasonable choice"
   ]
  },
  {
   "cell_type": "markdown",
   "metadata": {},
   "source": [
    "## Task 3: Create a baseline model\n",
    "Since I have a two class classification problem with balanced classes, it is suitable to chose the relative frequency of the more frequent class as naive baseline prediction accuracy.\n"
   ]
  },
  {
   "cell_type": "code",
   "execution_count": 13,
   "metadata": {},
   "outputs": [
    {
     "name": "stdout",
     "output_type": "stream",
     "text": [
      "Baseline Estimation $0.5202312138728323\n"
     ]
    }
   ],
   "source": [
    "# baseline estimation\n",
    "\n",
    "freq_class = max(meta_df.is_contamined.value_counts())\n",
    "baseline = freq_class / len(meta_df.index)\n",
    "print(\"Baseline Estimation ${}\".format(baseline))"
   ]
  },
  {
   "cell_type": "markdown",
   "metadata": {},
   "source": [
    "## Task 4: Build a decision tree model\n",
    "Use a decisoin tree as a very simple supervised method to see if more complex models are justified"
   ]
  },
  {
   "cell_type": "code",
   "execution_count": 72,
   "metadata": {},
   "outputs": [],
   "source": [
    "\n",
    "\n",
    "# function that returns predictions of a Decision Tree\n",
    "# takes whole dataframe including the target variable as input\n",
    "def train_dec_tree(df, target):\n",
    "    \n",
    "    # prepare data\n",
    "    y_train = df.loc[:, target]\n",
    "    X_train = df.drop(columns=[target])\n",
    "    \n",
    "    # Create Decision Tree classifer object\n",
    "    clf = DecisionTreeClassifier()\n",
    "\n",
    "    # Train Decision Tree Classifer\n",
    "    clf = clf.fit(X_train,y_train)\n",
    "\n",
    "    return clf\n",
    "\n",
    "\n"
   ]
  },
  {
   "cell_type": "code",
   "execution_count": 74,
   "metadata": {},
   "outputs": [
    {
     "data": {
      "text/plain": [
       "array([1., 1., 1., 1., 1., 1., 1., 1., 1., 1.])"
      ]
     },
     "execution_count": 74,
     "metadata": {},
     "output_type": "execute_result"
    }
   ],
   "source": [
    "scores_prec\n"
   ]
  },
  {
   "cell_type": "code",
   "execution_count": 71,
   "metadata": {},
   "outputs": [
    {
     "name": "stdout",
     "output_type": "stream",
     "text": [
      "1.0\n",
      "1.0\n",
      "1.0\n",
      "1.0\n"
     ]
    }
   ],
   "source": [
    "print(statistics.mean(scores_prec))\n",
    "print(statistics.mean(scores_acc))\n",
    "print(statistics.mean(scores_recall))\n",
    "print(statistics.mean(scores_f1))"
   ]
  },
  {
   "cell_type": "markdown",
   "metadata": {},
   "source": [
    "### Decision Tree for count data"
   ]
  },
  {
   "cell_type": "code",
   "execution_count": 15,
   "metadata": {},
   "outputs": [
    {
     "data": {
      "text/plain": [
       "{'ccp_alpha': 0.0,\n",
       " 'class_weight': None,\n",
       " 'criterion': 'gini',\n",
       " 'max_depth': None,\n",
       " 'max_features': None,\n",
       " 'max_leaf_nodes': None,\n",
       " 'min_impurity_decrease': 0.0,\n",
       " 'min_impurity_split': None,\n",
       " 'min_samples_leaf': 1,\n",
       " 'min_samples_split': 2,\n",
       " 'min_weight_fraction_leaf': 0.0,\n",
       " 'presort': 'deprecated',\n",
       " 'random_state': None,\n",
       " 'splitter': 'best'}"
      ]
     },
     "execution_count": 15,
     "metadata": {},
     "output_type": "execute_result"
    }
   ],
   "source": [
    "clf_count_data = train_dec_tree(train_df_counts, \"is_contamined\")\n",
    "clf_count_data.get_params()"
   ]
  },
  {
   "cell_type": "code",
   "execution_count": 73,
   "metadata": {},
   "outputs": [
    {
     "name": "stdout",
     "output_type": "stream",
     "text": [
      "('              precision    recall  f1-score   support\\n'\n",
      " '\\n'\n",
      " '           0       0.71      0.62      0.67        32\\n'\n",
      " '           1       0.62      0.71      0.67        28\\n'\n",
      " '\\n'\n",
      " '    accuracy                           0.67        60\\n'\n",
      " '   macro avg       0.67      0.67      0.67        60\\n'\n",
      " 'weighted avg       0.67      0.67      0.67        60\\n')\n"
     ]
    }
   ],
   "source": [
    "count_pred = clf_count_data.predict(test_df_counts.drop(columns=[\"is_contamined\"]))\n",
    "metrics.accuracy_score(test_df_counts.is_contamined, count_pred)\n",
    "clf_report_dt_count = metrics.classification_report(test_df_counts.is_contamined, count_pred)\n",
    "pp.pprint(clf_report_dt_count)"
   ]
  },
  {
   "cell_type": "code",
   "execution_count": 17,
   "metadata": {},
   "outputs": [
    {
     "data": {
      "text/plain": [
       "0.6666666666666666"
      ]
     },
     "execution_count": 17,
     "metadata": {},
     "output_type": "execute_result"
    }
   ],
   "source": [
    "f1_score(test_df_counts.is_contamined, count_pred)"
   ]
  },
  {
   "cell_type": "markdown",
   "metadata": {},
   "source": [
    "### Decision Tree for meta data"
   ]
  },
  {
   "cell_type": "code",
   "execution_count": 18,
   "metadata": {},
   "outputs": [
    {
     "name": "stdout",
     "output_type": "stream",
     "text": [
      "('              precision    recall  f1-score   support\\n'\n",
      " '\\n'\n",
      " '           0       1.00      1.00      1.00        27\\n'\n",
      " '           1       1.00      1.00      1.00        25\\n'\n",
      " '\\n'\n",
      " '    accuracy                           1.00        52\\n'\n",
      " '   macro avg       1.00      1.00      1.00        52\\n'\n",
      " 'weighted avg       1.00      1.00      1.00        52\\n')\n"
     ]
    }
   ],
   "source": [
    "clf_meta_data = train_dec_tree(train_df_meta, \"is_contamined\")\n",
    "meta_pred = clf_meta_data.predict(test_df_meta.drop(columns=[\"is_contamined\"]))\n",
    "metrics.accuracy_score(test_df_meta.is_contamined, meta_pred)\n",
    "clf_report_dt_meta = metrics.classification_report(test_df_meta.is_contamined, meta_pred)\n",
    "pp.pprint(clf_report_dt_meta)"
   ]
  },
  {
   "cell_type": "markdown",
   "metadata": {},
   "source": [
    "## Task 5: Use a supervised machine learning model\n",
    "I have two objectives: Firstly, I want to find out what is distinctive for samples that were one the contamined plate 1. Therefore I am not so much interested in the prediction itself, rather then the features that are important for the prediction. So for the first question I use a random forest model and extract the feature importance. Additionally, I will use the shapley value to assess feature importance.\n",
    "\n",
    "Secondly, I am interested if it is possible to predict on which plate the contamination was. Therefore, I use the above-trained Random Forest model and baselines classifiers. Additionally, I will train a Mulit Layer Perceptron and Cross Validation to predict the plate."
   ]
  },
  {
   "cell_type": "code",
   "execution_count": 19,
   "metadata": {},
   "outputs": [],
   "source": [
    "\n",
    "# functions that return predictions of a Random Forest\n",
    "def train_test_rf(df, target):\n",
    "    \n",
    "    # prepare data\n",
    "    y_train = df.loc[:, target]\n",
    "    X_train = df.drop(columns=[target])\n",
    "    \n",
    "    clf = RandomForestClassifier(n_estimators=200)\n",
    "    clf = clf.fit(X_train, y_train)\n",
    "  \n",
    "    return clf"
   ]
  },
  {
   "cell_type": "code",
   "execution_count": 77,
   "metadata": {},
   "outputs": [],
   "source": [
    "rfc = RandomForestClassifier(n_estimators=200)\n",
    "scores_prec = cross_val_score(rfc, seq_df, seq_df_and_target.is_contamined, cv = 10, scoring='precision')\n",
    "scores_acc = cross_val_score(rfc, seq_df, seq_df_and_target.is_contamined, cv = 10, scoring='accuracy')\n",
    "scores_recall = cross_val_score(rfc, seq_df, seq_df_and_target.is_contamined, cv = 10, scoring='recall')\n",
    "scores_f1 = cross_val_score(rfc, seq_df, seq_df_and_target.is_contamined, cv = 10, scoring='f1')"
   ]
  },
  {
   "cell_type": "code",
   "execution_count": 79,
   "metadata": {},
   "outputs": [
    {
     "name": "stdout",
     "output_type": "stream",
     "text": [
      "0.9344444444444444 0.11903245053276604\n",
      "0.8239473684210527\n",
      "0.6711111111111111\n",
      "0.7729326332422307\n"
     ]
    }
   ],
   "source": [
    "print(statistics.mean(scores_prec),statistics.stdev(scores_prec))\n",
    "print(statistics.mean(scores_acc))\n",
    "print(statistics.mean(scores_recall))\n",
    "print(statistics.mean(scores_f1))"
   ]
  },
  {
   "cell_type": "code",
   "execution_count": 20,
   "metadata": {},
   "outputs": [],
   "source": [
    "# prints accuracy and displays confusion table as heatmap\n",
    "def accurcay_confusion_heatmap(test_df, predictions, target):\n",
    "    conf_mat = confusion_matrix(test_df.loc[:,target], predictions)\n",
    "    print(conf_mat)\n",
    "    # Model Accuracy, how often is the classifier correct?\n",
    "    print(\"Accuracy:\",metrics.accuracy_score(test_df.loc[:,target], predictions))\n",
    "    # helper df for heatmap\n",
    "    df_cm = pd.DataFrame(conf_mat, range(2), range(2))\n",
    "    # plt.figure(figsize=(10,7))\n",
    "    sns.set(font_scale=1.4) # for label size\n",
    "    sns.heatmap(df_cm, annot=True, annot_kws={\"size\": 4}) # font size\n",
    "\n",
    "    plt.show()"
   ]
  },
  {
   "cell_type": "markdown",
   "metadata": {},
   "source": [
    "### Supervised model for count data"
   ]
  },
  {
   "cell_type": "code",
   "execution_count": 21,
   "metadata": {},
   "outputs": [
    {
     "data": {
      "text/plain": [
       "{'bootstrap': True,\n",
       " 'ccp_alpha': 0.0,\n",
       " 'class_weight': None,\n",
       " 'criterion': 'gini',\n",
       " 'max_depth': None,\n",
       " 'max_features': 'auto',\n",
       " 'max_leaf_nodes': None,\n",
       " 'max_samples': None,\n",
       " 'min_impurity_decrease': 0.0,\n",
       " 'min_impurity_split': None,\n",
       " 'min_samples_leaf': 1,\n",
       " 'min_samples_split': 2,\n",
       " 'min_weight_fraction_leaf': 0.0,\n",
       " 'n_estimators': 200,\n",
       " 'n_jobs': None,\n",
       " 'oob_score': False,\n",
       " 'random_state': None,\n",
       " 'verbose': 0,\n",
       " 'warm_start': False}"
      ]
     },
     "execution_count": 21,
     "metadata": {},
     "output_type": "execute_result"
    }
   ],
   "source": [
    "count_rf_clf = train_test_rf(train_df_counts, \"is_contamined\")\n",
    "count_pred_rf = count_rf_clf.predict(test_df_counts.drop(columns=[\"is_contamined\"]))\n",
    "\n",
    "rf_default_values = count_rf_clf.get_params()\n",
    "rf_default_values"
   ]
  },
  {
   "cell_type": "code",
   "execution_count": 22,
   "metadata": {},
   "outputs": [
    {
     "name": "stdout",
     "output_type": "stream",
     "text": [
      "('              precision    recall  f1-score   support\\n'\n",
      " '\\n'\n",
      " '           0       0.83      0.94      0.88        32\\n'\n",
      " '           1       0.92      0.79      0.85        28\\n'\n",
      " '\\n'\n",
      " '    accuracy                           0.87        60\\n'\n",
      " '   macro avg       0.88      0.86      0.86        60\\n'\n",
      " 'weighted avg       0.87      0.87      0.87        60\\n')\n"
     ]
    }
   ],
   "source": [
    "clf_report_count = metrics.classification_report(test_df_counts.is_contamined, count_pred_rf)\n",
    "pp.pprint(clf_report_count)"
   ]
  },
  {
   "cell_type": "code",
   "execution_count": 23,
   "metadata": {},
   "outputs": [
    {
     "name": "stdout",
     "output_type": "stream",
     "text": [
      "[[30  2]\n",
      " [ 6 22]]\n",
      "Accuracy: 0.8666666666666667\n"
     ]
    },
    {
     "data": {
      "image/png": "[encoded data removed]",
      "text/plain": [
       "<Figure size 720x288 with 2 Axes>"
      ]
     },
     "metadata": {},
     "output_type": "display_data"
    }
   ],
   "source": [
    "accurcay_confusion_heatmap(test_df_counts, count_pred_rf, \"is_contamined\")"
   ]
  },
  {
   "cell_type": "markdown",
   "metadata": {},
   "source": [
    "### Supervised model for meta data"
   ]
  },
  {
   "cell_type": "code",
   "execution_count": 24,
   "metadata": {},
   "outputs": [
    {
     "name": "stdout",
     "output_type": "stream",
     "text": [
      "('              precision    recall  f1-score   support\\n'\n",
      " '\\n'\n",
      " '           0       1.00      1.00      1.00        27\\n'\n",
      " '           1       1.00      1.00      1.00        25\\n'\n",
      " '\\n'\n",
      " '    accuracy                           1.00        52\\n'\n",
      " '   macro avg       1.00      1.00      1.00        52\\n'\n",
      " 'weighted avg       1.00      1.00      1.00        52\\n')\n"
     ]
    }
   ],
   "source": [
    "meta_rf_clf = train_test_rf(train_df_meta, \"is_contamined\")\n",
    "meta_pred_rf = meta_rf_clf.predict(test_df_meta.drop(columns=[\"is_contamined\"]))\n",
    "metrics.accuracy_score(test_df_meta.is_contamined, meta_pred_rf)\n",
    "clf_report_rf_meta = metrics.classification_report(test_df_meta.is_contamined, meta_pred_rf)\n",
    "pp.pprint(clf_report_rf_meta)"
   ]
  },
  {
   "cell_type": "markdown",
   "metadata": {},
   "source": [
    "\n",
    "## Task 5.1\n",
    "\n",
    "To get a insight what was differnt on the contamined plates, respectively which features contributet to the contamination, I now investigate the feature importance of the RF."
   ]
  },
  {
   "cell_type": "code",
   "execution_count": 25,
   "metadata": {},
   "outputs": [],
   "source": [
    "def plt_feat_importance(clf, target_var, features):\n",
    "    \n",
    "    feat_importances = pd.Series(clf.feature_importances_, index=features)\n",
    "    feat_importances.nlargest(10).plot(kind='barh')\n",
    "    plt.xlabel(\"Mean Decrease Impurity\", fontsize = 18)\n",
    "\n",
    "    return feat_importances"
   ]
  },
  {
   "cell_type": "code",
   "execution_count": 26,
   "metadata": {},
   "outputs": [
    {
     "data": {
      "text/html": [
       "<div>\n",
       "<style scoped>\n",
       "    .dataframe tbody tr th:only-of-type {\n",
       "        vertical-align: middle;\n",
       "    }\n",
       "\n",
       "    .dataframe tbody tr th {\n",
       "        vertical-align: top;\n",
       "    }\n",
       "\n",
       "    .dataframe thead th {\n",
       "        text-align: right;\n",
       "    }\n",
       "</style>\n",
       "<table border=\"1\" class=\"dataframe\">\n",
       "  <thead>\n",
       "    <tr style=\"text-align: right;\">\n",
       "      <th></th>\n",
       "      <th>otu1</th>\n",
       "      <th>otu2</th>\n",
       "      <th>otu3</th>\n",
       "      <th>otu4</th>\n",
       "      <th>otu5</th>\n",
       "      <th>otu6</th>\n",
       "      <th>otu7</th>\n",
       "      <th>otu8</th>\n",
       "      <th>otu9</th>\n",
       "      <th>otu10</th>\n",
       "      <th>...</th>\n",
       "      <th>otu1555</th>\n",
       "      <th>otu1556</th>\n",
       "      <th>otu1557</th>\n",
       "      <th>otu1558</th>\n",
       "      <th>otu1559</th>\n",
       "      <th>otu1560</th>\n",
       "      <th>otu1561</th>\n",
       "      <th>otu1562</th>\n",
       "      <th>otu1563</th>\n",
       "      <th>otu1564</th>\n",
       "    </tr>\n",
       "  </thead>\n",
       "  <tbody>\n",
       "    <tr>\n",
       "      <th>Unnamed: 0</th>\n",
       "      <td>0</td>\n",
       "      <td>1</td>\n",
       "      <td>2</td>\n",
       "      <td>3</td>\n",
       "      <td>4</td>\n",
       "      <td>5</td>\n",
       "      <td>6</td>\n",
       "      <td>7</td>\n",
       "      <td>8</td>\n",
       "      <td>9</td>\n",
       "      <td>...</td>\n",
       "      <td>1554</td>\n",
       "      <td>1555</td>\n",
       "      <td>1556</td>\n",
       "      <td>1557</td>\n",
       "      <td>1558</td>\n",
       "      <td>1559</td>\n",
       "      <td>1560</td>\n",
       "      <td>1561</td>\n",
       "      <td>1562</td>\n",
       "      <td>1563</td>\n",
       "    </tr>\n",
       "    <tr>\n",
       "      <th>otu</th>\n",
       "      <td>otu1</td>\n",
       "      <td>otu2</td>\n",
       "      <td>otu3</td>\n",
       "      <td>otu4</td>\n",
       "      <td>otu5</td>\n",
       "      <td>otu6</td>\n",
       "      <td>otu7</td>\n",
       "      <td>otu8</td>\n",
       "      <td>otu9</td>\n",
       "      <td>otu10</td>\n",
       "      <td>...</td>\n",
       "      <td>otu1555</td>\n",
       "      <td>otu1556</td>\n",
       "      <td>otu1557</td>\n",
       "      <td>otu1558</td>\n",
       "      <td>otu1559</td>\n",
       "      <td>otu1560</td>\n",
       "      <td>otu1561</td>\n",
       "      <td>otu1562</td>\n",
       "      <td>otu1563</td>\n",
       "      <td>otu1564</td>\n",
       "    </tr>\n",
       "    <tr>\n",
       "      <th>seq</th>\n",
       "      <td>TACGGAGGATGCGAGCGTTATCCGGATTTATTGGGTTTAAAGGGTG...</td>\n",
       "      <td>TACGTAGGTGGCAAGCGTTGTCCGGATTTATTGGGCGTAAAGCGCG...</td>\n",
       "      <td>TACGGAGGATGCGAGCGTTATCCGGATTTATTGGGTTTAAAGGGTG...</td>\n",
       "      <td>TACGTAGGGGGCAAGCGTTATCCGGATTTACTGGGTGTAAAGGGAG...</td>\n",
       "      <td>TACGTAGGGGGCAAGCGTTATCCGGATTTACTGGGTGTAAAGGGAG...</td>\n",
       "      <td>TACGGAGGGTGCGAGCGTTAATCGGAATTACTGGGCGTAAAGCGCT...</td>\n",
       "      <td>TACGGAGGATGCGAGCGTTATCCGGATTTATTGGGTTTAAAGGGTG...</td>\n",
       "      <td>TACGGAGGATGCGAGCGTTATCCGGATTTATTGGGTTTAAAGGGTG...</td>\n",
       "      <td>TACGGAGGATGCGAGCGTTATCCGGATTTATTGGGTTTAAAGGGTG...</td>\n",
       "      <td>TACGTAGGGGGCAAGCGTTATCCGGATTTACTGGGTGTAAAGGGAG...</td>\n",
       "      <td>...</td>\n",
       "      <td>TACGGAGGATGCGAGCGTTATCCGGATTTATTGGGTTTAAAGGGAG...</td>\n",
       "      <td>CGTCGGCAGCGTCAGATGTGTATAAGAGACAGTGCAGGTGCCAGCA...</td>\n",
       "      <td>TACGGAGGATGCGAGCGTTATCCGGATTTACTGGGTGTAAAGGGGG...</td>\n",
       "      <td>TACGTAGGGGGCAAGCGTTATCCGGATTTACTGGGTGTAAAGGGGG...</td>\n",
       "      <td>TACGTAGGGGGCAAGCGTTATCCGGATTCACTGGGCGTAAAGGGAG...</td>\n",
       "      <td>TACGTAGGGTGCGAGCGTTAATCGGAATTACTGGGCGTAAAGGGTG...</td>\n",
       "      <td>TACGGAGGATCCAAGCGTTATCCGGATTTATTGGGTTTAAAGGGTG...</td>\n",
       "      <td>TACGGAGGATTCAAGCGTTATCCGGATTTACTGGGTGTAAAGGGAG...</td>\n",
       "      <td>TACGGAGGGTGCGAGCGTTAATCGGAATTACTGGGTGTAAAGGGAG...</td>\n",
       "      <td>TACGTAGGTGGCAAGCGTTGTCCGGATTTACTGGGCGTAAAGGGAG...</td>\n",
       "    </tr>\n",
       "    <tr>\n",
       "      <th>tax</th>\n",
       "      <td>rootrank;Root;62.12|domain;Bacteria;62.12|phyl...</td>\n",
       "      <td>rootrank;Root;100|domain;Bacteria;100|phylum;F...</td>\n",
       "      <td>rootrank;Root;72.8|domain;Bacteria;72.8|phylum...</td>\n",
       "      <td>rootrank;Root;98.27|domain;Bacteria;98.27|phyl...</td>\n",
       "      <td>rootrank;Root;100|domain;Bacteria;100|phylum;F...</td>\n",
       "      <td>rootrank;Root;57.53|domain;Bacteria;57.53|phyl...</td>\n",
       "      <td>rootrank;Root;64.9|domain;Bacteria;64.44|phylu...</td>\n",
       "      <td>rootrank;Root;66.29|domain;Bacteria;66.29|phyl...</td>\n",
       "      <td>rootrank;Root;67.98|domain;Bacteria;67.98|phyl...</td>\n",
       "      <td>rootrank;Root;100|domain;Bacteria;100|phylum;F...</td>\n",
       "      <td>...</td>\n",
       "      <td>rootrank;Root;62.98|domain;Bacteria;62.98|phyl...</td>\n",
       "      <td>rootrank;Root;48.03|domain;Bacteria;45.85|phyl...</td>\n",
       "      <td>rootrank;Root;68.61|domain;Bacteria;68.61|phyl...</td>\n",
       "      <td>rootrank;Root;75.6|domain;Bacteria;75.6|phylum...</td>\n",
       "      <td>rootrank;Root;83.43|domain;Bacteria;83.43|phyl...</td>\n",
       "      <td>rootrank;Root;58.62|domain;Bacteria;58.62|phyl...</td>\n",
       "      <td>rootrank;Root;60.66|domain;Bacteria;60.66|phyl...</td>\n",
       "      <td>rootrank;Root;64.48|domain;Bacteria;64.48|phyl...</td>\n",
       "      <td>rootrank;Root;68.38|domain;Bacteria;68.38|phyl...</td>\n",
       "      <td>rootrank;Root;74.04|domain;Bacteria;74.04|phyl...</td>\n",
       "    </tr>\n",
       "  </tbody>\n",
       "</table>\n",
       "<p>4 rows × 1564 columns</p>\n",
       "</div>"
      ],
      "text/plain": [
       "                                                         otu1  \\\n",
       "Unnamed: 0                                                  0   \n",
       "otu                                                      otu1   \n",
       "seq         TACGGAGGATGCGAGCGTTATCCGGATTTATTGGGTTTAAAGGGTG...   \n",
       "tax         rootrank;Root;62.12|domain;Bacteria;62.12|phyl...   \n",
       "\n",
       "                                                         otu2  \\\n",
       "Unnamed: 0                                                  1   \n",
       "otu                                                      otu2   \n",
       "seq         TACGTAGGTGGCAAGCGTTGTCCGGATTTATTGGGCGTAAAGCGCG...   \n",
       "tax         rootrank;Root;100|domain;Bacteria;100|phylum;F...   \n",
       "\n",
       "                                                         otu3  \\\n",
       "Unnamed: 0                                                  2   \n",
       "otu                                                      otu3   \n",
       "seq         TACGGAGGATGCGAGCGTTATCCGGATTTATTGGGTTTAAAGGGTG...   \n",
       "tax         rootrank;Root;72.8|domain;Bacteria;72.8|phylum...   \n",
       "\n",
       "                                                         otu4  \\\n",
       "Unnamed: 0                                                  3   \n",
       "otu                                                      otu4   \n",
       "seq         TACGTAGGGGGCAAGCGTTATCCGGATTTACTGGGTGTAAAGGGAG...   \n",
       "tax         rootrank;Root;98.27|domain;Bacteria;98.27|phyl...   \n",
       "\n",
       "                                                         otu5  \\\n",
       "Unnamed: 0                                                  4   \n",
       "otu                                                      otu5   \n",
       "seq         TACGTAGGGGGCAAGCGTTATCCGGATTTACTGGGTGTAAAGGGAG...   \n",
       "tax         rootrank;Root;100|domain;Bacteria;100|phylum;F...   \n",
       "\n",
       "                                                         otu6  \\\n",
       "Unnamed: 0                                                  5   \n",
       "otu                                                      otu6   \n",
       "seq         TACGGAGGGTGCGAGCGTTAATCGGAATTACTGGGCGTAAAGCGCT...   \n",
       "tax         rootrank;Root;57.53|domain;Bacteria;57.53|phyl...   \n",
       "\n",
       "                                                         otu7  \\\n",
       "Unnamed: 0                                                  6   \n",
       "otu                                                      otu7   \n",
       "seq         TACGGAGGATGCGAGCGTTATCCGGATTTATTGGGTTTAAAGGGTG...   \n",
       "tax         rootrank;Root;64.9|domain;Bacteria;64.44|phylu...   \n",
       "\n",
       "                                                         otu8  \\\n",
       "Unnamed: 0                                                  7   \n",
       "otu                                                      otu8   \n",
       "seq         TACGGAGGATGCGAGCGTTATCCGGATTTATTGGGTTTAAAGGGTG...   \n",
       "tax         rootrank;Root;66.29|domain;Bacteria;66.29|phyl...   \n",
       "\n",
       "                                                         otu9  \\\n",
       "Unnamed: 0                                                  8   \n",
       "otu                                                      otu9   \n",
       "seq         TACGGAGGATGCGAGCGTTATCCGGATTTATTGGGTTTAAAGGGTG...   \n",
       "tax         rootrank;Root;67.98|domain;Bacteria;67.98|phyl...   \n",
       "\n",
       "                                                        otu10  ...  \\\n",
       "Unnamed: 0                                                  9  ...   \n",
       "otu                                                     otu10  ...   \n",
       "seq         TACGTAGGGGGCAAGCGTTATCCGGATTTACTGGGTGTAAAGGGAG...  ...   \n",
       "tax         rootrank;Root;100|domain;Bacteria;100|phylum;F...  ...   \n",
       "\n",
       "                                                      otu1555  \\\n",
       "Unnamed: 0                                               1554   \n",
       "otu                                                   otu1555   \n",
       "seq         TACGGAGGATGCGAGCGTTATCCGGATTTATTGGGTTTAAAGGGAG...   \n",
       "tax         rootrank;Root;62.98|domain;Bacteria;62.98|phyl...   \n",
       "\n",
       "                                                      otu1556  \\\n",
       "Unnamed: 0                                               1555   \n",
       "otu                                                   otu1556   \n",
       "seq         CGTCGGCAGCGTCAGATGTGTATAAGAGACAGTGCAGGTGCCAGCA...   \n",
       "tax         rootrank;Root;48.03|domain;Bacteria;45.85|phyl...   \n",
       "\n",
       "                                                      otu1557  \\\n",
       "Unnamed: 0                                               1556   \n",
       "otu                                                   otu1557   \n",
       "seq         TACGGAGGATGCGAGCGTTATCCGGATTTACTGGGTGTAAAGGGGG...   \n",
       "tax         rootrank;Root;68.61|domain;Bacteria;68.61|phyl...   \n",
       "\n",
       "                                                      otu1558  \\\n",
       "Unnamed: 0                                               1557   \n",
       "otu                                                   otu1558   \n",
       "seq         TACGTAGGGGGCAAGCGTTATCCGGATTTACTGGGTGTAAAGGGGG...   \n",
       "tax         rootrank;Root;75.6|domain;Bacteria;75.6|phylum...   \n",
       "\n",
       "                                                      otu1559  \\\n",
       "Unnamed: 0                                               1558   \n",
       "otu                                                   otu1559   \n",
       "seq         TACGTAGGGGGCAAGCGTTATCCGGATTCACTGGGCGTAAAGGGAG...   \n",
       "tax         rootrank;Root;83.43|domain;Bacteria;83.43|phyl...   \n",
       "\n",
       "                                                      otu1560  \\\n",
       "Unnamed: 0                                               1559   \n",
       "otu                                                   otu1560   \n",
       "seq         TACGTAGGGTGCGAGCGTTAATCGGAATTACTGGGCGTAAAGGGTG...   \n",
       "tax         rootrank;Root;58.62|domain;Bacteria;58.62|phyl...   \n",
       "\n",
       "                                                      otu1561  \\\n",
       "Unnamed: 0                                               1560   \n",
       "otu                                                   otu1561   \n",
       "seq         TACGGAGGATCCAAGCGTTATCCGGATTTATTGGGTTTAAAGGGTG...   \n",
       "tax         rootrank;Root;60.66|domain;Bacteria;60.66|phyl...   \n",
       "\n",
       "                                                      otu1562  \\\n",
       "Unnamed: 0                                               1561   \n",
       "otu                                                   otu1562   \n",
       "seq         TACGGAGGATTCAAGCGTTATCCGGATTTACTGGGTGTAAAGGGAG...   \n",
       "tax         rootrank;Root;64.48|domain;Bacteria;64.48|phyl...   \n",
       "\n",
       "                                                      otu1563  \\\n",
       "Unnamed: 0                                               1562   \n",
       "otu                                                   otu1563   \n",
       "seq         TACGGAGGGTGCGAGCGTTAATCGGAATTACTGGGTGTAAAGGGAG...   \n",
       "tax         rootrank;Root;68.38|domain;Bacteria;68.38|phyl...   \n",
       "\n",
       "                                                      otu1564  \n",
       "Unnamed: 0                                               1563  \n",
       "otu                                                   otu1564  \n",
       "seq         TACGTAGGTGGCAAGCGTTGTCCGGATTTACTGGGCGTAAAGGGAG...  \n",
       "tax         rootrank;Root;74.04|domain;Bacteria;74.04|phyl...  \n",
       "\n",
       "[4 rows x 1564 columns]"
      ]
     },
     "execution_count": 26,
     "metadata": {},
     "output_type": "execute_result"
    }
   ],
   "source": [
    "otu_info_helper.head()"
   ]
  },
  {
   "cell_type": "code",
   "execution_count": 27,
   "metadata": {},
   "outputs": [
    {
     "data": {
      "image/png": "[encoded data removed]",
      "text/plain": [
       "<Figure size 720x288 with 1 Axes>"
      ]
     },
     "metadata": {},
     "output_type": "display_data"
    }
   ],
   "source": [
    "# plot feature importance for count data\n",
    "importance = plt_feat_importance(count_rf_clf, \"is_contamined\", otu_info_helper.columns)\n"
   ]
  },
  {
   "cell_type": "code",
   "execution_count": 28,
   "metadata": {},
   "outputs": [
    {
     "data": {
      "text/plain": [
       "otu1       0.001795\n",
       "otu2       0.000645\n",
       "otu3       0.002293\n",
       "otu4       0.000273\n",
       "otu5       0.001648\n",
       "             ...   \n",
       "otu1560    0.000000\n",
       "otu1561    0.000000\n",
       "otu1562    0.000000\n",
       "otu1563    0.000000\n",
       "otu1564    0.000000\n",
       "Length: 1564, dtype: float64"
      ]
     },
     "execution_count": 28,
     "metadata": {},
     "output_type": "execute_result"
    },
    {
     "data": {
      "image/png": "[encoded data removed]",
      "text/plain": [
       "<Figure size 720x288 with 1 Axes>"
      ]
     },
     "metadata": {},
     "output_type": "display_data"
    }
   ],
   "source": [
    " plt_feat_importance(count_rf_clf, \"is_contamined\", otu_info_helper.columns)"
   ]
  },
  {
   "cell_type": "code",
   "execution_count": 29,
   "metadata": {},
   "outputs": [
    {
     "data": {
      "text/plain": [
       "Index(['Rearing_LAB ', 'Age_weeks', 'sample_type', 'extraction_date',\n",
       "       'extraction_run', 'extracted_by', 'DNA_elution_Vol_ul',\n",
       "       'Quantification_method', 'DNA_conc_ng_ul', '260 / 280', '230 / 260',\n",
       "       '16S_PCR_date', 'PCR_row', 'PCR_position', 'library_conc_ng_ul',\n",
       "       'FA_kit_used', 'repeat_library_prep', 'library_prep_attempt',\n",
       "       'Use_for_pooling', 'Dilution_factor', 'Vol_EB_ul', 'Vol_DNA_ul',\n",
       "       'light_cycle', 'cage_type', 'bedding_material', 'bedding_autoclaved',\n",
       "       'house_present', 'roll_present', 'enrichment_autoclaved', 'diet',\n",
       "       'diet_treatment', 'water_autoclaved', 'water_chlorinated',\n",
       "       'mean_room_temp_C', 'room_humidity', 'other_animals_present',\n",
       "       'other_animals_present_kind', 'housing_room_condition', 'tail_handling',\n",
       "       'Notes', 'median_count', 'is_contamined'],\n",
       "      dtype='object')"
      ]
     },
     "execution_count": 29,
     "metadata": {},
     "output_type": "execute_result"
    }
   ],
   "source": [
    "\n",
    "\n",
    "meta_df.columns"
   ]
  },
  {
   "cell_type": "code",
   "execution_count": 30,
   "metadata": {},
   "outputs": [
    {
     "data": {
      "text/plain": [
       "Rearing_LAB                   0.001002\n",
       "Age_weeks                     0.042199\n",
       "sample_type                   0.000000\n",
       "extraction_date               0.024910\n",
       "extraction_run                0.191823\n",
       "extracted_by                  0.003018\n",
       "DNA_elution_Vol_ul            0.028419\n",
       "Quantification_method         0.039261\n",
       "DNA_conc_ng_ul                0.006448\n",
       "260 / 280                     0.011789\n",
       "230 / 260                     0.003637\n",
       "16S_PCR_date                  0.240368\n",
       "PCR_row                       0.006543\n",
       "PCR_position                  0.003541\n",
       "library_conc_ng_ul            0.014808\n",
       "FA_kit_used                   0.134554\n",
       "repeat_library_prep           0.000000\n",
       "library_prep_attempt          0.205869\n",
       "Use_for_pooling               0.000000\n",
       "Dilution_factor               0.020761\n",
       "Vol_EB_ul                     0.007793\n",
       "Vol_DNA_ul                    0.000000\n",
       "light_cycle                   0.000098\n",
       "cage_type                     0.001770\n",
       "bedding_material              0.000205\n",
       "bedding_autoclaved            0.000132\n",
       "house_present                 0.000556\n",
       "roll_present                  0.000484\n",
       "enrichment_autoclaved         0.000025\n",
       "diet                          0.000943\n",
       "diet_treatment                0.000724\n",
       "water_autoclaved              0.000133\n",
       "water_chlorinated             0.000175\n",
       "mean_room_temp_C              0.000863\n",
       "room_humidity                 0.001483\n",
       "other_animals_present         0.000000\n",
       "other_animals_present_kind    0.001140\n",
       "housing_room_condition        0.000000\n",
       "tail_handling                 0.000679\n",
       "Notes                         0.003846\n",
       "median_count                  0.000000\n",
       "dtype: float64"
      ]
     },
     "execution_count": 30,
     "metadata": {},
     "output_type": "execute_result"
    },
    {
     "data": {
      "image/png": "[encoded data removed]",
      "text/plain": [
       "<Figure size 720x288 with 1 Axes>"
      ]
     },
     "metadata": {},
     "output_type": "display_data"
    }
   ],
   "source": [
    "# plot feature importance for meta data\n",
    "plt_feat_importance(meta_rf_clf, \"is_contamined\", meta_df.drop(columns=[\"is_contamined\"]).columns)"
   ]
  },
  {
   "cell_type": "markdown",
   "metadata": {},
   "source": [
    "## Shapley Value for feature contribution\n",
    "// TODO describe\n"
   ]
  },
  {
   "cell_type": "code",
   "execution_count": 52,
   "metadata": {},
   "outputs": [],
   "source": [
    "\n",
    "def plot_shap_val(clf, X_train):\n",
    "    \n",
    "    shap_obj  = shap.TreeExplainer(clf)\n",
    "    shap_values = shap_obj.shap_values(X_train)\n",
    "    shap.summary_plot(shap_values, X_train)\n",
    "    return shap_obj"
   ]
  },
  {
   "cell_type": "code",
   "execution_count": 53,
   "metadata": {},
   "outputs": [
    {
     "data": {
      "image/png": "[encoded data removed]",
      "text/plain": [
       "<Figure size 576x684 with 1 Axes>"
      ]
     },
     "metadata": {
      "needs_background": "light"
     },
     "output_type": "display_data"
    }
   ],
   "source": [
    "# get shapley values for count data and plot\n",
    "count_shap_vals = plot_shap_val(count_rf_clf, train_df_counts)\n",
    "\n"
   ]
  },
  {
   "cell_type": "code",
   "execution_count": 54,
   "metadata": {},
   "outputs": [
    {
     "ename": "AttributeError",
     "evalue": "'Tree' object has no attribute 'get_params'",
     "output_type": "error",
     "traceback": [
      "\u001b[0;31m---------------------------------------------------------------------------\u001b[0m",
      "\u001b[0;31mAttributeError\u001b[0m                            Traceback (most recent call last)",
      "\u001b[0;32m<ipython-input-54-1518480d41ed>\u001b[0m in \u001b[0;36m<module>\u001b[0;34m\u001b[0m\n\u001b[0;32m----> 1\u001b[0;31m \u001b[0mcount_shap_vals\u001b[0m\u001b[0;34m.\u001b[0m\u001b[0mget_params\u001b[0m\u001b[0;34m(\u001b[0m\u001b[0;34m)\u001b[0m\u001b[0;34m\u001b[0m\u001b[0;34m\u001b[0m\u001b[0m\n\u001b[0m",
      "\u001b[0;31mAttributeError\u001b[0m: 'Tree' object has no attribute 'get_params'"
     ]
    }
   ],
   "source": [
    "count_shap_vals.get_params()"
   ]
  },
  {
   "cell_type": "code",
   "execution_count": 33,
   "metadata": {},
   "outputs": [
    {
     "data": {
      "image/png": "[encoded data removed]",
      "text/plain": [
       "<Figure size 576x684 with 1 Axes>"
      ]
     },
     "metadata": {},
     "output_type": "display_data"
    }
   ],
   "source": [
    "# geth shapley values and plot for meta data\n",
    "count_meta_vals = plot_shap_val(meta_rf_clf, train_df_meta)"
   ]
  },
  {
   "cell_type": "markdown",
   "metadata": {},
   "source": [
    "## Task 5.2 Multi Layer Perceptron\n",
    "Before I train the model, I need to scale the data (this was not necessary for the Random Forest, because it can deal with unscaled data). I did this during preprocessing and only need to load the data"
   ]
  },
  {
   "cell_type": "code",
   "execution_count": 34,
   "metadata": {},
   "outputs": [],
   "source": [
    "scaled_df = pd.read_csv(\"../data/output/scaled_seq.csv\")\n"
   ]
  },
  {
   "cell_type": "code",
   "execution_count": 35,
   "metadata": {},
   "outputs": [
    {
     "data": {
      "text/plain": [
       "(199, 1565)"
      ]
     },
     "execution_count": 35,
     "metadata": {},
     "output_type": "execute_result"
    }
   ],
   "source": [
    "scaled_df.shape"
   ]
  },
  {
   "cell_type": "code",
   "execution_count": 36,
   "metadata": {},
   "outputs": [
    {
     "data": {
      "text/plain": [
       "(173, 42)"
      ]
     },
     "execution_count": 36,
     "metadata": {},
     "output_type": "execute_result"
    }
   ],
   "source": [
    "meta_df.shape"
   ]
  },
  {
   "cell_type": "code",
   "execution_count": 37,
   "metadata": {},
   "outputs": [
    {
     "name": "stdout",
     "output_type": "stream",
     "text": [
      "[1 1 0 0 1 1 1 0 1 1 0 0 1 0 0 0 0 0 0 0]\n",
      "('              precision    recall  f1-score   support\\n'\n",
      " '\\n'\n",
      " '           0       0.70      0.58      0.64        12\\n'\n",
      " '           1       0.50      0.62      0.56         8\\n'\n",
      " '\\n'\n",
      " '    accuracy                           0.60        20\\n'\n",
      " '   macro avg       0.60      0.60      0.60        20\\n'\n",
      " 'weighted avg       0.62      0.60      0.60        20\\n')\n",
      "0.6\n",
      "[0 0 0 1 0 1 0 1 0 0 0 1 0 0 0 1 1 1 0 0]\n",
      "('              precision    recall  f1-score   support\\n'\n",
      " '\\n'\n",
      " '           0       0.65      1.00      0.79        13\\n'\n",
      " '           1       0.00      0.00      0.00         7\\n'\n",
      " '\\n'\n",
      " '    accuracy                           0.65        20\\n'\n",
      " '   macro avg       0.33      0.50      0.39        20\\n'\n",
      " 'weighted avg       0.42      0.65      0.51        20\\n')\n",
      "0.65\n"
     ]
    },
    {
     "name": "stderr",
     "output_type": "stream",
     "text": [
      "Precision and F-score are ill-defined and being set to 0.0 in labels with no predicted samples. Use `zero_division` parameter to control this behavior.\n"
     ]
    },
    {
     "name": "stdout",
     "output_type": "stream",
     "text": [
      "[0 0 0 0 1 0 0 0 0 0 0 0 0 0 0 0 0 0 0 1]\n",
      "('              precision    recall  f1-score   support\\n'\n",
      " '\\n'\n",
      " '           0       0.90      1.00      0.95        18\\n'\n",
      " '           1       0.00      0.00      0.00         2\\n'\n",
      " '\\n'\n",
      " '    accuracy                           0.90        20\\n'\n",
      " '   macro avg       0.45      0.50      0.47        20\\n'\n",
      " 'weighted avg       0.81      0.90      0.85        20\\n')\n",
      "0.9\n"
     ]
    },
    {
     "name": "stderr",
     "output_type": "stream",
     "text": [
      "Precision and F-score are ill-defined and being set to 0.0 in labels with no predicted samples. Use `zero_division` parameter to control this behavior.\n"
     ]
    },
    {
     "name": "stdout",
     "output_type": "stream",
     "text": [
      "[0 0 0 0 0 0 0 0 0 0 0 0 1 0 1 1 0 0 1 1]\n",
      "('              precision    recall  f1-score   support\\n'\n",
      " '\\n'\n",
      " '           0       0.88      0.93      0.90        15\\n'\n",
      " '           1       0.75      0.60      0.67         5\\n'\n",
      " '\\n'\n",
      " '    accuracy                           0.85        20\\n'\n",
      " '   macro avg       0.81      0.77      0.78        20\\n'\n",
      " 'weighted avg       0.84      0.85      0.84        20\\n')\n",
      "0.85\n",
      "[1 0 1 0 1 1 0 1 0 0 0 1 0 1 0 0 0 0 0 0]\n",
      "('              precision    recall  f1-score   support\\n'\n",
      " '\\n'\n",
      " '           0       0.75      0.69      0.72        13\\n'\n",
      " '           1       0.50      0.57      0.53         7\\n'\n",
      " '\\n'\n",
      " '    accuracy                           0.65        20\\n'\n",
      " '   macro avg       0.62      0.63      0.63        20\\n'\n",
      " 'weighted avg       0.66      0.65      0.65        20\\n')\n",
      "0.65\n",
      "[0 0 0 0 0 0 0 1 0 0 0 0 0 0 0 0 0 0 1 0]\n",
      "('              precision    recall  f1-score   support\\n'\n",
      " '\\n'\n",
      " '           0       0.91      0.56      0.69        18\\n'\n",
      " '           1       0.11      0.50      0.18         2\\n'\n",
      " '\\n'\n",
      " '    accuracy                           0.55        20\\n'\n",
      " '   macro avg       0.51      0.53      0.44        20\\n'\n",
      " 'weighted avg       0.83      0.55      0.64        20\\n')\n",
      "0.55\n",
      "[1 1 1 1 1 1 1 1 1 1 1 1 1 1 1 1 1 1 1 1]\n",
      "('              precision    recall  f1-score   support\\n'\n",
      " '\\n'\n",
      " '           0       0.00      0.00      0.00         0\\n'\n",
      " '           1       1.00      0.25      0.40        20\\n'\n",
      " '\\n'\n",
      " '    accuracy                           0.25        20\\n'\n",
      " '   macro avg       0.50      0.12      0.20        20\\n'\n",
      " 'weighted avg       1.00      0.25      0.40        20\\n')\n",
      "0.25\n"
     ]
    },
    {
     "name": "stderr",
     "output_type": "stream",
     "text": [
      "Recall and F-score are ill-defined and being set to 0.0 in labels with no true samples. Use `zero_division` parameter to control this behavior.\n"
     ]
    },
    {
     "name": "stdout",
     "output_type": "stream",
     "text": [
      "[1 1 1 1 1 1 1 1 1 1 1 1 1 1 1 1 1 1 1 1]\n",
      "('              precision    recall  f1-score   support\\n'\n",
      " '\\n'\n",
      " '           0       0.00      0.00      0.00         0\\n'\n",
      " '           1       1.00      0.95      0.97        20\\n'\n",
      " '\\n'\n",
      " '    accuracy                           0.95        20\\n'\n",
      " '   macro avg       0.50      0.47      0.49        20\\n'\n",
      " 'weighted avg       1.00      0.95      0.97        20\\n')\n",
      "0.95\n"
     ]
    },
    {
     "name": "stderr",
     "output_type": "stream",
     "text": [
      "Recall and F-score are ill-defined and being set to 0.0 in labels with no true samples. Use `zero_division` parameter to control this behavior.\n"
     ]
    },
    {
     "name": "stdout",
     "output_type": "stream",
     "text": [
      "[1 1 0 1 1 1 1 1 1 0 1 1 1 0 1 0 0 0 1 0]\n",
      "('              precision    recall  f1-score   support\\n'\n",
      " '\\n'\n",
      " '           0       0.00      0.00      0.00         7\\n'\n",
      " '           1       0.63      0.92      0.75        13\\n'\n",
      " '\\n'\n",
      " '    accuracy                           0.60        20\\n'\n",
      " '   macro avg       0.32      0.46      0.37        20\\n'\n",
      " 'weighted avg       0.41      0.60      0.49        20\\n')\n",
      "0.6\n",
      "[0 1 0 1 1 1 0 1 0 0 0 1 1 0 1 1 1 1 0]\n",
      "('              precision    recall  f1-score   support\\n'\n",
      " '\\n'\n",
      " '           0       0.00      0.00      0.00         8\\n'\n",
      " '           1       0.58      1.00      0.73        11\\n'\n",
      " '\\n'\n",
      " '    accuracy                           0.58        19\\n'\n",
      " '   macro avg       0.29      0.50      0.37        19\\n'\n",
      " 'weighted avg       0.34      0.58      0.42        19\\n')\n",
      "0.5789473684210527\n"
     ]
    },
    {
     "name": "stderr",
     "output_type": "stream",
     "text": [
      "Precision and F-score are ill-defined and being set to 0.0 in labels with no predicted samples. Use `zero_division` parameter to control this behavior.\n"
     ]
    }
   ],
   "source": [
    "model = MLPClassifier() \n",
    "is_contamined = whole_meta_df.is_contamined\n",
    "is_contamined.index = range(len(is_contamined))\n",
    "scaled_df.index = range(len(scaled_df))\n",
    "scaled_df = scaled_df.drop(scaled_df.columns[0], axis=1)\n",
    "\n",
    "# cv_results = cross_validate(model,scaled_df, is_contamined, cv=10, \n",
    "#                             return_train_score=False, \n",
    "#                             scoring=model.score) \n",
    "# print(\"Fit scores: {}\".format(cv_results['test_score']))\n",
    "\n",
    "from sklearn.model_selection import KFold\n",
    "kf = KFold(n_splits=10)\n",
    "clf = MLPClassifier()\n",
    "score_list = []\n",
    "report_list = []\n",
    "for train_indices, test_indices in kf.split(scaled_df):\n",
    "    clf.fit(scaled_df.iloc[train_indices,:], is_contamined[train_indices])\n",
    "    pred = clf.predict(scaled_df.iloc[test_indices,:])\n",
    "    print(pred)\n",
    "    cur_report = metrics.classification_report(pred, is_contamined[test_indices])\n",
    "    cur_score = clf.score(scaled_df.iloc[test_indices,:], is_contamined[test_indices])\n",
    "    score_list.append(cur_score)\n",
    "    report_list.append(cur_report)\n",
    "    pp.pprint(cur_report)\n",
    "    print(cur_score)"
   ]
  },
  {
   "cell_type": "code",
   "execution_count": 38,
   "metadata": {},
   "outputs": [
    {
     "data": {
      "text/plain": [
       "4.93"
      ]
     },
     "execution_count": 38,
     "metadata": {},
     "output_type": "execute_result"
    }
   ],
   "source": [
    "statistics.median(score_list)\n",
    "1+1+0.94+0.94+0.25+0/29+0.5+0.3+0"
   ]
  },
  {
   "cell_type": "code",
   "execution_count": 39,
   "metadata": {},
   "outputs": [
    {
     "data": {
      "text/plain": [
       "0.6578947368421053"
      ]
     },
     "execution_count": 39,
     "metadata": {},
     "output_type": "execute_result"
    }
   ],
   "source": [
    "statistics.mean(score_list)"
   ]
  },
  {
   "cell_type": "code",
   "execution_count": 40,
   "metadata": {},
   "outputs": [
    {
     "data": {
      "text/plain": [
       "{'activation': 'relu',\n",
       " 'alpha': 0.0001,\n",
       " 'batch_size': 'auto',\n",
       " 'beta_1': 0.9,\n",
       " 'beta_2': 0.999,\n",
       " 'early_stopping': False,\n",
       " 'epsilon': 1e-08,\n",
       " 'hidden_layer_sizes': (100,),\n",
       " 'learning_rate': 'constant',\n",
       " 'learning_rate_init': 0.001,\n",
       " 'max_fun': 15000,\n",
       " 'max_iter': 200,\n",
       " 'momentum': 0.9,\n",
       " 'n_iter_no_change': 10,\n",
       " 'nesterovs_momentum': True,\n",
       " 'power_t': 0.5,\n",
       " 'random_state': None,\n",
       " 'shuffle': True,\n",
       " 'solver': 'adam',\n",
       " 'tol': 0.0001,\n",
       " 'validation_fraction': 0.1,\n",
       " 'verbose': False,\n",
       " 'warm_start': False}"
      ]
     },
     "execution_count": 40,
     "metadata": {},
     "output_type": "execute_result"
    }
   ],
   "source": [
    "clf.get_params()"
   ]
  },
  {
   "cell_type": "markdown",
   "metadata": {},
   "source": [
    "## Result Analyse\n",
    "I will create boxplots of the most important and least important otus"
   ]
  },
  {
   "cell_type": "code",
   "execution_count": 41,
   "metadata": {},
   "outputs": [
    {
     "data": {
      "text/plain": [
       "[257, 72, 514, 266, 35, 146, 7, 803, 47, 234]"
      ]
     },
     "execution_count": 41,
     "metadata": {},
     "output_type": "execute_result"
    }
   ],
   "source": [
    "most_important = importance.nlargest(10)\n",
    "most_important_names = list(most_important.index)\n",
    "most_important_ind = [int(x[3:]) for x in most_important_names]\n",
    "most_important_ind"
   ]
  },
  {
   "cell_type": "code",
   "execution_count": 42,
   "metadata": {},
   "outputs": [
    {
     "data": {
      "text/plain": [
       "otu61     0.0\n",
       "otu225    0.0\n",
       "otu272    0.0\n",
       "otu281    0.0\n",
       "otu340    0.0\n",
       "otu357    0.0\n",
       "otu390    0.0\n",
       "otu396    0.0\n",
       "otu401    0.0\n",
       "otu403    0.0\n",
       "dtype: float64"
      ]
     },
     "execution_count": 42,
     "metadata": {},
     "output_type": "execute_result"
    }
   ],
   "source": [
    "least_important = importance.nsmallest(10)\n",
    "least_important"
   ]
  },
  {
   "cell_type": "code",
   "execution_count": 43,
   "metadata": {},
   "outputs": [
    {
     "data": {
      "text/plain": [
       "[61, 225, 272, 281, 340, 357, 390, 396, 401, 403]"
      ]
     },
     "execution_count": 43,
     "metadata": {},
     "output_type": "execute_result"
    }
   ],
   "source": [
    "least_important_names = list(least_important.index)\n",
    "least_important_ind = [int(x[3:]) for x in least_important_names]\n",
    "least_important_ind"
   ]
  },
  {
   "cell_type": "code",
   "execution_count": 44,
   "metadata": {},
   "outputs": [
    {
     "data": {
      "text/html": [
       "<div>\n",
       "<style scoped>\n",
       "    .dataframe tbody tr th:only-of-type {\n",
       "        vertical-align: middle;\n",
       "    }\n",
       "\n",
       "    .dataframe tbody tr th {\n",
       "        vertical-align: top;\n",
       "    }\n",
       "\n",
       "    .dataframe thead th {\n",
       "        text-align: right;\n",
       "    }\n",
       "</style>\n",
       "<table border=\"1\" class=\"dataframe\">\n",
       "  <thead>\n",
       "    <tr style=\"text-align: right;\">\n",
       "      <th></th>\n",
       "      <th>0</th>\n",
       "      <th>1</th>\n",
       "      <th>2</th>\n",
       "      <th>3</th>\n",
       "      <th>4</th>\n",
       "      <th>5</th>\n",
       "      <th>6</th>\n",
       "      <th>7</th>\n",
       "      <th>8</th>\n",
       "      <th>9</th>\n",
       "      <th>...</th>\n",
       "      <th>1555</th>\n",
       "      <th>1556</th>\n",
       "      <th>1557</th>\n",
       "      <th>1558</th>\n",
       "      <th>1559</th>\n",
       "      <th>1560</th>\n",
       "      <th>1561</th>\n",
       "      <th>1562</th>\n",
       "      <th>1563</th>\n",
       "      <th>is_contamined</th>\n",
       "    </tr>\n",
       "  </thead>\n",
       "  <tbody>\n",
       "    <tr>\n",
       "      <th>100A</th>\n",
       "      <td>121182</td>\n",
       "      <td>0</td>\n",
       "      <td>9921</td>\n",
       "      <td>1351</td>\n",
       "      <td>65360</td>\n",
       "      <td>24331</td>\n",
       "      <td>3858</td>\n",
       "      <td>15493</td>\n",
       "      <td>373</td>\n",
       "      <td>1911</td>\n",
       "      <td>...</td>\n",
       "      <td>0</td>\n",
       "      <td>0</td>\n",
       "      <td>0</td>\n",
       "      <td>0</td>\n",
       "      <td>0</td>\n",
       "      <td>0</td>\n",
       "      <td>0</td>\n",
       "      <td>0</td>\n",
       "      <td>0</td>\n",
       "      <td>0</td>\n",
       "    </tr>\n",
       "    <tr>\n",
       "      <th>100B</th>\n",
       "      <td>51332</td>\n",
       "      <td>0</td>\n",
       "      <td>5047</td>\n",
       "      <td>97217</td>\n",
       "      <td>245</td>\n",
       "      <td>5078</td>\n",
       "      <td>1564</td>\n",
       "      <td>8653</td>\n",
       "      <td>2739</td>\n",
       "      <td>2879</td>\n",
       "      <td>...</td>\n",
       "      <td>0</td>\n",
       "      <td>0</td>\n",
       "      <td>0</td>\n",
       "      <td>0</td>\n",
       "      <td>0</td>\n",
       "      <td>0</td>\n",
       "      <td>0</td>\n",
       "      <td>0</td>\n",
       "      <td>0</td>\n",
       "      <td>1</td>\n",
       "    </tr>\n",
       "    <tr>\n",
       "      <th>101A</th>\n",
       "      <td>47276</td>\n",
       "      <td>250</td>\n",
       "      <td>27034</td>\n",
       "      <td>917</td>\n",
       "      <td>32350</td>\n",
       "      <td>11503</td>\n",
       "      <td>6836</td>\n",
       "      <td>26665</td>\n",
       "      <td>9471</td>\n",
       "      <td>286</td>\n",
       "      <td>...</td>\n",
       "      <td>0</td>\n",
       "      <td>0</td>\n",
       "      <td>0</td>\n",
       "      <td>0</td>\n",
       "      <td>0</td>\n",
       "      <td>0</td>\n",
       "      <td>0</td>\n",
       "      <td>0</td>\n",
       "      <td>0</td>\n",
       "      <td>1</td>\n",
       "    </tr>\n",
       "    <tr>\n",
       "      <th>101B</th>\n",
       "      <td>35653</td>\n",
       "      <td>0</td>\n",
       "      <td>25285</td>\n",
       "      <td>145</td>\n",
       "      <td>41464</td>\n",
       "      <td>16648</td>\n",
       "      <td>4978</td>\n",
       "      <td>20689</td>\n",
       "      <td>8220</td>\n",
       "      <td>281</td>\n",
       "      <td>...</td>\n",
       "      <td>0</td>\n",
       "      <td>0</td>\n",
       "      <td>0</td>\n",
       "      <td>0</td>\n",
       "      <td>0</td>\n",
       "      <td>0</td>\n",
       "      <td>0</td>\n",
       "      <td>0</td>\n",
       "      <td>0</td>\n",
       "      <td>0</td>\n",
       "    </tr>\n",
       "    <tr>\n",
       "      <th>103A</th>\n",
       "      <td>90972</td>\n",
       "      <td>962</td>\n",
       "      <td>1765</td>\n",
       "      <td>93</td>\n",
       "      <td>188</td>\n",
       "      <td>16078</td>\n",
       "      <td>12066</td>\n",
       "      <td>20746</td>\n",
       "      <td>15073</td>\n",
       "      <td>38305</td>\n",
       "      <td>...</td>\n",
       "      <td>0</td>\n",
       "      <td>0</td>\n",
       "      <td>0</td>\n",
       "      <td>0</td>\n",
       "      <td>0</td>\n",
       "      <td>0</td>\n",
       "      <td>0</td>\n",
       "      <td>0</td>\n",
       "      <td>0</td>\n",
       "      <td>0</td>\n",
       "    </tr>\n",
       "  </tbody>\n",
       "</table>\n",
       "<p>5 rows × 1565 columns</p>\n",
       "</div>"
      ],
      "text/plain": [
       "           0    1      2      3      4      5      6      7      8      9  \\\n",
       "100A  121182    0   9921   1351  65360  24331   3858  15493    373   1911   \n",
       "100B   51332    0   5047  97217    245   5078   1564   8653   2739   2879   \n",
       "101A   47276  250  27034    917  32350  11503   6836  26665   9471    286   \n",
       "101B   35653    0  25285    145  41464  16648   4978  20689   8220    281   \n",
       "103A   90972  962   1765     93    188  16078  12066  20746  15073  38305   \n",
       "\n",
       "      ...  1555  1556  1557  1558  1559  1560  1561  1562  1563  is_contamined  \n",
       "100A  ...     0     0     0     0     0     0     0     0     0              0  \n",
       "100B  ...     0     0     0     0     0     0     0     0     0              1  \n",
       "101A  ...     0     0     0     0     0     0     0     0     0              1  \n",
       "101B  ...     0     0     0     0     0     0     0     0     0              0  \n",
       "103A  ...     0     0     0     0     0     0     0     0     0              0  \n",
       "\n",
       "[5 rows x 1565 columns]"
      ]
     },
     "execution_count": 44,
     "metadata": {},
     "output_type": "execute_result"
    }
   ],
   "source": [
    "seq_df.head()"
   ]
  },
  {
   "cell_type": "code",
   "execution_count": 45,
   "metadata": {},
   "outputs": [],
   "source": [
    "least_important_df = seq_df.iloc[:,least_important_ind]\n",
    "most_important_df = seq_df.iloc[:,most_important_ind]"
   ]
  },
  {
   "cell_type": "code",
   "execution_count": 46,
   "metadata": {},
   "outputs": [
    {
     "data": {
      "text/plain": [
       "<matplotlib.axes._subplots.AxesSubplot at 0x7fadbbb7e5c0>"
      ]
     },
     "execution_count": 46,
     "metadata": {},
     "output_type": "execute_result"
    },
    {
     "data": {
      "image/png": "[encoded data removed]",
      "text/plain": [
       "<Figure size 720x288 with 1 Axes>"
      ]
     },
     "metadata": {},
     "output_type": "display_data"
    }
   ],
   "source": [
    "most_important_df.boxplot()"
   ]
  },
  {
   "cell_type": "code",
   "execution_count": 47,
   "metadata": {},
   "outputs": [
    {
     "data": {
      "text/plain": [
       "<matplotlib.axes._subplots.AxesSubplot at 0x7fadbba44f60>"
      ]
     },
     "execution_count": 47,
     "metadata": {},
     "output_type": "execute_result"
    },
    {
     "data": {
      "image/png": "[encoded data removed]",
      "text/plain": [
       "<Figure size 720x288 with 1 Axes>"
      ]
     },
     "metadata": {},
     "output_type": "display_data"
    }
   ],
   "source": [
    "least_important_df.boxplot()"
   ]
  },
  {
   "cell_type": "code",
   "execution_count": 48,
   "metadata": {},
   "outputs": [
    {
     "name": "stderr",
     "output_type": "stream",
     "text": [
      "20.1% of the points cannot be placed; you may want to decrease the size of the markers or use stripplot.\n",
      "77.4% of the points cannot be placed; you may want to decrease the size of the markers or use stripplot.\n",
      "81.9% of the points cannot be placed; you may want to decrease the size of the markers or use stripplot.\n",
      "80.9% of the points cannot be placed; you may want to decrease the size of the markers or use stripplot.\n",
      "88.4% of the points cannot be placed; you may want to decrease the size of the markers or use stripplot.\n",
      "86.4% of the points cannot be placed; you may want to decrease the size of the markers or use stripplot.\n",
      "87.9% of the points cannot be placed; you may want to decrease the size of the markers or use stripplot.\n",
      "84.9% of the points cannot be placed; you may want to decrease the size of the markers or use stripplot.\n",
      "85.4% of the points cannot be placed; you may want to decrease the size of the markers or use stripplot.\n"
     ]
    },
    {
     "data": {
      "text/plain": [
       "<matplotlib.axes._subplots.AxesSubplot at 0x7fadbb955860>"
      ]
     },
     "execution_count": 48,
     "metadata": {},
     "output_type": "execute_result"
    },
    {
     "data": {
      "image/png": "[encoded data removed]",
      "text/plain": [
       "<Figure size 720x288 with 1 Axes>"
      ]
     },
     "metadata": {},
     "output_type": "display_data"
    }
   ],
   "source": [
    "sns.swarmplot(x = \"OTUs\", y = \"Counts\",data = pd.melt(least_important_df,\n",
    "                                            var_name=\"OTUs\", value_name=\"Counts\"), s = 3)\n"
   ]
  },
  {
   "cell_type": "code",
   "execution_count": 49,
   "metadata": {},
   "outputs": [
    {
     "ename": "SyntaxError",
     "evalue": "invalid syntax (<ipython-input-49-7cc9d0e611e5>, line 1)",
     "output_type": "error",
     "traceback": [
      "\u001b[0;36m  File \u001b[0;32m\"<ipython-input-49-7cc9d0e611e5>\"\u001b[0;36m, line \u001b[0;32m1\u001b[0m\n\u001b[0;31m    sns.swarmplot(x = \"OTUs\", y = \"Counts\",data = pd.melt(most_important_df.iloc[,,\u001b[0m\n\u001b[0m                                                                                 ^\u001b[0m\n\u001b[0;31mSyntaxError\u001b[0m\u001b[0;31m:\u001b[0m invalid syntax\n"
     ]
    }
   ],
   "source": [
    "sns.swarmplot(x = \"OTUs\", y = \"Counts\",data = pd.melt(most_important_df.iloc[,,\n",
    "                                            var_name=\"OTUs\", value_name=\"Counts\"), s = 3)\n"
   ]
  },
  {
   "cell_type": "code",
   "execution_count": null,
   "metadata": {},
   "outputs": [],
   "source": [
    "sns.swarmplot(x = \"OTUs\", y = \"Counts\",data = pd.melt(seq_df,\n",
    "                                            var_name=\"OTUs\", value_name=\"Counts\"), s = 3)"
   ]
  },
  {
   "cell_type": "code",
   "execution_count": null,
   "metadata": {},
   "outputs": [],
   "source": [
    "seq_df.head()\n"
   ]
  },
  {
   "cell_type": "code",
   "execution_count": null,
   "metadata": {},
   "outputs": [],
   "source": [
    "k = \"otu104\""
   ]
  },
  {
   "cell_type": "code",
   "execution_count": null,
   "metadata": {},
   "outputs": [],
   "source": [
    "k[len(k)-3::]"
   ]
  },
  {
   "cell_type": "code",
   "execution_count": null,
   "metadata": {},
   "outputs": [],
   "source": [
    "seq_df.shape"
   ]
  },
  {
   "cell_type": "code",
   "execution_count": null,
   "metadata": {},
   "outputs": [],
   "source": []
  }
 ],
 "metadata": {
  "kernelspec": {
   "display_name": "Python 3",
   "language": "python",
   "name": "python3"
  },
  "language_info": {
   "codemirror_mode": {
    "name": "ipython",
    "version": 3
   },
   "file_extension": ".py",
   "mimetype": "text/x-python",
   "name": "python",
   "nbconvert_exporter": "python",
   "pygments_lexer": "ipython3",
   "version": "3.6.9"
  }
 },
 "nbformat": 4,
 "nbformat_minor": 4
}
