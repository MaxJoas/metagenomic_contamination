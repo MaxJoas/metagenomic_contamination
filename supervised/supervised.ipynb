{
 "cells": [
  {
   "cell_type": "markdown",
   "metadata": {},
   "source": [
    "## Ziele\n",
    "Festlegung der Zielgroesse: PCR Platte, spezifisch, wird in kontaminierte Platte (Platte 1) und nicht kontaminierte Platte unterschieden. Ziel ist es mit einem ueberwachtem Lernverfahren vorherzusagen, ob eine Platte kontaminiert sein wird.\n",
    "Falls das mit annehmbarer Accuracy vorherzusagen ist, interessieren mich vor Allem die Features, die wichtig fuer die Vorhersage sind. Daraus erhoffe ich mir herauszufinden welche Variablen fuer die Kontamination verantwortlich sind / waren. Es handelt sich um eine Klassifikationsaufgabe\n",
    "\n",
    "## Ziele Bullet Points\n",
    "* What went wrong with the contaminated PCR Plate\n",
    "* Can we predict the contaminated PCR Plate\n",
    "* Are there specific contaminations\n",
    "\n",
    "## Implementation\n",
    "* Use Random Forest to predict PCR Plate (1 and other)\n",
    "* Check Accuracy\n",
    "- Use RF Feature Importance to find factors that contribute to contamination\n",
    "- Use Shapley Value to find factors that contribute to contamination\n"
   ]
  },
  {
   "cell_type": "code",
   "execution_count": 77,
   "metadata": {},
   "outputs": [],
   "source": [
    "# import packages\n",
    "import pandas as pd\n",
    "import numpy as np\n",
    "import seaborn as sns\n",
    "import shap\n",
    "\n",
    "import matplotlib.pyplot as plt\n",
    "import matplotlib.mlab as mlab\n",
    "import matplotlib\n",
    "plt.style.use('ggplot')\n",
    "from matplotlib.pyplot import figure\n",
    "\n",
    "from sklearn.model_selection import cross_val_score\n",
    "from sklearn.model_selection import RepeatedStratifiedKFold\n",
    "from sklearn.ensemble import RandomForestClassifier\n",
    "from sklearn.metrics import confusion_matrix\n",
    "from sklearn import metrics\n",
    "from sklearn import preprocessing\n",
    "from sklearn.ensemble import RandomForestRegressor\n",
    "from sklearn.tree import DecisionTreeClassifier\n",
    "from sklearn.model_selection import cross_val_score\n",
    "from sklearn.model_selection import cross_validate \n",
    "from sklearn.neural_network import MLPClassifier\n",
    "\n",
    "\n",
    "np.random.seed(0)\n",
    "\n",
    "\n",
    "\n",
    "%matplotlib inline\n",
    "matplotlib.rcParams['figure.figsize'] = (12,8)\n",
    "\n",
    "pd.options.mode.chained_assignment = None"
   ]
  },
  {
   "cell_type": "code",
   "execution_count": 78,
   "metadata": {
    "scrolled": false
   },
   "outputs": [
    {
     "data": {
      "text/plain": [
       "1    93\n",
       "2    91\n",
       "3    15\n",
       "Name: PCR_plate, dtype: int64"
      ]
     },
     "execution_count": 78,
     "metadata": {},
     "output_type": "execute_result"
    }
   ],
   "source": [
    "# read data\n",
    "meta_df = pd.read_csv(\"../data/output/preprocessed_data.csv\",  index_col=0)\n",
    "seq_df = pd.read_csv(\"../data/output/seqData.csv\", index_col = 0)\n",
    "otu_info = pd.read_csv(\"../data/output/otu_info.csv\")\n",
    "\n",
    "otu_info_helper = otu_info.rename(index = otu_info.otu)\n",
    "otu_info_helper = otu_info_helper.transpose()\n",
    "whole_meta_df = pd.read_csv(\"../data/output/whole_preprocessed_meta_data\", index_col = 0)\n",
    "whole_meta_df[\"PCR_plate\"].value_counts(dropna=False)\n"
   ]
  },
  {
   "cell_type": "markdown",
   "metadata": {},
   "source": [
    "## Task 0: Prepare Data specifically for supervised models\n",
    "I want to classify the count data as well as the metadata based on if the pcr plate was contamined. Therefore, I aggregate the information about the PCR plate of the sample into two groups: contamined (plate 1) and not contamined(plates 2,3). The contamined plates are encoded with a 1, the non-contamined plates with a 0.\n",
    "Subsequently, I will save the target variable (contamined, not contamined) as an extra vector an remove it from the dataframe we train and test with. I will perform to analyses: The main analysis will use the OTU Counts as features to predict if the plate will be contamined. If the predictions work with sufficient accuracy, I will investigate which OTUs have the highest influence on the prediction. I will perform the same anlayses with the metadata."
   ]
  },
  {
   "cell_type": "code",
   "execution_count": 79,
   "metadata": {},
   "outputs": [],
   "source": [
    "\n",
    "# Modify target variable\n",
    "meta_df = meta_df.assign(\n",
    "    is_contamined = lambda dataframe: dataframe['PCR_plate'].map(lambda PCR_plate: 1 if PCR_plate == 1 else 0) \n",
    ")\n",
    "meta_df = meta_df.drop(columns=[\"PCR_plate\"])\n",
    "\n",
    "\n"
   ]
  },
  {
   "cell_type": "code",
   "execution_count": 80,
   "metadata": {},
   "outputs": [],
   "source": [
    "whole_meta_df = whole_meta_df.assign(\n",
    "    is_contamined = lambda dataframe: dataframe['PCR_plate'].map(lambda PCR_plate: 1 if PCR_plate == 1 else 0) \n",
    ")\n",
    "whole_meta_df = whole_meta_df.drop(columns=[\"PCR_plate\"])"
   ]
  },
  {
   "cell_type": "code",
   "execution_count": 81,
   "metadata": {},
   "outputs": [
    {
     "data": {
      "text/plain": [
       "dtype('int64')"
      ]
     },
     "execution_count": 81,
     "metadata": {},
     "output_type": "execute_result"
    }
   ],
   "source": [
    "whole_meta_df.is_contamined.dtypes\n"
   ]
  },
  {
   "cell_type": "code",
   "execution_count": 82,
   "metadata": {},
   "outputs": [
    {
     "data": {
      "text/html": [
       "<div>\n",
       "<style scoped>\n",
       "    .dataframe tbody tr th:only-of-type {\n",
       "        vertical-align: middle;\n",
       "    }\n",
       "\n",
       "    .dataframe tbody tr th {\n",
       "        vertical-align: top;\n",
       "    }\n",
       "\n",
       "    .dataframe thead th {\n",
       "        text-align: right;\n",
       "    }\n",
       "</style>\n",
       "<table border=\"1\" class=\"dataframe\">\n",
       "  <thead>\n",
       "    <tr style=\"text-align: right;\">\n",
       "      <th></th>\n",
       "      <th>Rearing_LAB</th>\n",
       "      <th>Sex</th>\n",
       "      <th>Age_weeks</th>\n",
       "      <th>Animals_for</th>\n",
       "      <th>cage_ID</th>\n",
       "      <th>BOX</th>\n",
       "      <th>Position</th>\n",
       "      <th>sample_type</th>\n",
       "      <th>extraction_date</th>\n",
       "      <th>extraction_run</th>\n",
       "      <th>...</th>\n",
       "      <th>tail_handling</th>\n",
       "      <th>BW_g</th>\n",
       "      <th>BW1_g</th>\n",
       "      <th>BW2_g</th>\n",
       "      <th>BW3_g</th>\n",
       "      <th>BW4_g</th>\n",
       "      <th>BW5_g</th>\n",
       "      <th>Notes</th>\n",
       "      <th>median_count</th>\n",
       "      <th>is_contamined</th>\n",
       "    </tr>\n",
       "  </thead>\n",
       "  <tbody>\n",
       "    <tr>\n",
       "      <th>100A</th>\n",
       "      <td>LAB_3</td>\n",
       "      <td>F</td>\n",
       "      <td>14.0</td>\n",
       "      <td>behaviour</td>\n",
       "      <td>BF4</td>\n",
       "      <td>3.0</td>\n",
       "      <td>17.0</td>\n",
       "      <td>primary</td>\n",
       "      <td>29/5/2020</td>\n",
       "      <td>15.0</td>\n",
       "      <td>...</td>\n",
       "      <td>no</td>\n",
       "      <td>NaN</td>\n",
       "      <td>19.1</td>\n",
       "      <td>20.5</td>\n",
       "      <td>20.3</td>\n",
       "      <td>21.1</td>\n",
       "      <td>21.8</td>\n",
       "      <td>NaN</td>\n",
       "      <td>0.0</td>\n",
       "      <td>0</td>\n",
       "    </tr>\n",
       "    <tr>\n",
       "      <th>100B</th>\n",
       "      <td>LAB_3</td>\n",
       "      <td>F</td>\n",
       "      <td>14.0</td>\n",
       "      <td>gene_expr</td>\n",
       "      <td>BF4</td>\n",
       "      <td>2.0</td>\n",
       "      <td>17.0</td>\n",
       "      <td>primary</td>\n",
       "      <td>14/5/2020</td>\n",
       "      <td>8.0</td>\n",
       "      <td>...</td>\n",
       "      <td>no</td>\n",
       "      <td>NaN</td>\n",
       "      <td>19.2</td>\n",
       "      <td>20.7</td>\n",
       "      <td>21.1</td>\n",
       "      <td>22.2</td>\n",
       "      <td>23.4</td>\n",
       "      <td>NaN</td>\n",
       "      <td>0.0</td>\n",
       "      <td>1</td>\n",
       "    </tr>\n",
       "    <tr>\n",
       "      <th>101A</th>\n",
       "      <td>LAB_4</td>\n",
       "      <td>F</td>\n",
       "      <td>14.0</td>\n",
       "      <td>gene_expr</td>\n",
       "      <td>MF7</td>\n",
       "      <td>2.0</td>\n",
       "      <td>23.0</td>\n",
       "      <td>primary</td>\n",
       "      <td>14/5/2020</td>\n",
       "      <td>8.0</td>\n",
       "      <td>...</td>\n",
       "      <td>yes</td>\n",
       "      <td>NaN</td>\n",
       "      <td>17.0</td>\n",
       "      <td>20.1</td>\n",
       "      <td>19.9</td>\n",
       "      <td>19.8</td>\n",
       "      <td>21.1</td>\n",
       "      <td>NaN</td>\n",
       "      <td>0.0</td>\n",
       "      <td>1</td>\n",
       "    </tr>\n",
       "    <tr>\n",
       "      <th>101B</th>\n",
       "      <td>LAB_4</td>\n",
       "      <td>F</td>\n",
       "      <td>14.0</td>\n",
       "      <td>behaviour</td>\n",
       "      <td>MF7</td>\n",
       "      <td>3.0</td>\n",
       "      <td>23.0</td>\n",
       "      <td>primary</td>\n",
       "      <td>2/6/2020</td>\n",
       "      <td>16.0</td>\n",
       "      <td>...</td>\n",
       "      <td>yes</td>\n",
       "      <td>NaN</td>\n",
       "      <td>15.5</td>\n",
       "      <td>17.8</td>\n",
       "      <td>18.0</td>\n",
       "      <td>18.5</td>\n",
       "      <td>18.9</td>\n",
       "      <td>NaN</td>\n",
       "      <td>0.0</td>\n",
       "      <td>0</td>\n",
       "    </tr>\n",
       "    <tr>\n",
       "      <th>103A</th>\n",
       "      <td>LAB_4</td>\n",
       "      <td>F</td>\n",
       "      <td>14.0</td>\n",
       "      <td>behaviour</td>\n",
       "      <td>MF2</td>\n",
       "      <td>3.0</td>\n",
       "      <td>19.0</td>\n",
       "      <td>primary</td>\n",
       "      <td>2/6/2020</td>\n",
       "      <td>16.0</td>\n",
       "      <td>...</td>\n",
       "      <td>yes</td>\n",
       "      <td>NaN</td>\n",
       "      <td>16.0</td>\n",
       "      <td>18.4</td>\n",
       "      <td>18.3</td>\n",
       "      <td>17.9</td>\n",
       "      <td>19.1</td>\n",
       "      <td>NaN</td>\n",
       "      <td>0.0</td>\n",
       "      <td>0</td>\n",
       "    </tr>\n",
       "  </tbody>\n",
       "</table>\n",
       "<p>5 rows × 61 columns</p>\n",
       "</div>"
      ],
      "text/plain": [
       "     Rearing_LAB  Sex  Age_weeks Animals_for  cage_ID  BOX   Position   \\\n",
       "100A        LAB_3   F       14.0    behaviour     BF4   3.0       17.0   \n",
       "100B        LAB_3   F       14.0    gene_expr     BF4   2.0       17.0   \n",
       "101A        LAB_4   F       14.0    gene_expr     MF7   2.0       23.0   \n",
       "101B        LAB_4   F       14.0    behaviour     MF7   3.0       23.0   \n",
       "103A        LAB_4   F       14.0    behaviour     MF2   3.0       19.0   \n",
       "\n",
       "     sample_type extraction_date  extraction_run  ... tail_handling  BW_g  \\\n",
       "100A     primary       29/5/2020            15.0  ...            no   NaN   \n",
       "100B     primary       14/5/2020             8.0  ...            no   NaN   \n",
       "101A     primary       14/5/2020             8.0  ...           yes   NaN   \n",
       "101B     primary        2/6/2020            16.0  ...           yes   NaN   \n",
       "103A     primary        2/6/2020            16.0  ...           yes   NaN   \n",
       "\n",
       "     BW1_g  BW2_g  BW3_g  BW4_g  BW5_g  Notes median_count is_contamined  \n",
       "100A  19.1   20.5   20.3   21.1   21.8    NaN          0.0             0  \n",
       "100B  19.2   20.7   21.1   22.2   23.4    NaN          0.0             1  \n",
       "101A  17.0   20.1   19.9   19.8   21.1    NaN          0.0             1  \n",
       "101B  15.5   17.8   18.0   18.5   18.9    NaN          0.0             0  \n",
       "103A  16.0   18.4   18.3   17.9   19.1    NaN          0.0             0  \n",
       "\n",
       "[5 rows x 61 columns]"
      ]
     },
     "execution_count": 82,
     "metadata": {},
     "output_type": "execute_result"
    }
   ],
   "source": [
    "\n",
    "meta_df.head()\n",
    "whole_meta_df.head()"
   ]
  },
  {
   "cell_type": "code",
   "execution_count": 83,
   "metadata": {},
   "outputs": [
    {
     "data": {
      "text/plain": [
       "(173, 42)"
      ]
     },
     "execution_count": 83,
     "metadata": {},
     "output_type": "execute_result"
    }
   ],
   "source": [
    "meta_df.shape"
   ]
  },
  {
   "cell_type": "markdown",
   "metadata": {},
   "source": [
    "## Task 1:  split data in test and validation data\n",
    "Therefore I use a custom function to have balanced classes, as mentioned before my target variable ist if the plate was contaminied"
   ]
  },
  {
   "cell_type": "code",
   "execution_count": 84,
   "metadata": {},
   "outputs": [],
   "source": [
    "def split_to_train_test(df, label_column, train_frac=0.8):\n",
    "    train_df, test_df = pd.DataFrame(), pd.DataFrame()\n",
    "    labels = df[label_column].unique()\n",
    "    for lbl in labels:\n",
    "        lbl_df = df[df[label_column] == lbl]\n",
    "        lbl_train_df = lbl_df.sample(frac=train_frac)\n",
    "        lbl_test_df = lbl_df.drop(lbl_train_df.index)\n",
    "        print('\\n%s:\\n---------\\ntotal:%d\\ntrain_df:%d\\ntest_df:%d' % (lbl, len(lbl_df), len(lbl_train_df), len(lbl_test_df)))\n",
    "        train_df = train_df.append(lbl_train_df)\n",
    "        test_df = test_df.append(lbl_test_df)\n",
    "\n",
    "    return train_df, test_df"
   ]
  },
  {
   "cell_type": "code",
   "execution_count": 85,
   "metadata": {},
   "outputs": [
    {
     "data": {
      "text/plain": [
       "(199, 61)"
      ]
     },
     "execution_count": 85,
     "metadata": {},
     "output_type": "execute_result"
    }
   ],
   "source": [
    "whole_meta_df.shape"
   ]
  },
  {
   "cell_type": "code",
   "execution_count": 86,
   "metadata": {},
   "outputs": [
    {
     "data": {
      "text/plain": [
       "(173, 42)"
      ]
     },
     "execution_count": 86,
     "metadata": {},
     "output_type": "execute_result"
    }
   ],
   "source": [
    "meta_df.shape"
   ]
  },
  {
   "cell_type": "code",
   "execution_count": 87,
   "metadata": {},
   "outputs": [
    {
     "name": "stdout",
     "output_type": "stream",
     "text": [
      "\n",
      "0:\n",
      "---------\n",
      "total:90\n",
      "train_df:63\n",
      "test_df:27\n",
      "\n",
      "1:\n",
      "---------\n",
      "total:83\n",
      "train_df:58\n",
      "test_df:25\n",
      "\n",
      "0:\n",
      "---------\n",
      "total:106\n",
      "train_df:74\n",
      "test_df:32\n",
      "\n",
      "1:\n",
      "---------\n",
      "total:93\n",
      "train_df:65\n",
      "test_df:28\n"
     ]
    },
    {
     "data": {
      "text/plain": [
       "(199, 1565)"
      ]
     },
     "execution_count": 87,
     "metadata": {},
     "output_type": "execute_result"
    }
   ],
   "source": [
    "train_df_meta, test_df_meta = split_to_train_test(meta_df, \"is_contamined\",0.7)\n",
    "seq_df_and_target = seq_df\n",
    "seq_df_and_target[\"is_contamined\"] = whole_meta_df.is_contamined\n",
    "train_df_counts, test_df_counts = split_to_train_test(seq_df_and_target, \"is_contamined\", 0.7)\n",
    "seq_df_and_target.shape"
   ]
  },
  {
   "cell_type": "code",
   "execution_count": 90,
   "metadata": {},
   "outputs": [
    {
     "data": {
      "text/plain": [
       "0    90\n",
       "1    83\n",
       "Name: is_contamined, dtype: int64"
      ]
     },
     "execution_count": 90,
     "metadata": {},
     "output_type": "execute_result"
    }
   ],
   "source": [
    "# Check Class Balance to select suitable evaluation metric\n",
    "meta_df.is_contamined.value_counts()\n"
   ]
  },
  {
   "cell_type": "markdown",
   "metadata": {},
   "source": [
    "## Task 2: Select a evaluation metric\n",
    "For my first analyses I will chose the Accuracy as defined: Accuracy = (TP+TN)/(TP+FP+FN+TN) as a metric. It is a well established metric for a two class classification problem and since we have equally balanced classes it is a reasonable choice"
   ]
  },
  {
   "cell_type": "markdown",
   "metadata": {},
   "source": [
    "## Task 3: Create a baseline model\n",
    "Since I have a two class classification problem with balanced classes, it is suitable to chose the relative frequency of the more frequent class as naive baseline prediction accuracy.\n"
   ]
  },
  {
   "cell_type": "code",
   "execution_count": 91,
   "metadata": {},
   "outputs": [
    {
     "name": "stdout",
     "output_type": "stream",
     "text": [
      "Baseline Estimation $0.5202312138728323\n"
     ]
    }
   ],
   "source": [
    "# baseline estimation\n",
    "\n",
    "freq_class = max(meta_df.is_contamined.value_counts())\n",
    "baseline = freq_class / len(meta_df.index)\n",
    "print(\"Baseline Estimation ${}\".format(baseline))"
   ]
  },
  {
   "cell_type": "markdown",
   "metadata": {},
   "source": [
    "## Task 4: Build a decision tree model\n",
    "Use a decisoin tree as a very simple supervised method to see if more complex models are justified"
   ]
  },
  {
   "cell_type": "code",
   "execution_count": 92,
   "metadata": {},
   "outputs": [],
   "source": [
    "\n",
    "# function that returns predictions of a Decision Tree\n",
    "# takes whole dataframe including the target variable as input\n",
    "def train_dec_tree(df, target):\n",
    "    \n",
    "    # prepare data\n",
    "    y_train = df.loc[:, target]\n",
    "    X_train = df.drop(columns=[target])\n",
    "    \n",
    "    # Create Decision Tree classifer object\n",
    "    clf = DecisionTreeClassifier()\n",
    "\n",
    "    # Train Decision Tree Classifer\n",
    "    clf = clf.fit(X_train,y_train)\n",
    "\n",
    "    return clf\n",
    "\n",
    "\n"
   ]
  },
  {
   "cell_type": "markdown",
   "metadata": {},
   "source": [
    "### Decision Tree for count data"
   ]
  },
  {
   "cell_type": "code",
   "execution_count": 93,
   "metadata": {},
   "outputs": [],
   "source": [
    "clf_count_data = train_dec_tree(train_df_counts, \"is_contamined\")"
   ]
  },
  {
   "cell_type": "code",
   "execution_count": 94,
   "metadata": {},
   "outputs": [
    {
     "data": {
      "text/plain": [
       "0.6666666666666666"
      ]
     },
     "execution_count": 94,
     "metadata": {},
     "output_type": "execute_result"
    }
   ],
   "source": [
    "count_pred = clf_count_data.predict(test_df_counts.drop(columns=[\"is_contamined\"]))\n",
    "metrics.accuracy_score(test_df_counts.is_contamined, count_pred)"
   ]
  },
  {
   "cell_type": "markdown",
   "metadata": {},
   "source": [
    "### Decision Tree for meta data"
   ]
  },
  {
   "cell_type": "code",
   "execution_count": 95,
   "metadata": {},
   "outputs": [
    {
     "data": {
      "text/plain": [
       "1.0"
      ]
     },
     "execution_count": 95,
     "metadata": {},
     "output_type": "execute_result"
    }
   ],
   "source": [
    "clf_meta_data = train_dec_tree(train_df_meta, \"is_contamined\")\n",
    "meta_pred = clf_meta_data.predict(test_df_meta.drop(columns=[\"is_contamined\"]))\n",
    "metrics.accuracy_score(test_df_meta.is_contamined, meta_pred)"
   ]
  },
  {
   "cell_type": "markdown",
   "metadata": {},
   "source": [
    "## Task 5: Use a supervised machine learning model\n",
    "I have two objectives: Firstly, I want to find out what is distinctive for samples that were one the contamined plate 1. Therefore I am not so much interested in the prediction itself, rather then the features that are important for the prediction. So for the first question I use a random forest model and extract the feature importance. Additionally, I will use the shapley value to assess feature importance.\n",
    "\n",
    "Secondly, I am interested if it is possible to predict on which plate the contamination was. Therefore, I use the above-trained Random Forest model and baselines classifiers. Additionally, I will train a Mulit Layer Perceptron and Cross Validation to predict the plate."
   ]
  },
  {
   "cell_type": "code",
   "execution_count": 96,
   "metadata": {},
   "outputs": [],
   "source": [
    "\n",
    "# functions that return predictions of a Random Forest\n",
    "def train_test_rf(df, target):\n",
    "    \n",
    "    # prepare data\n",
    "    y_train = df.loc[:, target]\n",
    "    X_train = df.drop(columns=[target])\n",
    "    \n",
    "    clf = RandomForestClassifier(n_estimators=200)\n",
    "    clf = clf.fit(X_train, y_train)\n",
    "  \n",
    "    return clf"
   ]
  },
  {
   "cell_type": "code",
   "execution_count": 97,
   "metadata": {},
   "outputs": [],
   "source": [
    "# prints accuracy and displays confusion table as heatmap\n",
    "def accurcay_confusion_heatmap(test_df, predictions, target):\n",
    "    conf_mat = confusion_matrix(test_df.loc[:,target], predictions)\n",
    "    print(conf_mat)\n",
    "    # Model Accuracy, how often is the classifier correct?\n",
    "    print(\"Accuracy:\",metrics.accuracy_score(test_df.loc[:,target], predictions))\n",
    "    # helper df for heatmap\n",
    "    df_cm = pd.DataFrame(conf_mat, range(2), range(2))\n",
    "    # plt.figure(figsize=(10,7))\n",
    "    sns.set(font_scale=1.4) # for label size\n",
    "    sns.heatmap(df_cm, annot=True, annot_kws={\"size\": 4}) # font size\n",
    "\n",
    "    plt.show()"
   ]
  },
  {
   "cell_type": "markdown",
   "metadata": {},
   "source": [
    "### Supervised model for count data"
   ]
  },
  {
   "cell_type": "code",
   "execution_count": 144,
   "metadata": {},
   "outputs": [
    {
     "data": {
      "text/plain": [
       "{'bootstrap': True,\n",
       " 'ccp_alpha': 0.0,\n",
       " 'class_weight': None,\n",
       " 'criterion': 'gini',\n",
       " 'max_depth': None,\n",
       " 'max_features': 'auto',\n",
       " 'max_leaf_nodes': None,\n",
       " 'max_samples': None,\n",
       " 'min_impurity_decrease': 0.0,\n",
       " 'min_impurity_split': None,\n",
       " 'min_samples_leaf': 1,\n",
       " 'min_samples_split': 2,\n",
       " 'min_weight_fraction_leaf': 0.0,\n",
       " 'n_estimators': 200,\n",
       " 'n_jobs': None,\n",
       " 'oob_score': False,\n",
       " 'random_state': None,\n",
       " 'verbose': 0,\n",
       " 'warm_start': False}"
      ]
     },
     "execution_count": 144,
     "metadata": {},
     "output_type": "execute_result"
    }
   ],
   "source": [
    "count_rf_clf = train_test_rf(train_df_counts, \"is_contamined\")\n",
    "count_pred_rf = count_rf_clf.predict(test_df_counts.drop(columns=[\"is_contamined\"]))\n",
    "metrics.accuracy_score(test_df_counts.is_contamined, count_pred_rf)\n",
    "rf_default values = count_rf_clf.get_params()"
   ]
  },
  {
   "cell_type": "code",
   "execution_count": 99,
   "metadata": {},
   "outputs": [
    {
     "name": "stdout",
     "output_type": "stream",
     "text": [
      "[[30  2]\n",
      " [ 6 22]]\n",
      "Accuracy: 0.8666666666666667\n"
     ]
    },
    {
     "data": {
      "image/png": "[encoded data removed]",
      "text/plain": [
       "<Figure size 864x576 with 2 Axes>"
      ]
     },
     "metadata": {},
     "output_type": "display_data"
    }
   ],
   "source": [
    "accurcay_confusion_heatmap(test_df_counts, count_pred_rf, \"is_contamined\")"
   ]
  },
  {
   "cell_type": "markdown",
   "metadata": {},
   "source": [
    "### Supervised model for meta data"
   ]
  },
  {
   "cell_type": "code",
   "execution_count": 100,
   "metadata": {},
   "outputs": [
    {
     "data": {
      "text/plain": [
       "1.0"
      ]
     },
     "execution_count": 100,
     "metadata": {},
     "output_type": "execute_result"
    }
   ],
   "source": [
    "meta_rf_clf = train_test_rf(train_df_meta, \"is_contamined\")\n",
    "meta_pred_rf = meta_rf_clf.predict(test_df_meta.drop(columns=[\"is_contamined\"]))\n",
    "metrics.accuracy_score(test_df_meta.is_contamined, meta_pred_rf)"
   ]
  },
  {
   "cell_type": "markdown",
   "metadata": {},
   "source": [
    "\n",
    "## Task 5.1\n",
    "\n",
    "To get a insight what was differnt on the contamined plates, respectively which features contributet to the contamination, I now investigate the feature importance of the RF."
   ]
  },
  {
   "cell_type": "code",
   "execution_count": 101,
   "metadata": {},
   "outputs": [],
   "source": [
    "def plt_feat_importance(clf, target_var, features):\n",
    "    \n",
    "    feat_importances = pd.Series(clf.feature_importances_, index=features)\n",
    "    feat_importances.nlargest(15).plot(kind='barh')"
   ]
  },
  {
   "cell_type": "code",
   "execution_count": 102,
   "metadata": {},
   "outputs": [
    {
     "data": {
      "text/html": [
       "<div>\n",
       "<style scoped>\n",
       "    .dataframe tbody tr th:only-of-type {\n",
       "        vertical-align: middle;\n",
       "    }\n",
       "\n",
       "    .dataframe tbody tr th {\n",
       "        vertical-align: top;\n",
       "    }\n",
       "\n",
       "    .dataframe thead th {\n",
       "        text-align: right;\n",
       "    }\n",
       "</style>\n",
       "<table border=\"1\" class=\"dataframe\">\n",
       "  <thead>\n",
       "    <tr style=\"text-align: right;\">\n",
       "      <th></th>\n",
       "      <th>otu1</th>\n",
       "      <th>otu2</th>\n",
       "      <th>otu3</th>\n",
       "      <th>otu4</th>\n",
       "      <th>otu5</th>\n",
       "      <th>otu6</th>\n",
       "      <th>otu7</th>\n",
       "      <th>otu8</th>\n",
       "      <th>otu9</th>\n",
       "      <th>otu10</th>\n",
       "      <th>...</th>\n",
       "      <th>otu1555</th>\n",
       "      <th>otu1556</th>\n",
       "      <th>otu1557</th>\n",
       "      <th>otu1558</th>\n",
       "      <th>otu1559</th>\n",
       "      <th>otu1560</th>\n",
       "      <th>otu1561</th>\n",
       "      <th>otu1562</th>\n",
       "      <th>otu1563</th>\n",
       "      <th>otu1564</th>\n",
       "    </tr>\n",
       "  </thead>\n",
       "  <tbody>\n",
       "    <tr>\n",
       "      <th>Unnamed: 0</th>\n",
       "      <td>0</td>\n",
       "      <td>1</td>\n",
       "      <td>2</td>\n",
       "      <td>3</td>\n",
       "      <td>4</td>\n",
       "      <td>5</td>\n",
       "      <td>6</td>\n",
       "      <td>7</td>\n",
       "      <td>8</td>\n",
       "      <td>9</td>\n",
       "      <td>...</td>\n",
       "      <td>1554</td>\n",
       "      <td>1555</td>\n",
       "      <td>1556</td>\n",
       "      <td>1557</td>\n",
       "      <td>1558</td>\n",
       "      <td>1559</td>\n",
       "      <td>1560</td>\n",
       "      <td>1561</td>\n",
       "      <td>1562</td>\n",
       "      <td>1563</td>\n",
       "    </tr>\n",
       "    <tr>\n",
       "      <th>otu</th>\n",
       "      <td>otu1</td>\n",
       "      <td>otu2</td>\n",
       "      <td>otu3</td>\n",
       "      <td>otu4</td>\n",
       "      <td>otu5</td>\n",
       "      <td>otu6</td>\n",
       "      <td>otu7</td>\n",
       "      <td>otu8</td>\n",
       "      <td>otu9</td>\n",
       "      <td>otu10</td>\n",
       "      <td>...</td>\n",
       "      <td>otu1555</td>\n",
       "      <td>otu1556</td>\n",
       "      <td>otu1557</td>\n",
       "      <td>otu1558</td>\n",
       "      <td>otu1559</td>\n",
       "      <td>otu1560</td>\n",
       "      <td>otu1561</td>\n",
       "      <td>otu1562</td>\n",
       "      <td>otu1563</td>\n",
       "      <td>otu1564</td>\n",
       "    </tr>\n",
       "    <tr>\n",
       "      <th>seq</th>\n",
       "      <td>TACGGAGGATGCGAGCGTTATCCGGATTTATTGGGTTTAAAGGGTG...</td>\n",
       "      <td>TACGTAGGTGGCAAGCGTTGTCCGGATTTATTGGGCGTAAAGCGCG...</td>\n",
       "      <td>TACGGAGGATGCGAGCGTTATCCGGATTTATTGGGTTTAAAGGGTG...</td>\n",
       "      <td>TACGTAGGGGGCAAGCGTTATCCGGATTTACTGGGTGTAAAGGGAG...</td>\n",
       "      <td>TACGTAGGGGGCAAGCGTTATCCGGATTTACTGGGTGTAAAGGGAG...</td>\n",
       "      <td>TACGGAGGGTGCGAGCGTTAATCGGAATTACTGGGCGTAAAGCGCT...</td>\n",
       "      <td>TACGGAGGATGCGAGCGTTATCCGGATTTATTGGGTTTAAAGGGTG...</td>\n",
       "      <td>TACGGAGGATGCGAGCGTTATCCGGATTTATTGGGTTTAAAGGGTG...</td>\n",
       "      <td>TACGGAGGATGCGAGCGTTATCCGGATTTATTGGGTTTAAAGGGTG...</td>\n",
       "      <td>TACGTAGGGGGCAAGCGTTATCCGGATTTACTGGGTGTAAAGGGAG...</td>\n",
       "      <td>...</td>\n",
       "      <td>TACGGAGGATGCGAGCGTTATCCGGATTTATTGGGTTTAAAGGGAG...</td>\n",
       "      <td>CGTCGGCAGCGTCAGATGTGTATAAGAGACAGTGCAGGTGCCAGCA...</td>\n",
       "      <td>TACGGAGGATGCGAGCGTTATCCGGATTTACTGGGTGTAAAGGGGG...</td>\n",
       "      <td>TACGTAGGGGGCAAGCGTTATCCGGATTTACTGGGTGTAAAGGGGG...</td>\n",
       "      <td>TACGTAGGGGGCAAGCGTTATCCGGATTCACTGGGCGTAAAGGGAG...</td>\n",
       "      <td>TACGTAGGGTGCGAGCGTTAATCGGAATTACTGGGCGTAAAGGGTG...</td>\n",
       "      <td>TACGGAGGATCCAAGCGTTATCCGGATTTATTGGGTTTAAAGGGTG...</td>\n",
       "      <td>TACGGAGGATTCAAGCGTTATCCGGATTTACTGGGTGTAAAGGGAG...</td>\n",
       "      <td>TACGGAGGGTGCGAGCGTTAATCGGAATTACTGGGTGTAAAGGGAG...</td>\n",
       "      <td>TACGTAGGTGGCAAGCGTTGTCCGGATTTACTGGGCGTAAAGGGAG...</td>\n",
       "    </tr>\n",
       "    <tr>\n",
       "      <th>tax</th>\n",
       "      <td>rootrank;Root;62.12|domain;Bacteria;62.12|phyl...</td>\n",
       "      <td>rootrank;Root;100|domain;Bacteria;100|phylum;F...</td>\n",
       "      <td>rootrank;Root;72.8|domain;Bacteria;72.8|phylum...</td>\n",
       "      <td>rootrank;Root;98.27|domain;Bacteria;98.27|phyl...</td>\n",
       "      <td>rootrank;Root;100|domain;Bacteria;100|phylum;F...</td>\n",
       "      <td>rootrank;Root;57.53|domain;Bacteria;57.53|phyl...</td>\n",
       "      <td>rootrank;Root;64.9|domain;Bacteria;64.44|phylu...</td>\n",
       "      <td>rootrank;Root;66.29|domain;Bacteria;66.29|phyl...</td>\n",
       "      <td>rootrank;Root;67.98|domain;Bacteria;67.98|phyl...</td>\n",
       "      <td>rootrank;Root;100|domain;Bacteria;100|phylum;F...</td>\n",
       "      <td>...</td>\n",
       "      <td>rootrank;Root;62.98|domain;Bacteria;62.98|phyl...</td>\n",
       "      <td>rootrank;Root;48.03|domain;Bacteria;45.85|phyl...</td>\n",
       "      <td>rootrank;Root;68.61|domain;Bacteria;68.61|phyl...</td>\n",
       "      <td>rootrank;Root;75.6|domain;Bacteria;75.6|phylum...</td>\n",
       "      <td>rootrank;Root;83.43|domain;Bacteria;83.43|phyl...</td>\n",
       "      <td>rootrank;Root;58.62|domain;Bacteria;58.62|phyl...</td>\n",
       "      <td>rootrank;Root;60.66|domain;Bacteria;60.66|phyl...</td>\n",
       "      <td>rootrank;Root;64.48|domain;Bacteria;64.48|phyl...</td>\n",
       "      <td>rootrank;Root;68.38|domain;Bacteria;68.38|phyl...</td>\n",
       "      <td>rootrank;Root;74.04|domain;Bacteria;74.04|phyl...</td>\n",
       "    </tr>\n",
       "  </tbody>\n",
       "</table>\n",
       "<p>4 rows × 1564 columns</p>\n",
       "</div>"
      ],
      "text/plain": [
       "                                                         otu1  \\\n",
       "Unnamed: 0                                                  0   \n",
       "otu                                                      otu1   \n",
       "seq         TACGGAGGATGCGAGCGTTATCCGGATTTATTGGGTTTAAAGGGTG...   \n",
       "tax         rootrank;Root;62.12|domain;Bacteria;62.12|phyl...   \n",
       "\n",
       "                                                         otu2  \\\n",
       "Unnamed: 0                                                  1   \n",
       "otu                                                      otu2   \n",
       "seq         TACGTAGGTGGCAAGCGTTGTCCGGATTTATTGGGCGTAAAGCGCG...   \n",
       "tax         rootrank;Root;100|domain;Bacteria;100|phylum;F...   \n",
       "\n",
       "                                                         otu3  \\\n",
       "Unnamed: 0                                                  2   \n",
       "otu                                                      otu3   \n",
       "seq         TACGGAGGATGCGAGCGTTATCCGGATTTATTGGGTTTAAAGGGTG...   \n",
       "tax         rootrank;Root;72.8|domain;Bacteria;72.8|phylum...   \n",
       "\n",
       "                                                         otu4  \\\n",
       "Unnamed: 0                                                  3   \n",
       "otu                                                      otu4   \n",
       "seq         TACGTAGGGGGCAAGCGTTATCCGGATTTACTGGGTGTAAAGGGAG...   \n",
       "tax         rootrank;Root;98.27|domain;Bacteria;98.27|phyl...   \n",
       "\n",
       "                                                         otu5  \\\n",
       "Unnamed: 0                                                  4   \n",
       "otu                                                      otu5   \n",
       "seq         TACGTAGGGGGCAAGCGTTATCCGGATTTACTGGGTGTAAAGGGAG...   \n",
       "tax         rootrank;Root;100|domain;Bacteria;100|phylum;F...   \n",
       "\n",
       "                                                         otu6  \\\n",
       "Unnamed: 0                                                  5   \n",
       "otu                                                      otu6   \n",
       "seq         TACGGAGGGTGCGAGCGTTAATCGGAATTACTGGGCGTAAAGCGCT...   \n",
       "tax         rootrank;Root;57.53|domain;Bacteria;57.53|phyl...   \n",
       "\n",
       "                                                         otu7  \\\n",
       "Unnamed: 0                                                  6   \n",
       "otu                                                      otu7   \n",
       "seq         TACGGAGGATGCGAGCGTTATCCGGATTTATTGGGTTTAAAGGGTG...   \n",
       "tax         rootrank;Root;64.9|domain;Bacteria;64.44|phylu...   \n",
       "\n",
       "                                                         otu8  \\\n",
       "Unnamed: 0                                                  7   \n",
       "otu                                                      otu8   \n",
       "seq         TACGGAGGATGCGAGCGTTATCCGGATTTATTGGGTTTAAAGGGTG...   \n",
       "tax         rootrank;Root;66.29|domain;Bacteria;66.29|phyl...   \n",
       "\n",
       "                                                         otu9  \\\n",
       "Unnamed: 0                                                  8   \n",
       "otu                                                      otu9   \n",
       "seq         TACGGAGGATGCGAGCGTTATCCGGATTTATTGGGTTTAAAGGGTG...   \n",
       "tax         rootrank;Root;67.98|domain;Bacteria;67.98|phyl...   \n",
       "\n",
       "                                                        otu10  ...  \\\n",
       "Unnamed: 0                                                  9  ...   \n",
       "otu                                                     otu10  ...   \n",
       "seq         TACGTAGGGGGCAAGCGTTATCCGGATTTACTGGGTGTAAAGGGAG...  ...   \n",
       "tax         rootrank;Root;100|domain;Bacteria;100|phylum;F...  ...   \n",
       "\n",
       "                                                      otu1555  \\\n",
       "Unnamed: 0                                               1554   \n",
       "otu                                                   otu1555   \n",
       "seq         TACGGAGGATGCGAGCGTTATCCGGATTTATTGGGTTTAAAGGGAG...   \n",
       "tax         rootrank;Root;62.98|domain;Bacteria;62.98|phyl...   \n",
       "\n",
       "                                                      otu1556  \\\n",
       "Unnamed: 0                                               1555   \n",
       "otu                                                   otu1556   \n",
       "seq         CGTCGGCAGCGTCAGATGTGTATAAGAGACAGTGCAGGTGCCAGCA...   \n",
       "tax         rootrank;Root;48.03|domain;Bacteria;45.85|phyl...   \n",
       "\n",
       "                                                      otu1557  \\\n",
       "Unnamed: 0                                               1556   \n",
       "otu                                                   otu1557   \n",
       "seq         TACGGAGGATGCGAGCGTTATCCGGATTTACTGGGTGTAAAGGGGG...   \n",
       "tax         rootrank;Root;68.61|domain;Bacteria;68.61|phyl...   \n",
       "\n",
       "                                                      otu1558  \\\n",
       "Unnamed: 0                                               1557   \n",
       "otu                                                   otu1558   \n",
       "seq         TACGTAGGGGGCAAGCGTTATCCGGATTTACTGGGTGTAAAGGGGG...   \n",
       "tax         rootrank;Root;75.6|domain;Bacteria;75.6|phylum...   \n",
       "\n",
       "                                                      otu1559  \\\n",
       "Unnamed: 0                                               1558   \n",
       "otu                                                   otu1559   \n",
       "seq         TACGTAGGGGGCAAGCGTTATCCGGATTCACTGGGCGTAAAGGGAG...   \n",
       "tax         rootrank;Root;83.43|domain;Bacteria;83.43|phyl...   \n",
       "\n",
       "                                                      otu1560  \\\n",
       "Unnamed: 0                                               1559   \n",
       "otu                                                   otu1560   \n",
       "seq         TACGTAGGGTGCGAGCGTTAATCGGAATTACTGGGCGTAAAGGGTG...   \n",
       "tax         rootrank;Root;58.62|domain;Bacteria;58.62|phyl...   \n",
       "\n",
       "                                                      otu1561  \\\n",
       "Unnamed: 0                                               1560   \n",
       "otu                                                   otu1561   \n",
       "seq         TACGGAGGATCCAAGCGTTATCCGGATTTATTGGGTTTAAAGGGTG...   \n",
       "tax         rootrank;Root;60.66|domain;Bacteria;60.66|phyl...   \n",
       "\n",
       "                                                      otu1562  \\\n",
       "Unnamed: 0                                               1561   \n",
       "otu                                                   otu1562   \n",
       "seq         TACGGAGGATTCAAGCGTTATCCGGATTTACTGGGTGTAAAGGGAG...   \n",
       "tax         rootrank;Root;64.48|domain;Bacteria;64.48|phyl...   \n",
       "\n",
       "                                                      otu1563  \\\n",
       "Unnamed: 0                                               1562   \n",
       "otu                                                   otu1563   \n",
       "seq         TACGGAGGGTGCGAGCGTTAATCGGAATTACTGGGTGTAAAGGGAG...   \n",
       "tax         rootrank;Root;68.38|domain;Bacteria;68.38|phyl...   \n",
       "\n",
       "                                                      otu1564  \n",
       "Unnamed: 0                                               1563  \n",
       "otu                                                   otu1564  \n",
       "seq         TACGTAGGTGGCAAGCGTTGTCCGGATTTACTGGGCGTAAAGGGAG...  \n",
       "tax         rootrank;Root;74.04|domain;Bacteria;74.04|phyl...  \n",
       "\n",
       "[4 rows x 1564 columns]"
      ]
     },
     "execution_count": 102,
     "metadata": {},
     "output_type": "execute_result"
    }
   ],
   "source": [
    "otu_info_helper.head()"
   ]
  },
  {
   "cell_type": "code",
   "execution_count": 103,
   "metadata": {},
   "outputs": [
    {
     "data": {
      "image/png": "[encoded data removed]",
      "text/plain": [
       "<Figure size 864x576 with 1 Axes>"
      ]
     },
     "metadata": {},
     "output_type": "display_data"
    }
   ],
   "source": [
    "# plot feature importance for count data\n",
    "plt_feat_importance(count_rf_clf, \"is_contamined\", otu_info_helper.columns)"
   ]
  },
  {
   "cell_type": "code",
   "execution_count": 104,
   "metadata": {},
   "outputs": [
    {
     "data": {
      "text/plain": [
       "Index(['Rearing_LAB ', 'Age_weeks', 'sample_type', 'extraction_date',\n",
       "       'extraction_run', 'extracted_by', 'DNA_elution_Vol_ul',\n",
       "       'Quantification_method', 'DNA_conc_ng_ul', '260 / 280', '230 / 260',\n",
       "       '16S_PCR_date', 'PCR_row', 'PCR_position', 'library_conc_ng_ul',\n",
       "       'FA_kit_used', 'repeat_library_prep', 'library_prep_attempt',\n",
       "       'Use_for_pooling', 'Dilution_factor', 'Vol_EB_ul', 'Vol_DNA_ul',\n",
       "       'light_cycle', 'cage_type', 'bedding_material', 'bedding_autoclaved',\n",
       "       'house_present', 'roll_present', 'enrichment_autoclaved', 'diet',\n",
       "       'diet_treatment', 'water_autoclaved', 'water_chlorinated',\n",
       "       'mean_room_temp_C', 'room_humidity', 'other_animals_present',\n",
       "       'other_animals_present_kind', 'housing_room_condition', 'tail_handling',\n",
       "       'Notes', 'median_count', 'is_contamined'],\n",
       "      dtype='object')"
      ]
     },
     "execution_count": 104,
     "metadata": {},
     "output_type": "execute_result"
    }
   ],
   "source": [
    "\n",
    "\n",
    "meta_df.columns"
   ]
  },
  {
   "cell_type": "code",
   "execution_count": 105,
   "metadata": {},
   "outputs": [
    {
     "data": {
      "image/png": "[encoded data removed]",
      "text/plain": [
       "<Figure size 864x576 with 1 Axes>"
      ]
     },
     "metadata": {},
     "output_type": "display_data"
    }
   ],
   "source": [
    "# plot feature importance for meta data\n",
    "plt_feat_importance(meta_rf_clf, \"is_contamined\", meta_df.drop(columns=[\"is_contamined\"]).columns)"
   ]
  },
  {
   "cell_type": "markdown",
   "metadata": {},
   "source": [
    "## Shapley Value for feature contribution\n",
    "// TODO describe\n"
   ]
  },
  {
   "cell_type": "code",
   "execution_count": 106,
   "metadata": {},
   "outputs": [],
   "source": [
    "\n",
    "def plot_shap_val(clf, X_train):\n",
    "    \n",
    "    shap_values = shap.TreeExplainer(clf).shap_values(X_train)\n",
    "    shap.summary_plot(shap_values, X_train)\n",
    "    return shap_values"
   ]
  },
  {
   "cell_type": "code",
   "execution_count": 107,
   "metadata": {},
   "outputs": [
    {
     "data": {
      "image/png": "[encoded data removed]",
      "text/plain": [
       "<Figure size 576x684 with 1 Axes>"
      ]
     },
     "metadata": {},
     "output_type": "display_data"
    }
   ],
   "source": [
    "# get shapley values for count data and plot\n",
    "count_shap_vals = plot_shap_val(count_rf_clf, train_df_counts)\n",
    "\n"
   ]
  },
  {
   "cell_type": "code",
   "execution_count": 108,
   "metadata": {},
   "outputs": [
    {
     "data": {
      "image/png": "[encoded data removed]",
      "text/plain": [
       "<Figure size 576x684 with 1 Axes>"
      ]
     },
     "metadata": {},
     "output_type": "display_data"
    }
   ],
   "source": [
    "# geth shapley values and plot for meta data\n",
    "count_meta_vals = plot_shap_val(meta_rf_clf, train_df_meta)"
   ]
  },
  {
   "cell_type": "markdown",
   "metadata": {},
   "source": [
    "## Task 5.2 Multi Layer Perceptron\n",
    "Before I train the model, I need to scale the data (this was not necessary for the Random Forest, because it can deal with unscaled data). I did this during preprocessing and only need to load the data"
   ]
  },
  {
   "cell_type": "code",
   "execution_count": 109,
   "metadata": {},
   "outputs": [],
   "source": [
    "scaled_df = pd.read_csv(\"../data/output/scaled_seq.csv\")\n"
   ]
  },
  {
   "cell_type": "code",
   "execution_count": 110,
   "metadata": {},
   "outputs": [
    {
     "data": {
      "text/plain": [
       "(199, 1565)"
      ]
     },
     "execution_count": 110,
     "metadata": {},
     "output_type": "execute_result"
    }
   ],
   "source": [
    "scaled_df.shape"
   ]
  },
  {
   "cell_type": "code",
   "execution_count": 111,
   "metadata": {},
   "outputs": [
    {
     "data": {
      "text/plain": [
       "(173, 42)"
      ]
     },
     "execution_count": 111,
     "metadata": {},
     "output_type": "execute_result"
    }
   ],
   "source": [
    "meta_df.shape"
   ]
  },
  {
   "cell_type": "code",
   "execution_count": 141,
   "metadata": {},
   "outputs": [
    {
     "name": "stdout",
     "output_type": "stream",
     "text": [
      "0.7\n",
      "0.8\n",
      "0.95\n",
      "0.95\n",
      "0.75\n",
      "0.8\n",
      "0.25\n",
      "0.85\n",
      "0.7\n",
      "0.7894736842105263\n"
     ]
    }
   ],
   "source": [
    "model = MLPClassifier() \n",
    "is_contamined = whole_meta_df.is_contamined\n",
    "is_contamined.index = range(len(is_contamined))\n",
    "scaled_df.index = range(len(scaled_df))\n",
    "scaled_df = scaled_df.drop(scaled_df.columns[0], axis=1)\n",
    "\n",
    "# cv_results = cross_validate(model,scaled_df, is_contamined, cv=10, \n",
    "#                             return_train_score=False, \n",
    "#                             scoring=model.score) \n",
    "# print(\"Fit scores: {}\".format(cv_results['test_score']))\n",
    "\n",
    "from sklearn.model_selection import KFold\n",
    "kf = KFold(n_splits=10)\n",
    "clf = MLPClassifier(solver='lbfgs', alpha=1e-5, hidden_layer_sizes=(5, 2), random_state=1)\n",
    "\n",
    "for train_indices, test_indices in kf.split(scaled_df):\n",
    "    clf.fit(scaled_df.iloc[train_indices,:], is_contamined[train_indices])\n",
    "    print(clf.score(scaled_df.iloc[test_indices,:], is_contamined[test_indices]))"
   ]
  },
  {
   "cell_type": "code",
   "execution_count": 136,
   "metadata": {},
   "outputs": [
    {
     "data": {
      "text/html": [
       "<div>\n",
       "<style scoped>\n",
       "    .dataframe tbody tr th:only-of-type {\n",
       "        vertical-align: middle;\n",
       "    }\n",
       "\n",
       "    .dataframe tbody tr th {\n",
       "        vertical-align: top;\n",
       "    }\n",
       "\n",
       "    .dataframe thead th {\n",
       "        text-align: right;\n",
       "    }\n",
       "</style>\n",
       "<table border=\"1\" class=\"dataframe\">\n",
       "  <thead>\n",
       "    <tr style=\"text-align: right;\">\n",
       "      <th></th>\n",
       "      <th>Unnamed: 0</th>\n",
       "      <th>0</th>\n",
       "      <th>1</th>\n",
       "      <th>2</th>\n",
       "      <th>3</th>\n",
       "      <th>4</th>\n",
       "      <th>5</th>\n",
       "      <th>6</th>\n",
       "      <th>7</th>\n",
       "      <th>8</th>\n",
       "      <th>...</th>\n",
       "      <th>1554</th>\n",
       "      <th>1555</th>\n",
       "      <th>1556</th>\n",
       "      <th>1557</th>\n",
       "      <th>1558</th>\n",
       "      <th>1559</th>\n",
       "      <th>1560</th>\n",
       "      <th>1561</th>\n",
       "      <th>1562</th>\n",
       "      <th>1563</th>\n",
       "    </tr>\n",
       "  </thead>\n",
       "  <tbody>\n",
       "    <tr>\n",
       "      <th>0</th>\n",
       "      <td>100A</td>\n",
       "      <td>0.729968</td>\n",
       "      <td>-0.100191</td>\n",
       "      <td>-0.440021</td>\n",
       "      <td>-0.304883</td>\n",
       "      <td>2.551715</td>\n",
       "      <td>1.115446</td>\n",
       "      <td>-0.631517</td>\n",
       "      <td>0.445695</td>\n",
       "      <td>-1.120625</td>\n",
       "      <td>...</td>\n",
       "      <td>-0.071067</td>\n",
       "      <td>-0.071067</td>\n",
       "      <td>-0.071067</td>\n",
       "      <td>-0.071067</td>\n",
       "      <td>-0.071067</td>\n",
       "      <td>-0.071067</td>\n",
       "      <td>-0.071067</td>\n",
       "      <td>-0.071067</td>\n",
       "      <td>-0.071067</td>\n",
       "      <td>-0.071067</td>\n",
       "    </tr>\n",
       "    <tr>\n",
       "      <th>1</th>\n",
       "      <td>100B</td>\n",
       "      <td>-0.483302</td>\n",
       "      <td>-0.100191</td>\n",
       "      <td>-0.755150</td>\n",
       "      <td>1.912452</td>\n",
       "      <td>-0.714284</td>\n",
       "      <td>-0.848154</td>\n",
       "      <td>-0.821193</td>\n",
       "      <td>-0.230996</td>\n",
       "      <td>-0.858223</td>\n",
       "      <td>...</td>\n",
       "      <td>-0.071067</td>\n",
       "      <td>-0.071067</td>\n",
       "      <td>-0.071067</td>\n",
       "      <td>-0.071067</td>\n",
       "      <td>-0.071067</td>\n",
       "      <td>-0.071067</td>\n",
       "      <td>-0.071067</td>\n",
       "      <td>-0.071067</td>\n",
       "      <td>-0.071067</td>\n",
       "      <td>-0.071067</td>\n",
       "    </tr>\n",
       "    <tr>\n",
       "      <th>2</th>\n",
       "      <td>101A</td>\n",
       "      <td>-0.553753</td>\n",
       "      <td>-0.099220</td>\n",
       "      <td>0.666423</td>\n",
       "      <td>-0.314921</td>\n",
       "      <td>0.896019</td>\n",
       "      <td>-0.192873</td>\n",
       "      <td>-0.385286</td>\n",
       "      <td>1.550958</td>\n",
       "      <td>-0.111611</td>\n",
       "      <td>...</td>\n",
       "      <td>-0.071067</td>\n",
       "      <td>-0.071067</td>\n",
       "      <td>-0.071067</td>\n",
       "      <td>-0.071067</td>\n",
       "      <td>-0.071067</td>\n",
       "      <td>-0.071067</td>\n",
       "      <td>-0.071067</td>\n",
       "      <td>-0.071067</td>\n",
       "      <td>-0.071067</td>\n",
       "      <td>-0.071067</td>\n",
       "    </tr>\n",
       "    <tr>\n",
       "      <th>3</th>\n",
       "      <td>101B</td>\n",
       "      <td>-0.755641</td>\n",
       "      <td>-0.100191</td>\n",
       "      <td>0.553341</td>\n",
       "      <td>-0.332777</td>\n",
       "      <td>1.353154</td>\n",
       "      <td>0.331862</td>\n",
       "      <td>-0.538912</td>\n",
       "      <td>0.959744</td>\n",
       "      <td>-0.250353</td>\n",
       "      <td>...</td>\n",
       "      <td>-0.071067</td>\n",
       "      <td>-0.071067</td>\n",
       "      <td>-0.071067</td>\n",
       "      <td>-0.071067</td>\n",
       "      <td>-0.071067</td>\n",
       "      <td>-0.071067</td>\n",
       "      <td>-0.071067</td>\n",
       "      <td>-0.071067</td>\n",
       "      <td>-0.071067</td>\n",
       "      <td>-0.071067</td>\n",
       "    </tr>\n",
       "    <tr>\n",
       "      <th>4</th>\n",
       "      <td>103A</td>\n",
       "      <td>0.205231</td>\n",
       "      <td>-0.096455</td>\n",
       "      <td>-0.967348</td>\n",
       "      <td>-0.333980</td>\n",
       "      <td>-0.717143</td>\n",
       "      <td>0.273729</td>\n",
       "      <td>0.047149</td>\n",
       "      <td>0.965383</td>\n",
       "      <td>0.509679</td>\n",
       "      <td>...</td>\n",
       "      <td>-0.071067</td>\n",
       "      <td>-0.071067</td>\n",
       "      <td>-0.071067</td>\n",
       "      <td>-0.071067</td>\n",
       "      <td>-0.071067</td>\n",
       "      <td>-0.071067</td>\n",
       "      <td>-0.071067</td>\n",
       "      <td>-0.071067</td>\n",
       "      <td>-0.071067</td>\n",
       "      <td>-0.071067</td>\n",
       "    </tr>\n",
       "  </tbody>\n",
       "</table>\n",
       "<p>5 rows × 1565 columns</p>\n",
       "</div>"
      ],
      "text/plain": [
       "  Unnamed: 0         0         1         2         3         4         5  \\\n",
       "0       100A  0.729968 -0.100191 -0.440021 -0.304883  2.551715  1.115446   \n",
       "1       100B -0.483302 -0.100191 -0.755150  1.912452 -0.714284 -0.848154   \n",
       "2       101A -0.553753 -0.099220  0.666423 -0.314921  0.896019 -0.192873   \n",
       "3       101B -0.755641 -0.100191  0.553341 -0.332777  1.353154  0.331862   \n",
       "4       103A  0.205231 -0.096455 -0.967348 -0.333980 -0.717143  0.273729   \n",
       "\n",
       "          6         7         8  ...      1554      1555      1556      1557  \\\n",
       "0 -0.631517  0.445695 -1.120625  ... -0.071067 -0.071067 -0.071067 -0.071067   \n",
       "1 -0.821193 -0.230996 -0.858223  ... -0.071067 -0.071067 -0.071067 -0.071067   \n",
       "2 -0.385286  1.550958 -0.111611  ... -0.071067 -0.071067 -0.071067 -0.071067   \n",
       "3 -0.538912  0.959744 -0.250353  ... -0.071067 -0.071067 -0.071067 -0.071067   \n",
       "4  0.047149  0.965383  0.509679  ... -0.071067 -0.071067 -0.071067 -0.071067   \n",
       "\n",
       "       1558      1559      1560      1561      1562      1563  \n",
       "0 -0.071067 -0.071067 -0.071067 -0.071067 -0.071067 -0.071067  \n",
       "1 -0.071067 -0.071067 -0.071067 -0.071067 -0.071067 -0.071067  \n",
       "2 -0.071067 -0.071067 -0.071067 -0.071067 -0.071067 -0.071067  \n",
       "3 -0.071067 -0.071067 -0.071067 -0.071067 -0.071067 -0.071067  \n",
       "4 -0.071067 -0.071067 -0.071067 -0.071067 -0.071067 -0.071067  \n",
       "\n",
       "[5 rows x 1565 columns]"
      ]
     },
     "execution_count": 136,
     "metadata": {},
     "output_type": "execute_result"
    }
   ],
   "source": [
    "scaled_df.head()"
   ]
  },
  {
   "cell_type": "code",
   "execution_count": 115,
   "metadata": {},
   "outputs": [
    {
     "data": {
      "text/html": [
       "<div>\n",
       "<style scoped>\n",
       "    .dataframe tbody tr th:only-of-type {\n",
       "        vertical-align: middle;\n",
       "    }\n",
       "\n",
       "    .dataframe tbody tr th {\n",
       "        vertical-align: top;\n",
       "    }\n",
       "\n",
       "    .dataframe thead th {\n",
       "        text-align: right;\n",
       "    }\n",
       "</style>\n",
       "<table border=\"1\" class=\"dataframe\">\n",
       "  <thead>\n",
       "    <tr style=\"text-align: right;\">\n",
       "      <th></th>\n",
       "      <th>Rearing_LAB</th>\n",
       "      <th>Sex</th>\n",
       "      <th>Age_weeks</th>\n",
       "      <th>Animals_for</th>\n",
       "      <th>cage_ID</th>\n",
       "      <th>BOX</th>\n",
       "      <th>Position</th>\n",
       "      <th>sample_type</th>\n",
       "      <th>extraction_date</th>\n",
       "      <th>extraction_run</th>\n",
       "      <th>...</th>\n",
       "      <th>tail_handling</th>\n",
       "      <th>BW_g</th>\n",
       "      <th>BW1_g</th>\n",
       "      <th>BW2_g</th>\n",
       "      <th>BW3_g</th>\n",
       "      <th>BW4_g</th>\n",
       "      <th>BW5_g</th>\n",
       "      <th>Notes</th>\n",
       "      <th>median_count</th>\n",
       "      <th>is_contamined</th>\n",
       "    </tr>\n",
       "  </thead>\n",
       "  <tbody>\n",
       "    <tr>\n",
       "      <th>100A</th>\n",
       "      <td>LAB_3</td>\n",
       "      <td>F</td>\n",
       "      <td>14.0</td>\n",
       "      <td>behaviour</td>\n",
       "      <td>BF4</td>\n",
       "      <td>3.0</td>\n",
       "      <td>17.0</td>\n",
       "      <td>primary</td>\n",
       "      <td>29/5/2020</td>\n",
       "      <td>15.0</td>\n",
       "      <td>...</td>\n",
       "      <td>no</td>\n",
       "      <td>NaN</td>\n",
       "      <td>19.1</td>\n",
       "      <td>20.5</td>\n",
       "      <td>20.3</td>\n",
       "      <td>21.1</td>\n",
       "      <td>21.8</td>\n",
       "      <td>NaN</td>\n",
       "      <td>0.0</td>\n",
       "      <td>0</td>\n",
       "    </tr>\n",
       "    <tr>\n",
       "      <th>100B</th>\n",
       "      <td>LAB_3</td>\n",
       "      <td>F</td>\n",
       "      <td>14.0</td>\n",
       "      <td>gene_expr</td>\n",
       "      <td>BF4</td>\n",
       "      <td>2.0</td>\n",
       "      <td>17.0</td>\n",
       "      <td>primary</td>\n",
       "      <td>14/5/2020</td>\n",
       "      <td>8.0</td>\n",
       "      <td>...</td>\n",
       "      <td>no</td>\n",
       "      <td>NaN</td>\n",
       "      <td>19.2</td>\n",
       "      <td>20.7</td>\n",
       "      <td>21.1</td>\n",
       "      <td>22.2</td>\n",
       "      <td>23.4</td>\n",
       "      <td>NaN</td>\n",
       "      <td>0.0</td>\n",
       "      <td>1</td>\n",
       "    </tr>\n",
       "    <tr>\n",
       "      <th>101A</th>\n",
       "      <td>LAB_4</td>\n",
       "      <td>F</td>\n",
       "      <td>14.0</td>\n",
       "      <td>gene_expr</td>\n",
       "      <td>MF7</td>\n",
       "      <td>2.0</td>\n",
       "      <td>23.0</td>\n",
       "      <td>primary</td>\n",
       "      <td>14/5/2020</td>\n",
       "      <td>8.0</td>\n",
       "      <td>...</td>\n",
       "      <td>yes</td>\n",
       "      <td>NaN</td>\n",
       "      <td>17.0</td>\n",
       "      <td>20.1</td>\n",
       "      <td>19.9</td>\n",
       "      <td>19.8</td>\n",
       "      <td>21.1</td>\n",
       "      <td>NaN</td>\n",
       "      <td>0.0</td>\n",
       "      <td>1</td>\n",
       "    </tr>\n",
       "    <tr>\n",
       "      <th>101B</th>\n",
       "      <td>LAB_4</td>\n",
       "      <td>F</td>\n",
       "      <td>14.0</td>\n",
       "      <td>behaviour</td>\n",
       "      <td>MF7</td>\n",
       "      <td>3.0</td>\n",
       "      <td>23.0</td>\n",
       "      <td>primary</td>\n",
       "      <td>2/6/2020</td>\n",
       "      <td>16.0</td>\n",
       "      <td>...</td>\n",
       "      <td>yes</td>\n",
       "      <td>NaN</td>\n",
       "      <td>15.5</td>\n",
       "      <td>17.8</td>\n",
       "      <td>18.0</td>\n",
       "      <td>18.5</td>\n",
       "      <td>18.9</td>\n",
       "      <td>NaN</td>\n",
       "      <td>0.0</td>\n",
       "      <td>0</td>\n",
       "    </tr>\n",
       "    <tr>\n",
       "      <th>103A</th>\n",
       "      <td>LAB_4</td>\n",
       "      <td>F</td>\n",
       "      <td>14.0</td>\n",
       "      <td>behaviour</td>\n",
       "      <td>MF2</td>\n",
       "      <td>3.0</td>\n",
       "      <td>19.0</td>\n",
       "      <td>primary</td>\n",
       "      <td>2/6/2020</td>\n",
       "      <td>16.0</td>\n",
       "      <td>...</td>\n",
       "      <td>yes</td>\n",
       "      <td>NaN</td>\n",
       "      <td>16.0</td>\n",
       "      <td>18.4</td>\n",
       "      <td>18.3</td>\n",
       "      <td>17.9</td>\n",
       "      <td>19.1</td>\n",
       "      <td>NaN</td>\n",
       "      <td>0.0</td>\n",
       "      <td>0</td>\n",
       "    </tr>\n",
       "  </tbody>\n",
       "</table>\n",
       "<p>5 rows × 61 columns</p>\n",
       "</div>"
      ],
      "text/plain": [
       "     Rearing_LAB  Sex  Age_weeks Animals_for  cage_ID  BOX   Position   \\\n",
       "100A        LAB_3   F       14.0    behaviour     BF4   3.0       17.0   \n",
       "100B        LAB_3   F       14.0    gene_expr     BF4   2.0       17.0   \n",
       "101A        LAB_4   F       14.0    gene_expr     MF7   2.0       23.0   \n",
       "101B        LAB_4   F       14.0    behaviour     MF7   3.0       23.0   \n",
       "103A        LAB_4   F       14.0    behaviour     MF2   3.0       19.0   \n",
       "\n",
       "     sample_type extraction_date  extraction_run  ... tail_handling  BW_g  \\\n",
       "100A     primary       29/5/2020            15.0  ...            no   NaN   \n",
       "100B     primary       14/5/2020             8.0  ...            no   NaN   \n",
       "101A     primary       14/5/2020             8.0  ...           yes   NaN   \n",
       "101B     primary        2/6/2020            16.0  ...           yes   NaN   \n",
       "103A     primary        2/6/2020            16.0  ...           yes   NaN   \n",
       "\n",
       "     BW1_g  BW2_g  BW3_g  BW4_g  BW5_g  Notes median_count is_contamined  \n",
       "100A  19.1   20.5   20.3   21.1   21.8    NaN          0.0             0  \n",
       "100B  19.2   20.7   21.1   22.2   23.4    NaN          0.0             1  \n",
       "101A  17.0   20.1   19.9   19.8   21.1    NaN          0.0             1  \n",
       "101B  15.5   17.8   18.0   18.5   18.9    NaN          0.0             0  \n",
       "103A  16.0   18.4   18.3   17.9   19.1    NaN          0.0             0  \n",
       "\n",
       "[5 rows x 61 columns]"
      ]
     },
     "execution_count": 115,
     "metadata": {},
     "output_type": "execute_result"
    }
   ],
   "source": [
    "whole_meta_df.head()"
   ]
  },
  {
   "cell_type": "code",
   "execution_count": 142,
   "metadata": {},
   "outputs": [
    {
     "data": {
      "text/html": [
       "<div>\n",
       "<style scoped>\n",
       "    .dataframe tbody tr th:only-of-type {\n",
       "        vertical-align: middle;\n",
       "    }\n",
       "\n",
       "    .dataframe tbody tr th {\n",
       "        vertical-align: top;\n",
       "    }\n",
       "\n",
       "    .dataframe thead th {\n",
       "        text-align: right;\n",
       "    }\n",
       "</style>\n",
       "<table border=\"1\" class=\"dataframe\">\n",
       "  <thead>\n",
       "    <tr style=\"text-align: right;\">\n",
       "      <th></th>\n",
       "      <th>0</th>\n",
       "      <th>1</th>\n",
       "      <th>2</th>\n",
       "      <th>3</th>\n",
       "      <th>4</th>\n",
       "      <th>5</th>\n",
       "      <th>6</th>\n",
       "      <th>7</th>\n",
       "      <th>8</th>\n",
       "      <th>9</th>\n",
       "      <th>...</th>\n",
       "      <th>1555</th>\n",
       "      <th>1556</th>\n",
       "      <th>1557</th>\n",
       "      <th>1558</th>\n",
       "      <th>1559</th>\n",
       "      <th>1560</th>\n",
       "      <th>1561</th>\n",
       "      <th>1562</th>\n",
       "      <th>1563</th>\n",
       "      <th>is_contamined</th>\n",
       "    </tr>\n",
       "  </thead>\n",
       "  <tbody>\n",
       "    <tr>\n",
       "      <th>100A</th>\n",
       "      <td>121182</td>\n",
       "      <td>0</td>\n",
       "      <td>9921</td>\n",
       "      <td>1351</td>\n",
       "      <td>65360</td>\n",
       "      <td>24331</td>\n",
       "      <td>3858</td>\n",
       "      <td>15493</td>\n",
       "      <td>373</td>\n",
       "      <td>1911</td>\n",
       "      <td>...</td>\n",
       "      <td>0</td>\n",
       "      <td>0</td>\n",
       "      <td>0</td>\n",
       "      <td>0</td>\n",
       "      <td>0</td>\n",
       "      <td>0</td>\n",
       "      <td>0</td>\n",
       "      <td>0</td>\n",
       "      <td>0</td>\n",
       "      <td>0</td>\n",
       "    </tr>\n",
       "    <tr>\n",
       "      <th>100B</th>\n",
       "      <td>51332</td>\n",
       "      <td>0</td>\n",
       "      <td>5047</td>\n",
       "      <td>97217</td>\n",
       "      <td>245</td>\n",
       "      <td>5078</td>\n",
       "      <td>1564</td>\n",
       "      <td>8653</td>\n",
       "      <td>2739</td>\n",
       "      <td>2879</td>\n",
       "      <td>...</td>\n",
       "      <td>0</td>\n",
       "      <td>0</td>\n",
       "      <td>0</td>\n",
       "      <td>0</td>\n",
       "      <td>0</td>\n",
       "      <td>0</td>\n",
       "      <td>0</td>\n",
       "      <td>0</td>\n",
       "      <td>0</td>\n",
       "      <td>1</td>\n",
       "    </tr>\n",
       "    <tr>\n",
       "      <th>101A</th>\n",
       "      <td>47276</td>\n",
       "      <td>250</td>\n",
       "      <td>27034</td>\n",
       "      <td>917</td>\n",
       "      <td>32350</td>\n",
       "      <td>11503</td>\n",
       "      <td>6836</td>\n",
       "      <td>26665</td>\n",
       "      <td>9471</td>\n",
       "      <td>286</td>\n",
       "      <td>...</td>\n",
       "      <td>0</td>\n",
       "      <td>0</td>\n",
       "      <td>0</td>\n",
       "      <td>0</td>\n",
       "      <td>0</td>\n",
       "      <td>0</td>\n",
       "      <td>0</td>\n",
       "      <td>0</td>\n",
       "      <td>0</td>\n",
       "      <td>1</td>\n",
       "    </tr>\n",
       "    <tr>\n",
       "      <th>101B</th>\n",
       "      <td>35653</td>\n",
       "      <td>0</td>\n",
       "      <td>25285</td>\n",
       "      <td>145</td>\n",
       "      <td>41464</td>\n",
       "      <td>16648</td>\n",
       "      <td>4978</td>\n",
       "      <td>20689</td>\n",
       "      <td>8220</td>\n",
       "      <td>281</td>\n",
       "      <td>...</td>\n",
       "      <td>0</td>\n",
       "      <td>0</td>\n",
       "      <td>0</td>\n",
       "      <td>0</td>\n",
       "      <td>0</td>\n",
       "      <td>0</td>\n",
       "      <td>0</td>\n",
       "      <td>0</td>\n",
       "      <td>0</td>\n",
       "      <td>0</td>\n",
       "    </tr>\n",
       "    <tr>\n",
       "      <th>103A</th>\n",
       "      <td>90972</td>\n",
       "      <td>962</td>\n",
       "      <td>1765</td>\n",
       "      <td>93</td>\n",
       "      <td>188</td>\n",
       "      <td>16078</td>\n",
       "      <td>12066</td>\n",
       "      <td>20746</td>\n",
       "      <td>15073</td>\n",
       "      <td>38305</td>\n",
       "      <td>...</td>\n",
       "      <td>0</td>\n",
       "      <td>0</td>\n",
       "      <td>0</td>\n",
       "      <td>0</td>\n",
       "      <td>0</td>\n",
       "      <td>0</td>\n",
       "      <td>0</td>\n",
       "      <td>0</td>\n",
       "      <td>0</td>\n",
       "      <td>0</td>\n",
       "    </tr>\n",
       "  </tbody>\n",
       "</table>\n",
       "<p>5 rows × 1565 columns</p>\n",
       "</div>"
      ],
      "text/plain": [
       "           0    1      2      3      4      5      6      7      8      9  \\\n",
       "100A  121182    0   9921   1351  65360  24331   3858  15493    373   1911   \n",
       "100B   51332    0   5047  97217    245   5078   1564   8653   2739   2879   \n",
       "101A   47276  250  27034    917  32350  11503   6836  26665   9471    286   \n",
       "101B   35653    0  25285    145  41464  16648   4978  20689   8220    281   \n",
       "103A   90972  962   1765     93    188  16078  12066  20746  15073  38305   \n",
       "\n",
       "      ...  1555  1556  1557  1558  1559  1560  1561  1562  1563  is_contamined  \n",
       "100A  ...     0     0     0     0     0     0     0     0     0              0  \n",
       "100B  ...     0     0     0     0     0     0     0     0     0              1  \n",
       "101A  ...     0     0     0     0     0     0     0     0     0              1  \n",
       "101B  ...     0     0     0     0     0     0     0     0     0              0  \n",
       "103A  ...     0     0     0     0     0     0     0     0     0              0  \n",
       "\n",
       "[5 rows x 1565 columns]"
      ]
     },
     "execution_count": 142,
     "metadata": {},
     "output_type": "execute_result"
    }
   ],
   "source": [
    "seq_df.head()"
   ]
  },
  {
   "cell_type": "code",
   "execution_count": 143,
   "metadata": {},
   "outputs": [
    {
     "data": {
      "text/plain": [
       "0    198\n",
       "1      1\n",
       "Name: 1560, dtype: int64"
      ]
     },
     "execution_count": 143,
     "metadata": {},
     "output_type": "execute_result"
    }
   ],
   "source": [
    "seq_df.iloc[:,1560].value_counts()\n"
   ]
  },
  {
   "cell_type": "code",
   "execution_count": null,
   "metadata": {},
   "outputs": [],
   "source": []
  }
 ],
 "metadata": {
  "kernelspec": {
   "display_name": "Python 3",
   "language": "python",
   "name": "python3"
  },
  "language_info": {
   "codemirror_mode": {
    "name": "ipython",
    "version": 3
   },
   "file_extension": ".py",
   "mimetype": "text/x-python",
   "name": "python",
   "nbconvert_exporter": "python",
   "pygments_lexer": "ipython3",
   "version": "3.6.9"
  }
 },
 "nbformat": 4,
 "nbformat_minor": 4
}
