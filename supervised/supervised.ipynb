{
 "cells": [
  {
   "cell_type": "markdown",
   "metadata": {},
   "source": [
    "## Ziele\n",
    "Festlegung der Zielgroesse: PCR Platte, spezifisch, wird in kontaminierte Platte (Platte 1) und nicht kontaminierte Platte unterschieden. Ziel ist es mit einem ueberwachtem Lernverfahren vorherzusagen, ob eine Platte kontaminiert sein wird.\n",
    "Falls das mit annehmbarer Accuracy vorherzusagen ist, interessieren mich vor Allem die Features, die wichtig fuer die Vorhersage sind. Daraus erhoffe ich mir herauszufinden welche Variablen fuer die Kontamination verantwortlich sind / waren. Es handelt sich um eine Klassifikationsaufgabe\n",
    "\n",
    "## Ziele Bullet Points\n",
    "* What went wrong with the contaminated PCR Plate\n",
    "* Can we predict the contaminated PCR Plate\n",
    "* Are there specific contaminations\n",
    "\n",
    "## Implementation\n",
    "* Use Random Forest to predict PCR Plate (1 and other)\n",
    "* Check Accuracy\n",
    "- Use RF Feature Importance to find factors that contribute to contamination\n",
    "- Use Shapley Value to find factors that contribute to contamination\n",
    "\n",
    "### TO DO\n",
    "* Use different target variable such as Nano Drop value for contamination\n",
    "* Use Notes to classifie contamination\n",
    "- Include richness / eveness as feature\n",
    "- Any other cool ideas that come across my mind"
   ]
  },
  {
   "cell_type": "code",
   "execution_count": 1,
   "metadata": {},
   "outputs": [],
   "source": [
    "# import packages\n",
    "import pandas as pd\n",
    "import numpy as np\n",
    "import seaborn as sns\n",
    "import shap\n",
    "\n",
    "import matplotlib.pyplot as plt\n",
    "import matplotlib.mlab as mlab\n",
    "import matplotlib\n",
    "plt.style.use('ggplot')\n",
    "from matplotlib.pyplot import figure\n",
    "\n",
    "from sklearn.model_selection import cross_val_score\n",
    "from sklearn.model_selection import RepeatedStratifiedKFold\n",
    "from sklearn.ensemble import RandomForestClassifier\n",
    "from sklearn.metrics import confusion_matrix\n",
    "from sklearn import metrics\n",
    "from sklearn import preprocessing\n",
    "from sklearn.ensemble import RandomForestRegressor\n",
    "\n",
    "import pandas as pd\n",
    "import numpy as np\n",
    "np.random.seed(0)\n",
    "\n",
    "\n",
    "\n",
    "%matplotlib inline\n",
    "matplotlib.rcParams['figure.figsize'] = (12,8)\n",
    "\n",
    "pd.options.mode.chained_assignment = None"
   ]
  },
  {
   "cell_type": "code",
   "execution_count": 2,
   "metadata": {},
   "outputs": [],
   "source": [
    "# read data\n",
    "df = pd.read_csv(\"../data/output/preprocessed_data.csv\",  index_col=0)"
   ]
  },
  {
   "cell_type": "code",
   "execution_count": 3,
   "metadata": {},
   "outputs": [],
   "source": [
    "\n",
    "# Modify target variable\n",
    "df = df.assign(\n",
    "    is_contamined = lambda dataframe: dataframe['PCR_plate'].map(lambda PCR_plate: 1 if PCR_plate == 1 else 0) \n",
    ")\n",
    "df = df.drop(columns=[\"PCR_plate\"])"
   ]
  },
  {
   "cell_type": "code",
   "execution_count": 4,
   "metadata": {},
   "outputs": [
    {
     "data": {
      "text/plain": [
       "100A    0\n",
       "100B    1\n",
       "101A    1\n",
       "101B    0\n",
       "103A    0\n",
       "       ..\n",
       "S6      1\n",
       "S60     1\n",
       "S7      1\n",
       "S8      1\n",
       "S9      1\n",
       "Name: is_contamined, Length: 173, dtype: int64"
      ]
     },
     "execution_count": 4,
     "metadata": {},
     "output_type": "execute_result"
    }
   ],
   "source": [
    "df.is_contamined"
   ]
  },
  {
   "cell_type": "markdown",
   "metadata": {},
   "source": [
    "## Task one split data in test and validation data\n",
    "Therefore I use a custom function to have balanced classes, as mentioned before my target variable ist if the plate was contaminied"
   ]
  },
  {
   "cell_type": "code",
   "execution_count": 5,
   "metadata": {},
   "outputs": [],
   "source": [
    "def split_to_train_test(df, label_column, train_frac=0.8):\n",
    "    train_df, test_df = pd.DataFrame(), pd.DataFrame()\n",
    "    labels = df[label_column].unique()\n",
    "    for lbl in labels:\n",
    "        lbl_df = df[df[label_column] == lbl]\n",
    "        lbl_train_df = lbl_df.sample(frac=train_frac)\n",
    "        lbl_test_df = lbl_df.drop(lbl_train_df.index)\n",
    "        print('\\n%s:\\n---------\\ntotal:%d\\ntrain_df:%d\\ntest_df:%d' % (lbl, len(lbl_df), len(lbl_train_df), len(lbl_test_df)))\n",
    "        train_df = train_df.append(lbl_train_df)\n",
    "        test_df = test_df.append(lbl_test_df)\n",
    "\n",
    "    return train_df, test_df"
   ]
  },
  {
   "cell_type": "code",
   "execution_count": 6,
   "metadata": {},
   "outputs": [
    {
     "name": "stdout",
     "output_type": "stream",
     "text": [
      "\n",
      "0:\n",
      "---------\n",
      "total:90\n",
      "train_df:63\n",
      "test_df:27\n",
      "\n",
      "1:\n",
      "---------\n",
      "total:83\n",
      "train_df:58\n",
      "test_df:25\n"
     ]
    }
   ],
   "source": [
    "train_df, test_df = split_to_train_test(df, \"is_contamined\",0.7)"
   ]
  },
  {
   "cell_type": "code",
   "execution_count": 7,
   "metadata": {},
   "outputs": [
    {
     "data": {
      "text/plain": [
       "0    90\n",
       "1    83\n",
       "Name: is_contamined, dtype: int64"
      ]
     },
     "execution_count": 7,
     "metadata": {},
     "output_type": "execute_result"
    }
   ],
   "source": [
    "# Check Class Balance to select suitable evaluation metric\n",
    "df.is_contamined.value_counts()"
   ]
  },
  {
   "cell_type": "markdown",
   "metadata": {},
   "source": [
    "## Task 2: Select a evaluation metric\n",
    "For my first analyses I will chose the Accuracy as defined: Accuracy = (TP+TN)/(TP+FP+FN+TN) as a metric. It is a well established metric for a two class classification problem and since we have equally balanced classes it is a reasonable choice"
   ]
  },
  {
   "cell_type": "markdown",
   "metadata": {},
   "source": [
    "## Task 3: Create a baseline model\n",
    "Since I have a two class classification problem with balanced classes, it is suitable to chose the relative frequency of the more frequent class as naive baseline prediction accuracy.\n"
   ]
  },
  {
   "cell_type": "code",
   "execution_count": 8,
   "metadata": {},
   "outputs": [
    {
     "name": "stdout",
     "output_type": "stream",
     "text": [
      "Baseline Estimation $0.5202312138728323\n"
     ]
    }
   ],
   "source": [
    "# baseline estimation\n",
    "freq_class = max(df.is_contamined.value_counts())\n",
    "baseline = freq_class / len(df.index)\n",
    "print(\"Baseline Estimation ${}\".format(baseline))"
   ]
  },
  {
   "cell_type": "markdown",
   "metadata": {},
   "source": [
    "## Task 4: Use a supervised machine learning model\n",
    "My goal is mainly to find features "
   ]
  },
  {
   "cell_type": "code",
   "execution_count": 9,
   "metadata": {},
   "outputs": [],
   "source": [
    "# prepare data for Random forest\n",
    "\n",
    "# test target variable\n",
    "test_Y = test_df.is_contamined\n",
    "# test independent variables\n",
    "test_X = test_df.drop(columns=[\"is_contamined\"])\n",
    "\n",
    "# train target variable\n",
    "train_Y = train_df.is_contamined\n",
    "# test independent variables\n",
    "train_X = train_df.drop(columns=[\"is_contamined\"])\n",
    "rf = RandomForestClassifier(n_estimators=200)\n",
    "fit = rf.fit(train_X, train_Y)\n"
   ]
  },
  {
   "cell_type": "code",
   "execution_count": 10,
   "metadata": {},
   "outputs": [],
   "source": [
    "# predict\n",
    "predictions = fit.predict(test_X)"
   ]
  },
  {
   "cell_type": "code",
   "execution_count": 11,
   "metadata": {},
   "outputs": [
    {
     "data": {
      "text/plain": [
       "array([0, 0, 0, 0, 0, 0, 0, 0, 0, 0, 0, 0, 0, 0, 0, 0, 0, 0, 0, 0, 0, 0,\n",
       "       0, 0, 0, 0, 1, 1, 1, 1, 1, 1, 1, 1, 1, 1, 1, 1, 1, 1, 1, 1, 1, 1,\n",
       "       1, 1, 1, 1, 1, 1, 1, 1])"
      ]
     },
     "execution_count": 11,
     "metadata": {},
     "output_type": "execute_result"
    }
   ],
   "source": [
    "predictions"
   ]
  },
  {
   "cell_type": "code",
   "execution_count": 22,
   "metadata": {},
   "outputs": [
    {
     "name": "stdout",
     "output_type": "stream",
     "text": [
      "[[26  1]\n",
      " [ 0 25]]\n"
     ]
    },
    {
     "data": {
      "image/png": "[encoded data removed]",
      "text/plain": [
       "<Figure size 864x576 with 2 Axes>"
      ]
     },
     "metadata": {},
     "output_type": "display_data"
    }
   ],
   "source": [
    "# checking accuracy\n",
    "# len(trani)\n",
    "conf_mat = confusion_matrix(test_df.is_contamined, predictions)\n",
    "print(conf_mat)\n",
    "conf_mat\n",
    "\n",
    "\n",
    "df_cm = pd.DataFrame(conf_mat, range(2), range(2))\n",
    "# plt.figure(figsize=(10,7))\n",
    "sns.set(font_scale=1.4) # for label size\n",
    "sns.heatmap(df_cm, annot=True, annot_kws={\"size\": 4}) # font size\n",
    "\n",
    "plt.show()"
   ]
  },
  {
   "cell_type": "code",
   "execution_count": 13,
   "metadata": {},
   "outputs": [
    {
     "name": "stdout",
     "output_type": "stream",
     "text": [
      "Accuracy: 0.9807692307692307\n"
     ]
    }
   ],
   "source": [
    "# Model Accuracy, how often is the classifier correct?\n",
    "print(\"Accuracy:\",metrics.accuracy_score(test_Y, predictions))"
   ]
  },
  {
   "cell_type": "code",
   "execution_count": 14,
   "metadata": {},
   "outputs": [
    {
     "data": {
      "text/plain": [
       "<matplotlib.axes._subplots.AxesSubplot at 0x7f9bf9ef64a8>"
      ]
     },
     "execution_count": 14,
     "metadata": {},
     "output_type": "execute_result"
    },
    {
     "data": {
      "image/png": "[encoded data removed]",
      "text/plain": [
       "<Figure size 864x576 with 1 Axes>"
      ]
     },
     "metadata": {
      "needs_background": "light"
     },
     "output_type": "display_data"
    }
   ],
   "source": [
    "feat_importances = pd.Series(rf.feature_importances_, index=df.drop(columns=[\"is_contamined\"]).columns)\n",
    "feat_importances.nlargest(15).plot(kind='barh')"
   ]
  },
  {
   "cell_type": "code",
   "execution_count": null,
   "metadata": {},
   "outputs": [],
   "source": []
  },
  {
   "cell_type": "code",
   "execution_count": 15,
   "metadata": {},
   "outputs": [
    {
     "data": {
      "text/html": [
       "<div>\n",
       "<style scoped>\n",
       "    .dataframe tbody tr th:only-of-type {\n",
       "        vertical-align: middle;\n",
       "    }\n",
       "\n",
       "    .dataframe tbody tr th {\n",
       "        vertical-align: top;\n",
       "    }\n",
       "\n",
       "    .dataframe thead th {\n",
       "        text-align: right;\n",
       "    }\n",
       "</style>\n",
       "<table border=\"1\" class=\"dataframe\">\n",
       "  <thead>\n",
       "    <tr style=\"text-align: right;\">\n",
       "      <th></th>\n",
       "      <th>Rearing_LAB</th>\n",
       "      <th>Age_weeks</th>\n",
       "      <th>sample_type</th>\n",
       "      <th>extraction_date</th>\n",
       "      <th>extraction_run</th>\n",
       "      <th>extracted_by</th>\n",
       "      <th>DNA_elution_Vol_ul</th>\n",
       "      <th>Quantification_method</th>\n",
       "      <th>DNA_conc_ng_ul</th>\n",
       "      <th>260 / 280</th>\n",
       "      <th>...</th>\n",
       "      <th>water_chlorinated</th>\n",
       "      <th>mean_room_temp_C</th>\n",
       "      <th>room_humidity</th>\n",
       "      <th>other_animals_present</th>\n",
       "      <th>other_animals_present_kind</th>\n",
       "      <th>housing_room_condition</th>\n",
       "      <th>tail_handling</th>\n",
       "      <th>Notes</th>\n",
       "      <th>median_count</th>\n",
       "      <th>is_contamined</th>\n",
       "    </tr>\n",
       "  </thead>\n",
       "  <tbody>\n",
       "    <tr>\n",
       "      <th>count</th>\n",
       "      <td>173.000000</td>\n",
       "      <td>173.000000</td>\n",
       "      <td>173.0</td>\n",
       "      <td>173.000000</td>\n",
       "      <td>173.000000</td>\n",
       "      <td>173.000000</td>\n",
       "      <td>173.000000</td>\n",
       "      <td>173.000000</td>\n",
       "      <td>173.000000</td>\n",
       "      <td>173.000000</td>\n",
       "      <td>...</td>\n",
       "      <td>173.000000</td>\n",
       "      <td>173.000000</td>\n",
       "      <td>173.000000</td>\n",
       "      <td>173.000000</td>\n",
       "      <td>173.000000</td>\n",
       "      <td>173.000000</td>\n",
       "      <td>173.000000</td>\n",
       "      <td>173.000000</td>\n",
       "      <td>173.0</td>\n",
       "      <td>173.000000</td>\n",
       "    </tr>\n",
       "    <tr>\n",
       "      <th>mean</th>\n",
       "      <td>2.046243</td>\n",
       "      <td>11.953757</td>\n",
       "      <td>0.0</td>\n",
       "      <td>5.809249</td>\n",
       "      <td>9.502890</td>\n",
       "      <td>0.965318</td>\n",
       "      <td>160.346821</td>\n",
       "      <td>0.485549</td>\n",
       "      <td>199.517514</td>\n",
       "      <td>1.900462</td>\n",
       "      <td>...</td>\n",
       "      <td>0.208092</td>\n",
       "      <td>1.439306</td>\n",
       "      <td>1.803468</td>\n",
       "      <td>0.791908</td>\n",
       "      <td>1.942197</td>\n",
       "      <td>0.208092</td>\n",
       "      <td>0.791908</td>\n",
       "      <td>1.450867</td>\n",
       "      <td>0.0</td>\n",
       "      <td>0.479769</td>\n",
       "    </tr>\n",
       "    <tr>\n",
       "      <th>std</th>\n",
       "      <td>1.413453</td>\n",
       "      <td>2.852610</td>\n",
       "      <td>0.0</td>\n",
       "      <td>3.700020</td>\n",
       "      <td>6.049817</td>\n",
       "      <td>0.969871</td>\n",
       "      <td>32.095351</td>\n",
       "      <td>0.501242</td>\n",
       "      <td>84.799128</td>\n",
       "      <td>0.035745</td>\n",
       "      <td>...</td>\n",
       "      <td>0.407122</td>\n",
       "      <td>1.019042</td>\n",
       "      <td>1.154662</td>\n",
       "      <td>0.407122</td>\n",
       "      <td>1.413025</td>\n",
       "      <td>0.407122</td>\n",
       "      <td>0.407122</td>\n",
       "      <td>3.214097</td>\n",
       "      <td>0.0</td>\n",
       "      <td>0.501041</td>\n",
       "    </tr>\n",
       "    <tr>\n",
       "      <th>min</th>\n",
       "      <td>0.000000</td>\n",
       "      <td>8.000000</td>\n",
       "      <td>0.0</td>\n",
       "      <td>0.000000</td>\n",
       "      <td>1.000000</td>\n",
       "      <td>0.000000</td>\n",
       "      <td>100.000000</td>\n",
       "      <td>0.000000</td>\n",
       "      <td>28.800000</td>\n",
       "      <td>1.830000</td>\n",
       "      <td>...</td>\n",
       "      <td>0.000000</td>\n",
       "      <td>0.000000</td>\n",
       "      <td>0.000000</td>\n",
       "      <td>0.000000</td>\n",
       "      <td>0.000000</td>\n",
       "      <td>0.000000</td>\n",
       "      <td>0.000000</td>\n",
       "      <td>0.000000</td>\n",
       "      <td>0.0</td>\n",
       "      <td>0.000000</td>\n",
       "    </tr>\n",
       "    <tr>\n",
       "      <th>25%</th>\n",
       "      <td>1.000000</td>\n",
       "      <td>8.000000</td>\n",
       "      <td>0.0</td>\n",
       "      <td>2.000000</td>\n",
       "      <td>4.000000</td>\n",
       "      <td>0.000000</td>\n",
       "      <td>160.000000</td>\n",
       "      <td>0.000000</td>\n",
       "      <td>142.000000</td>\n",
       "      <td>1.880000</td>\n",
       "      <td>...</td>\n",
       "      <td>0.000000</td>\n",
       "      <td>1.000000</td>\n",
       "      <td>1.000000</td>\n",
       "      <td>1.000000</td>\n",
       "      <td>1.000000</td>\n",
       "      <td>0.000000</td>\n",
       "      <td>1.000000</td>\n",
       "      <td>0.000000</td>\n",
       "      <td>0.0</td>\n",
       "      <td>0.000000</td>\n",
       "    </tr>\n",
       "    <tr>\n",
       "      <th>50%</th>\n",
       "      <td>2.000000</td>\n",
       "      <td>14.000000</td>\n",
       "      <td>0.0</td>\n",
       "      <td>7.000000</td>\n",
       "      <td>9.000000</td>\n",
       "      <td>1.000000</td>\n",
       "      <td>160.000000</td>\n",
       "      <td>0.000000</td>\n",
       "      <td>202.820000</td>\n",
       "      <td>1.890000</td>\n",
       "      <td>...</td>\n",
       "      <td>0.000000</td>\n",
       "      <td>1.000000</td>\n",
       "      <td>2.000000</td>\n",
       "      <td>1.000000</td>\n",
       "      <td>2.000000</td>\n",
       "      <td>0.000000</td>\n",
       "      <td>1.000000</td>\n",
       "      <td>0.000000</td>\n",
       "      <td>0.0</td>\n",
       "      <td>0.000000</td>\n",
       "    </tr>\n",
       "    <tr>\n",
       "      <th>75%</th>\n",
       "      <td>3.000000</td>\n",
       "      <td>14.000000</td>\n",
       "      <td>0.0</td>\n",
       "      <td>9.000000</td>\n",
       "      <td>15.000000</td>\n",
       "      <td>2.000000</td>\n",
       "      <td>200.000000</td>\n",
       "      <td>1.000000</td>\n",
       "      <td>255.900000</td>\n",
       "      <td>1.910000</td>\n",
       "      <td>...</td>\n",
       "      <td>0.000000</td>\n",
       "      <td>2.000000</td>\n",
       "      <td>3.000000</td>\n",
       "      <td>1.000000</td>\n",
       "      <td>3.000000</td>\n",
       "      <td>0.000000</td>\n",
       "      <td>1.000000</td>\n",
       "      <td>0.000000</td>\n",
       "      <td>0.0</td>\n",
       "      <td>1.000000</td>\n",
       "    </tr>\n",
       "    <tr>\n",
       "      <th>max</th>\n",
       "      <td>4.000000</td>\n",
       "      <td>14.000000</td>\n",
       "      <td>0.0</td>\n",
       "      <td>11.000000</td>\n",
       "      <td>20.000000</td>\n",
       "      <td>2.000000</td>\n",
       "      <td>240.000000</td>\n",
       "      <td>1.000000</td>\n",
       "      <td>418.000000</td>\n",
       "      <td>2.050000</td>\n",
       "      <td>...</td>\n",
       "      <td>1.000000</td>\n",
       "      <td>3.000000</td>\n",
       "      <td>3.000000</td>\n",
       "      <td>1.000000</td>\n",
       "      <td>4.000000</td>\n",
       "      <td>1.000000</td>\n",
       "      <td>1.000000</td>\n",
       "      <td>11.000000</td>\n",
       "      <td>0.0</td>\n",
       "      <td>1.000000</td>\n",
       "    </tr>\n",
       "  </tbody>\n",
       "</table>\n",
       "<p>8 rows × 42 columns</p>\n",
       "</div>"
      ],
      "text/plain": [
       "       Rearing_LAB    Age_weeks  sample_type  extraction_date  extraction_run  \\\n",
       "count    173.000000  173.000000        173.0       173.000000      173.000000   \n",
       "mean       2.046243   11.953757          0.0         5.809249        9.502890   \n",
       "std        1.413453    2.852610          0.0         3.700020        6.049817   \n",
       "min        0.000000    8.000000          0.0         0.000000        1.000000   \n",
       "25%        1.000000    8.000000          0.0         2.000000        4.000000   \n",
       "50%        2.000000   14.000000          0.0         7.000000        9.000000   \n",
       "75%        3.000000   14.000000          0.0         9.000000       15.000000   \n",
       "max        4.000000   14.000000          0.0        11.000000       20.000000   \n",
       "\n",
       "       extracted_by  DNA_elution_Vol_ul  Quantification_method  \\\n",
       "count    173.000000          173.000000             173.000000   \n",
       "mean       0.965318          160.346821               0.485549   \n",
       "std        0.969871           32.095351               0.501242   \n",
       "min        0.000000          100.000000               0.000000   \n",
       "25%        0.000000          160.000000               0.000000   \n",
       "50%        1.000000          160.000000               0.000000   \n",
       "75%        2.000000          200.000000               1.000000   \n",
       "max        2.000000          240.000000               1.000000   \n",
       "\n",
       "       DNA_conc_ng_ul   260 / 280  ...  water_chlorinated  mean_room_temp_C  \\\n",
       "count      173.000000  173.000000  ...         173.000000        173.000000   \n",
       "mean       199.517514    1.900462  ...           0.208092          1.439306   \n",
       "std         84.799128    0.035745  ...           0.407122          1.019042   \n",
       "min         28.800000    1.830000  ...           0.000000          0.000000   \n",
       "25%        142.000000    1.880000  ...           0.000000          1.000000   \n",
       "50%        202.820000    1.890000  ...           0.000000          1.000000   \n",
       "75%        255.900000    1.910000  ...           0.000000          2.000000   \n",
       "max        418.000000    2.050000  ...           1.000000          3.000000   \n",
       "\n",
       "       room_humidity  other_animals_present  other_animals_present_kind  \\\n",
       "count     173.000000             173.000000                  173.000000   \n",
       "mean        1.803468               0.791908                    1.942197   \n",
       "std         1.154662               0.407122                    1.413025   \n",
       "min         0.000000               0.000000                    0.000000   \n",
       "25%         1.000000               1.000000                    1.000000   \n",
       "50%         2.000000               1.000000                    2.000000   \n",
       "75%         3.000000               1.000000                    3.000000   \n",
       "max         3.000000               1.000000                    4.000000   \n",
       "\n",
       "       housing_room_condition  tail_handling       Notes  median_count  \\\n",
       "count              173.000000     173.000000  173.000000         173.0   \n",
       "mean                 0.208092       0.791908    1.450867           0.0   \n",
       "std                  0.407122       0.407122    3.214097           0.0   \n",
       "min                  0.000000       0.000000    0.000000           0.0   \n",
       "25%                  0.000000       1.000000    0.000000           0.0   \n",
       "50%                  0.000000       1.000000    0.000000           0.0   \n",
       "75%                  0.000000       1.000000    0.000000           0.0   \n",
       "max                  1.000000       1.000000   11.000000           0.0   \n",
       "\n",
       "       is_contamined  \n",
       "count     173.000000  \n",
       "mean        0.479769  \n",
       "std         0.501041  \n",
       "min         0.000000  \n",
       "25%         0.000000  \n",
       "50%         0.000000  \n",
       "75%         1.000000  \n",
       "max         1.000000  \n",
       "\n",
       "[8 rows x 42 columns]"
      ]
     },
     "execution_count": 15,
     "metadata": {},
     "output_type": "execute_result"
    }
   ],
   "source": [
    "df.describe()"
   ]
  },
  {
   "cell_type": "code",
   "execution_count": 16,
   "metadata": {},
   "outputs": [
    {
     "data": {
      "text/plain": [
       "100B    1.35\n",
       "101A    1.93\n",
       "101B    0.59\n",
       "103A    2.01\n",
       "103B    1.78\n",
       "106A    1.42\n",
       "106B    0.29\n",
       "107A    0.85\n",
       "107B    1.55\n",
       "Name: 230 / 260, dtype: float64"
      ]
     },
     "execution_count": 16,
     "metadata": {},
     "output_type": "execute_result"
    }
   ],
   "source": [
    "df.iloc[1:10,10]\n",
    "\n"
   ]
  },
  {
   "cell_type": "markdown",
   "metadata": {},
   "source": [
    "## Shapley Value for feature contribution\n",
    "// TODO describe\n"
   ]
  },
  {
   "cell_type": "code",
   "execution_count": 17,
   "metadata": {},
   "outputs": [
    {
     "data": {
      "image/png": "[encoded data removed]",
      "text/plain": [
       "<Figure size 576x684 with 1 Axes>"
      ]
     },
     "metadata": {
      "needs_background": "light"
     },
     "output_type": "display_data"
    }
   ],
   "source": [
    "shap_values = shap.TreeExplainer(fit).shap_values(train_X)\n",
    "shap.summary_plot(shap_values, train_X)"
   ]
  },
  {
   "cell_type": "code",
   "execution_count": 18,
   "metadata": {},
   "outputs": [
    {
     "data": {
      "image/png": "[encoded data removed]",
      "text/plain": [
       "<Figure size 576x684 with 1 Axes>"
      ]
     },
     "metadata": {
      "needs_background": "light"
     },
     "output_type": "display_data"
    }
   ],
   "source": []
  },
  {
   "cell_type": "markdown",
   "metadata": {},
   "source": [
    "## Task 4.1 \n",
    "### Use antoher targert variable for contamination\n",
    "So far I have only used the plate as target variable to get predict"
   ]
  }
 ],
 "metadata": {
  "kernelspec": {
   "display_name": "Python 3",
   "language": "python",
   "name": "python3"
  },
  "language_info": {
   "codemirror_mode": {
    "name": "ipython",
    "version": 3
   },
   "file_extension": ".py",
   "mimetype": "text/x-python",
   "name": "python",
   "nbconvert_exporter": "python",
   "pygments_lexer": "ipython3",
   "version": "3.6.9"
  }
 },
 "nbformat": 4,
 "nbformat_minor": 4
}
