{
 "cells": [
  {
   "cell_type": "markdown",
   "metadata": {},
   "source": [
    "## Ziele\n",
    "Festlegung der Zielgroesse: PCR Platte, spezifisch, wird in kontaminierte Platte (Platte 1) und nicht kontaminierte Platte unterschieden. Ziel ist es mit einem ueberwachtem Lernverfahren vorherzusagen, ob eine Platte kontaminiert sein wird.\n",
    "Falls das mit annehmbarer Accuracy vorherzusagen ist, interessieren mich vor Allem die Features, die wichtig fuer die Vorhersage sind. Daraus erhoffe ich mir herauszufinden welche Variablen fuer die Kontamination verantwortlich sind / waren. Es handelt sich um eine Klassifikationsaufgabe\n",
    "\n",
    "## Ziele Bullet Points\n",
    "* What went wrong with the contaminated PCR Plate\n",
    "* Can we predict the contaminated PCR Plate\n",
    "* Are there specific contaminations\n",
    "\n",
    "## Implementation\n",
    "* Use Random Forest to predict PCR Plate (1 and other)\n",
    "* Check Accuracy\n",
    "- Use RF Feature Importance to find factors that contribute to contamination\n",
    "- Use Shapley Value to find factors that contribute to contamination\n"
   ]
  },
  {
   "cell_type": "code",
   "execution_count": 154,
   "metadata": {},
   "outputs": [],
   "source": [
    "# import packages\n",
    "import pandas as pd\n",
    "import numpy as np\n",
    "import seaborn as sns\n",
    "import shap\n",
    "\n",
    "import matplotlib.pyplot as plt\n",
    "import matplotlib.mlab as mlab\n",
    "import matplotlib\n",
    "plt.style.use('ggplot')\n",
    "from matplotlib.pyplot import figure\n",
    "\n",
    "from sklearn.model_selection import cross_val_score\n",
    "from sklearn.model_selection import RepeatedStratifiedKFold\n",
    "from sklearn.ensemble import RandomForestClassifier\n",
    "from sklearn.metrics import confusion_matrix\n",
    "from sklearn import metrics\n",
    "from sklearn import preprocessing\n",
    "from sklearn.ensemble import RandomForestRegressor\n",
    "from sklearn.tree import DecisionTreeClassifier\n",
    "from sklearn.model_selection import cross_val_score\n",
    "\n",
    "np.random.seed(0)\n",
    "\n",
    "\n",
    "\n",
    "%matplotlib inline\n",
    "matplotlib.rcParams['figure.figsize'] = (12,8)\n",
    "\n",
    "pd.options.mode.chained_assignment = None"
   ]
  },
  {
   "cell_type": "code",
   "execution_count": 155,
   "metadata": {
    "scrolled": false
   },
   "outputs": [],
   "source": [
    "# read data\n",
    "meta_df = pd.read_csv(\"../data/output/preprocessed_data.csv\",  index_col=0)\n",
    "seq_df = pd.read_csv(\"../data/output/seqData.csv\", index_col = 0)\n",
    "otu_info = pd.read_csv(\"../data/output/otu_info.csv\")\n",
    "\n",
    "otu_info_helper = otu_info.rename(index = otu_info.otu)\n",
    "otu_info_helper = otu_info_helper.transpose()\n"
   ]
  },
  {
   "cell_type": "markdown",
   "metadata": {},
   "source": [
    "## Task 0: Prepare Data specifically for supervised models\n",
    "I want to classify the count data as well as the metadata based on if the pcr plate was contamined. Therefore, I aggregate the information about the PCR plate of the sample into two groups: contamined (plate 1) and not contamined(plates 2,3). The contamined plates are encoded with a 1, the non-contamined plates with a 0.\n",
    "Subsequently, I will save the target variable (contamined, not contamined) as an extra vector an remove it from the dataframe we train and test with. I will perform to analyses: The main analysis will use the OTU Counts as features to predict if the plate will be contamined. If the predictions work with sufficient accuracy, I will investigate which OTUs have the highest influence on the prediction. I will perform the same anlayses with the metadata."
   ]
  },
  {
   "cell_type": "code",
   "execution_count": 158,
   "metadata": {},
   "outputs": [],
   "source": [
    "\n",
    "# Modify target variable\n",
    "meta_df = meta_df.assign(\n",
    "    is_contamined = lambda dataframe: dataframe['PCR_plate'].map(lambda PCR_plate: 1 if PCR_plate == 1 else 0) \n",
    ")\n",
    "meta_df = meta_df.drop(columns=[\"PCR_plate\"])\n"
   ]
  },
  {
   "cell_type": "code",
   "execution_count": 35,
   "metadata": {},
   "outputs": [
    {
     "data": {
      "text/html": [
       "<div>\n",
       "<style scoped>\n",
       "    .dataframe tbody tr th:only-of-type {\n",
       "        vertical-align: middle;\n",
       "    }\n",
       "\n",
       "    .dataframe tbody tr th {\n",
       "        vertical-align: top;\n",
       "    }\n",
       "\n",
       "    .dataframe thead th {\n",
       "        text-align: right;\n",
       "    }\n",
       "</style>\n",
       "<table border=\"1\" class=\"dataframe\">\n",
       "  <thead>\n",
       "    <tr style=\"text-align: right;\">\n",
       "      <th></th>\n",
       "      <th>Rearing_LAB</th>\n",
       "      <th>Age_weeks</th>\n",
       "      <th>sample_type</th>\n",
       "      <th>extraction_date</th>\n",
       "      <th>extraction_run</th>\n",
       "      <th>extracted_by</th>\n",
       "      <th>DNA_elution_Vol_ul</th>\n",
       "      <th>Quantification_method</th>\n",
       "      <th>DNA_conc_ng_ul</th>\n",
       "      <th>260 / 280</th>\n",
       "      <th>...</th>\n",
       "      <th>water_chlorinated</th>\n",
       "      <th>mean_room_temp_C</th>\n",
       "      <th>room_humidity</th>\n",
       "      <th>other_animals_present</th>\n",
       "      <th>other_animals_present_kind</th>\n",
       "      <th>housing_room_condition</th>\n",
       "      <th>tail_handling</th>\n",
       "      <th>Notes</th>\n",
       "      <th>median_count</th>\n",
       "      <th>is_contamined</th>\n",
       "    </tr>\n",
       "  </thead>\n",
       "  <tbody>\n",
       "    <tr>\n",
       "      <th>100A</th>\n",
       "      <td>2</td>\n",
       "      <td>14.0</td>\n",
       "      <td>0</td>\n",
       "      <td>3</td>\n",
       "      <td>15.0</td>\n",
       "      <td>0</td>\n",
       "      <td>160.0</td>\n",
       "      <td>1</td>\n",
       "      <td>254.00</td>\n",
       "      <td>1.91</td>\n",
       "      <td>...</td>\n",
       "      <td>1</td>\n",
       "      <td>2</td>\n",
       "      <td>0</td>\n",
       "      <td>1</td>\n",
       "      <td>0</td>\n",
       "      <td>1</td>\n",
       "      <td>1</td>\n",
       "      <td>0</td>\n",
       "      <td>0.0</td>\n",
       "      <td>0</td>\n",
       "    </tr>\n",
       "    <tr>\n",
       "      <th>100B</th>\n",
       "      <td>2</td>\n",
       "      <td>14.0</td>\n",
       "      <td>0</td>\n",
       "      <td>7</td>\n",
       "      <td>8.0</td>\n",
       "      <td>0</td>\n",
       "      <td>120.0</td>\n",
       "      <td>0</td>\n",
       "      <td>271.25</td>\n",
       "      <td>1.88</td>\n",
       "      <td>...</td>\n",
       "      <td>1</td>\n",
       "      <td>2</td>\n",
       "      <td>0</td>\n",
       "      <td>1</td>\n",
       "      <td>0</td>\n",
       "      <td>1</td>\n",
       "      <td>1</td>\n",
       "      <td>0</td>\n",
       "      <td>0.0</td>\n",
       "      <td>1</td>\n",
       "    </tr>\n",
       "    <tr>\n",
       "      <th>101A</th>\n",
       "      <td>4</td>\n",
       "      <td>14.0</td>\n",
       "      <td>0</td>\n",
       "      <td>7</td>\n",
       "      <td>8.0</td>\n",
       "      <td>0</td>\n",
       "      <td>120.0</td>\n",
       "      <td>0</td>\n",
       "      <td>257.20</td>\n",
       "      <td>1.89</td>\n",
       "      <td>...</td>\n",
       "      <td>1</td>\n",
       "      <td>2</td>\n",
       "      <td>2</td>\n",
       "      <td>0</td>\n",
       "      <td>1</td>\n",
       "      <td>0</td>\n",
       "      <td>0</td>\n",
       "      <td>0</td>\n",
       "      <td>0.0</td>\n",
       "      <td>1</td>\n",
       "    </tr>\n",
       "    <tr>\n",
       "      <th>101B</th>\n",
       "      <td>4</td>\n",
       "      <td>14.0</td>\n",
       "      <td>0</td>\n",
       "      <td>11</td>\n",
       "      <td>16.0</td>\n",
       "      <td>1</td>\n",
       "      <td>160.0</td>\n",
       "      <td>1</td>\n",
       "      <td>218.00</td>\n",
       "      <td>1.89</td>\n",
       "      <td>...</td>\n",
       "      <td>1</td>\n",
       "      <td>2</td>\n",
       "      <td>2</td>\n",
       "      <td>0</td>\n",
       "      <td>1</td>\n",
       "      <td>0</td>\n",
       "      <td>0</td>\n",
       "      <td>0</td>\n",
       "      <td>0.0</td>\n",
       "      <td>0</td>\n",
       "    </tr>\n",
       "    <tr>\n",
       "      <th>103A</th>\n",
       "      <td>4</td>\n",
       "      <td>14.0</td>\n",
       "      <td>0</td>\n",
       "      <td>11</td>\n",
       "      <td>16.0</td>\n",
       "      <td>1</td>\n",
       "      <td>160.0</td>\n",
       "      <td>1</td>\n",
       "      <td>312.00</td>\n",
       "      <td>1.90</td>\n",
       "      <td>...</td>\n",
       "      <td>1</td>\n",
       "      <td>2</td>\n",
       "      <td>2</td>\n",
       "      <td>0</td>\n",
       "      <td>1</td>\n",
       "      <td>0</td>\n",
       "      <td>0</td>\n",
       "      <td>0</td>\n",
       "      <td>0.0</td>\n",
       "      <td>0</td>\n",
       "    </tr>\n",
       "  </tbody>\n",
       "</table>\n",
       "<p>5 rows × 42 columns</p>\n",
       "</div>"
      ],
      "text/plain": [
       "      Rearing_LAB   Age_weeks  sample_type  extraction_date  extraction_run  \\\n",
       "100A             2       14.0            0                3            15.0   \n",
       "100B             2       14.0            0                7             8.0   \n",
       "101A             4       14.0            0                7             8.0   \n",
       "101B             4       14.0            0               11            16.0   \n",
       "103A             4       14.0            0               11            16.0   \n",
       "\n",
       "      extracted_by  DNA_elution_Vol_ul  Quantification_method  DNA_conc_ng_ul  \\\n",
       "100A             0               160.0                      1          254.00   \n",
       "100B             0               120.0                      0          271.25   \n",
       "101A             0               120.0                      0          257.20   \n",
       "101B             1               160.0                      1          218.00   \n",
       "103A             1               160.0                      1          312.00   \n",
       "\n",
       "      260 / 280  ...  water_chlorinated  mean_room_temp_C  room_humidity  \\\n",
       "100A       1.91  ...                  1                 2              0   \n",
       "100B       1.88  ...                  1                 2              0   \n",
       "101A       1.89  ...                  1                 2              2   \n",
       "101B       1.89  ...                  1                 2              2   \n",
       "103A       1.90  ...                  1                 2              2   \n",
       "\n",
       "      other_animals_present  other_animals_present_kind  \\\n",
       "100A                      1                           0   \n",
       "100B                      1                           0   \n",
       "101A                      0                           1   \n",
       "101B                      0                           1   \n",
       "103A                      0                           1   \n",
       "\n",
       "      housing_room_condition  tail_handling  Notes  median_count  \\\n",
       "100A                       1              1      0           0.0   \n",
       "100B                       1              1      0           0.0   \n",
       "101A                       0              0      0           0.0   \n",
       "101B                       0              0      0           0.0   \n",
       "103A                       0              0      0           0.0   \n",
       "\n",
       "      is_contamined  \n",
       "100A              0  \n",
       "100B              1  \n",
       "101A              1  \n",
       "101B              0  \n",
       "103A              0  \n",
       "\n",
       "[5 rows x 42 columns]"
      ]
     },
     "execution_count": 35,
     "metadata": {},
     "output_type": "execute_result"
    }
   ],
   "source": [
    "meta_df.head()"
   ]
  },
  {
   "cell_type": "markdown",
   "metadata": {},
   "source": [
    "## Task 1:  split data in test and validation data\n",
    "Therefore I use a custom function to have balanced classes, as mentioned before my target variable ist if the plate was contaminied"
   ]
  },
  {
   "cell_type": "code",
   "execution_count": 36,
   "metadata": {},
   "outputs": [],
   "source": [
    "def split_to_train_test(df, label_column, train_frac=0.8):\n",
    "    train_df, test_df = pd.DataFrame(), pd.DataFrame()\n",
    "    labels = df[label_column].unique()\n",
    "    for lbl in labels:\n",
    "        lbl_df = df[df[label_column] == lbl]\n",
    "        lbl_train_df = lbl_df.sample(frac=train_frac)\n",
    "        lbl_test_df = lbl_df.drop(lbl_train_df.index)\n",
    "        print('\\n%s:\\n---------\\ntotal:%d\\ntrain_df:%d\\ntest_df:%d' % (lbl, len(lbl_df), len(lbl_train_df), len(lbl_test_df)))\n",
    "        train_df = train_df.append(lbl_train_df)\n",
    "        test_df = test_df.append(lbl_test_df)\n",
    "\n",
    "    return train_df, test_df"
   ]
  },
  {
   "cell_type": "code",
   "execution_count": 88,
   "metadata": {},
   "outputs": [
    {
     "name": "stdout",
     "output_type": "stream",
     "text": [
      "\n",
      "0:\n",
      "---------\n",
      "total:90\n",
      "train_df:63\n",
      "test_df:27\n",
      "\n",
      "1:\n",
      "---------\n",
      "total:83\n",
      "train_df:58\n",
      "test_df:25\n",
      "\n",
      "0.0:\n",
      "---------\n",
      "total:90\n",
      "train_df:63\n",
      "test_df:27\n",
      "\n",
      "1.0:\n",
      "---------\n",
      "total:83\n",
      "train_df:58\n",
      "test_df:25\n",
      "\n",
      "nan:\n",
      "---------\n",
      "total:0\n",
      "train_df:0\n",
      "test_df:0\n"
     ]
    },
    {
     "data": {
      "text/html": [
       "<div>\n",
       "<style scoped>\n",
       "    .dataframe tbody tr th:only-of-type {\n",
       "        vertical-align: middle;\n",
       "    }\n",
       "\n",
       "    .dataframe tbody tr th {\n",
       "        vertical-align: top;\n",
       "    }\n",
       "\n",
       "    .dataframe thead th {\n",
       "        text-align: right;\n",
       "    }\n",
       "</style>\n",
       "<table border=\"1\" class=\"dataframe\">\n",
       "  <thead>\n",
       "    <tr style=\"text-align: right;\">\n",
       "      <th></th>\n",
       "      <th>0</th>\n",
       "      <th>1</th>\n",
       "      <th>2</th>\n",
       "      <th>3</th>\n",
       "      <th>4</th>\n",
       "      <th>5</th>\n",
       "      <th>6</th>\n",
       "      <th>7</th>\n",
       "      <th>8</th>\n",
       "      <th>9</th>\n",
       "      <th>...</th>\n",
       "      <th>1555</th>\n",
       "      <th>1556</th>\n",
       "      <th>1557</th>\n",
       "      <th>1558</th>\n",
       "      <th>1559</th>\n",
       "      <th>1560</th>\n",
       "      <th>1561</th>\n",
       "      <th>1562</th>\n",
       "      <th>1563</th>\n",
       "      <th>is_contamined</th>\n",
       "    </tr>\n",
       "  </thead>\n",
       "  <tbody>\n",
       "    <tr>\n",
       "      <th>35B</th>\n",
       "      <td>63707</td>\n",
       "      <td>533</td>\n",
       "      <td>8760</td>\n",
       "      <td>525</td>\n",
       "      <td>17723</td>\n",
       "      <td>9889</td>\n",
       "      <td>7809</td>\n",
       "      <td>13562</td>\n",
       "      <td>14707</td>\n",
       "      <td>80</td>\n",
       "      <td>...</td>\n",
       "      <td>0</td>\n",
       "      <td>0</td>\n",
       "      <td>0</td>\n",
       "      <td>0</td>\n",
       "      <td>0</td>\n",
       "      <td>0</td>\n",
       "      <td>0</td>\n",
       "      <td>0</td>\n",
       "      <td>0</td>\n",
       "      <td>0.0</td>\n",
       "    </tr>\n",
       "    <tr>\n",
       "      <th>68B</th>\n",
       "      <td>45147</td>\n",
       "      <td>0</td>\n",
       "      <td>8991</td>\n",
       "      <td>1679</td>\n",
       "      <td>16255</td>\n",
       "      <td>17981</td>\n",
       "      <td>40499</td>\n",
       "      <td>13644</td>\n",
       "      <td>14722</td>\n",
       "      <td>240</td>\n",
       "      <td>...</td>\n",
       "      <td>0</td>\n",
       "      <td>0</td>\n",
       "      <td>0</td>\n",
       "      <td>0</td>\n",
       "      <td>0</td>\n",
       "      <td>0</td>\n",
       "      <td>0</td>\n",
       "      <td>0</td>\n",
       "      <td>0</td>\n",
       "      <td>0.0</td>\n",
       "    </tr>\n",
       "    <tr>\n",
       "      <th>33B</th>\n",
       "      <td>133365</td>\n",
       "      <td>0</td>\n",
       "      <td>82937</td>\n",
       "      <td>167</td>\n",
       "      <td>88578</td>\n",
       "      <td>15765</td>\n",
       "      <td>69230</td>\n",
       "      <td>37670</td>\n",
       "      <td>29563</td>\n",
       "      <td>51093</td>\n",
       "      <td>...</td>\n",
       "      <td>0</td>\n",
       "      <td>0</td>\n",
       "      <td>0</td>\n",
       "      <td>0</td>\n",
       "      <td>0</td>\n",
       "      <td>0</td>\n",
       "      <td>0</td>\n",
       "      <td>0</td>\n",
       "      <td>0</td>\n",
       "      <td>0.0</td>\n",
       "    </tr>\n",
       "    <tr>\n",
       "      <th>34B</th>\n",
       "      <td>28197</td>\n",
       "      <td>0</td>\n",
       "      <td>11565</td>\n",
       "      <td>366</td>\n",
       "      <td>11746</td>\n",
       "      <td>23897</td>\n",
       "      <td>17189</td>\n",
       "      <td>14083</td>\n",
       "      <td>10892</td>\n",
       "      <td>171</td>\n",
       "      <td>...</td>\n",
       "      <td>0</td>\n",
       "      <td>0</td>\n",
       "      <td>0</td>\n",
       "      <td>0</td>\n",
       "      <td>0</td>\n",
       "      <td>0</td>\n",
       "      <td>0</td>\n",
       "      <td>0</td>\n",
       "      <td>0</td>\n",
       "      <td>0.0</td>\n",
       "    </tr>\n",
       "    <tr>\n",
       "      <th>22A</th>\n",
       "      <td>160510</td>\n",
       "      <td>0</td>\n",
       "      <td>20084</td>\n",
       "      <td>39247</td>\n",
       "      <td>31704</td>\n",
       "      <td>11883</td>\n",
       "      <td>19532</td>\n",
       "      <td>25670</td>\n",
       "      <td>2338</td>\n",
       "      <td>132</td>\n",
       "      <td>...</td>\n",
       "      <td>0</td>\n",
       "      <td>0</td>\n",
       "      <td>0</td>\n",
       "      <td>0</td>\n",
       "      <td>0</td>\n",
       "      <td>0</td>\n",
       "      <td>0</td>\n",
       "      <td>0</td>\n",
       "      <td>0</td>\n",
       "      <td>0.0</td>\n",
       "    </tr>\n",
       "  </tbody>\n",
       "</table>\n",
       "<p>5 rows × 1565 columns</p>\n",
       "</div>"
      ],
      "text/plain": [
       "          0    1      2      3      4      5      6      7      8      9  ...  \\\n",
       "35B   63707  533   8760    525  17723   9889   7809  13562  14707     80  ...   \n",
       "68B   45147    0   8991   1679  16255  17981  40499  13644  14722    240  ...   \n",
       "33B  133365    0  82937    167  88578  15765  69230  37670  29563  51093  ...   \n",
       "34B   28197    0  11565    366  11746  23897  17189  14083  10892    171  ...   \n",
       "22A  160510    0  20084  39247  31704  11883  19532  25670   2338    132  ...   \n",
       "\n",
       "     1555  1556  1557  1558  1559  1560  1561  1562  1563  is_contamined  \n",
       "35B     0     0     0     0     0     0     0     0     0            0.0  \n",
       "68B     0     0     0     0     0     0     0     0     0            0.0  \n",
       "33B     0     0     0     0     0     0     0     0     0            0.0  \n",
       "34B     0     0     0     0     0     0     0     0     0            0.0  \n",
       "22A     0     0     0     0     0     0     0     0     0            0.0  \n",
       "\n",
       "[5 rows x 1565 columns]"
      ]
     },
     "execution_count": 88,
     "metadata": {},
     "output_type": "execute_result"
    }
   ],
   "source": [
    "train_df_meta, test_df_meta = split_to_train_test(meta_df, \"is_contamined\",0.7)\n",
    "seq_df_and_target = seq_df\n",
    "seq_df_and_target[\"is_contamined\"] = meta_df.is_contamined\n",
    "train_df_counts, test_df_counts = split_to_train_test(seq_df_and_target, \"is_contamined\", 0.7)\n",
    "train_df_counts.head()"
   ]
  },
  {
   "cell_type": "code",
   "execution_count": 38,
   "metadata": {},
   "outputs": [
    {
     "data": {
      "text/plain": [
       "0    90\n",
       "1    83\n",
       "Name: is_contamined, dtype: int64"
      ]
     },
     "execution_count": 38,
     "metadata": {},
     "output_type": "execute_result"
    }
   ],
   "source": [
    "# Check Class Balance to select suitable evaluation metric\n",
    "meta_df.is_contamined.value_counts()\n"
   ]
  },
  {
   "cell_type": "markdown",
   "metadata": {},
   "source": [
    "## Task 2: Select a evaluation metric\n",
    "For my first analyses I will chose the Accuracy as defined: Accuracy = (TP+TN)/(TP+FP+FN+TN) as a metric. It is a well established metric for a two class classification problem and since we have equally balanced classes it is a reasonable choice"
   ]
  },
  {
   "cell_type": "markdown",
   "metadata": {},
   "source": [
    "## Task 3: Create a baseline model\n",
    "Since I have a two class classification problem with balanced classes, it is suitable to chose the relative frequency of the more frequent class as naive baseline prediction accuracy.\n"
   ]
  },
  {
   "cell_type": "code",
   "execution_count": 41,
   "metadata": {},
   "outputs": [
    {
     "name": "stdout",
     "output_type": "stream",
     "text": [
      "Baseline Estimation $0.5202312138728323\n"
     ]
    }
   ],
   "source": [
    "# baseline estimation\n",
    "\n",
    "freq_class = max(meta_df.is_contamined.value_counts())\n",
    "baseline = freq_class / len(meta_df.index)\n",
    "print(\"Baseline Estimation ${}\".format(baseline))"
   ]
  },
  {
   "cell_type": "markdown",
   "metadata": {},
   "source": [
    "## Task 3.1: Build a decision tree model\n",
    "Use a decisoin tree as a very simple supervised method to see if more complex models are justified"
   ]
  },
  {
   "cell_type": "code",
   "execution_count": 93,
   "metadata": {},
   "outputs": [],
   "source": [
    "# function that returns predictions of a Decision Tree\n",
    "# takes whole dataframe including the target variable as input\n",
    "def train_dec_tree(df, target):\n",
    "    \n",
    "    # prepare data\n",
    "    y_train = df.loc[:, target]\n",
    "    X_train = df.drop(columns=[target])\n",
    "    \n",
    "    # Create Decision Tree classifer object\n",
    "    clf = DecisionTreeClassifier()\n",
    "\n",
    "    # Train Decision Tree Classifer\n",
    "    clf = clf.fit(X_train,y_train)\n",
    "\n",
    "    return clf\n",
    "\n",
    "\n"
   ]
  },
  {
   "cell_type": "markdown",
   "metadata": {},
   "source": [
    "### Decision Tree for count data"
   ]
  },
  {
   "cell_type": "code",
   "execution_count": 94,
   "metadata": {},
   "outputs": [],
   "source": [
    "clf_count_data = train_dec_tree(train_df_counts, \"is_contamined\")"
   ]
  },
  {
   "cell_type": "code",
   "execution_count": 101,
   "metadata": {},
   "outputs": [
    {
     "data": {
      "text/plain": [
       "0.8269230769230769"
      ]
     },
     "execution_count": 101,
     "metadata": {},
     "output_type": "execute_result"
    }
   ],
   "source": [
    "count_pred = count_clf.predict(test_df_counts.drop(columns=[\"is_contamined\"]))\n",
    "metrics.accuracy_score(test_df_counts.is_contamined, count_pred)"
   ]
  },
  {
   "cell_type": "markdown",
   "metadata": {},
   "source": [
    "### Decision Tree for meta data"
   ]
  },
  {
   "cell_type": "code",
   "execution_count": 104,
   "metadata": {},
   "outputs": [
    {
     "data": {
      "text/plain": [
       "1.0"
      ]
     },
     "execution_count": 104,
     "metadata": {},
     "output_type": "execute_result"
    }
   ],
   "source": [
    "clf_meta_data = train_dec_tree(train_df_meta, \"is_contamined\")\n",
    "meta_pred = clf_meta_data.predict(test_df_meta.drop(columns=[\"is_contamined\"]))\n",
    "metrics.accuracy_score(test_df_meta.is_contamined, meta_pred)"
   ]
  },
  {
   "cell_type": "markdown",
   "metadata": {},
   "source": [
    "## Task 4: Use a supervised machine learning model\n",
    "My goal is mainly to find features "
   ]
  },
  {
   "cell_type": "code",
   "execution_count": 107,
   "metadata": {},
   "outputs": [],
   "source": [
    "\n",
    "# functions that return predictions of a Random Forest\n",
    "def train_test_rf(df, target):\n",
    "    \n",
    "    # prepare data\n",
    "    y_train = df.loc[:, target]\n",
    "    X_train = df.drop(columns=[target])\n",
    "    \n",
    "    clf = RandomForestClassifier(n_estimators=200)\n",
    "    clf = clf.fit(X_train, y_train)\n",
    "  \n",
    "    return clf"
   ]
  },
  {
   "cell_type": "code",
   "execution_count": 119,
   "metadata": {},
   "outputs": [],
   "source": [
    "# prints accuracy and displays confusion table as heatmap\n",
    "def accurcay_confusion_heatmap(test_df, predictions, target):\n",
    "    conf_mat = confusion_matrix(test_df.loc[:,target], predictions)\n",
    "    print(conf_mat)\n",
    "    # Model Accuracy, how often is the classifier correct?\n",
    "    print(\"Accuracy:\",metrics.accuracy_score(test_df.loc[:,target], predictions))\n",
    "    # helper df for heatmap\n",
    "    df_cm = pd.DataFrame(conf_mat, range(2), range(2))\n",
    "    # plt.figure(figsize=(10,7))\n",
    "    sns.set(font_scale=1.4) # for label size\n",
    "    sns.heatmap(df_cm, annot=True, annot_kws={\"size\": 4}) # font size\n",
    "\n",
    "    plt.show()"
   ]
  },
  {
   "cell_type": "markdown",
   "metadata": {},
   "source": [
    "### Supervised model for count data"
   ]
  },
  {
   "cell_type": "code",
   "execution_count": 116,
   "metadata": {},
   "outputs": [
    {
     "data": {
      "text/plain": [
       "0.8269230769230769"
      ]
     },
     "execution_count": 116,
     "metadata": {},
     "output_type": "execute_result"
    }
   ],
   "source": [
    "count_rf_clf = train_test_rf(train_df_counts, \"is_contamined\")\n",
    "count_pred_rf = count_rf_clf.predict(test_df_counts.drop(columns=[\"is_contamined\"]))\n",
    "metrics.accuracy_score(test_df_counts.is_contamined, count_pred_rf)"
   ]
  },
  {
   "cell_type": "code",
   "execution_count": 120,
   "metadata": {},
   "outputs": [
    {
     "name": "stdout",
     "output_type": "stream",
     "text": [
      "[[24  3]\n",
      " [ 6 19]]\n",
      "Accuracy: 0.8269230769230769\n"
     ]
    },
    {
     "data": {
      "image/png": "[encoded data removed]",
      "text/plain": [
       "<Figure size 864x576 with 2 Axes>"
      ]
     },
     "metadata": {},
     "output_type": "display_data"
    }
   ],
   "source": [
    "accurcay_confusion_heatmap(test_df_counts, count_pred_rf, \"is_contamined\")"
   ]
  },
  {
   "cell_type": "markdown",
   "metadata": {},
   "source": [
    "### Supervised model for meta data"
   ]
  },
  {
   "cell_type": "code",
   "execution_count": null,
   "metadata": {},
   "outputs": [],
   "source": []
  },
  {
   "cell_type": "code",
   "execution_count": 124,
   "metadata": {},
   "outputs": [
    {
     "data": {
      "text/plain": [
       "1.0"
      ]
     },
     "execution_count": 124,
     "metadata": {},
     "output_type": "execute_result"
    }
   ],
   "source": [
    "meta_rf_clf = train_test_rf(train_df_meta, \"is_contamined\")\n",
    "meta_pred_rf = meta_rf_clf.predict(test_df_meta.drop(columns=[\"is_contamined\"]))\n",
    "metrics.accuracy_score(test_df_meta.is_contamined, meta_pred_rf)"
   ]
  },
  {
   "cell_type": "markdown",
   "metadata": {},
   "source": [
    "## Task 4.1\n",
    "\n",
    "To get a insight what was differnt on the contamined plates, respectively which features contributet to the contamination, I now investigate the feature importance of the RF."
   ]
  },
  {
   "cell_type": "code",
   "execution_count": 146,
   "metadata": {},
   "outputs": [],
   "source": [
    "def plt_feat_importance(clf, target_var, features):\n",
    "    \n",
    "    feat_importances = pd.Series(clf.feature_importances_, index=features)\n",
    "    feat_importances.nlargest(15).plot(kind='barh')"
   ]
  },
  {
   "cell_type": "code",
   "execution_count": 143,
   "metadata": {},
   "outputs": [
    {
     "data": {
      "text/html": [
       "<div>\n",
       "<style scoped>\n",
       "    .dataframe tbody tr th:only-of-type {\n",
       "        vertical-align: middle;\n",
       "    }\n",
       "\n",
       "    .dataframe tbody tr th {\n",
       "        vertical-align: top;\n",
       "    }\n",
       "\n",
       "    .dataframe thead th {\n",
       "        text-align: right;\n",
       "    }\n",
       "</style>\n",
       "<table border=\"1\" class=\"dataframe\">\n",
       "  <thead>\n",
       "    <tr style=\"text-align: right;\">\n",
       "      <th></th>\n",
       "      <th>otu1</th>\n",
       "      <th>otu2</th>\n",
       "      <th>otu3</th>\n",
       "      <th>otu4</th>\n",
       "      <th>otu5</th>\n",
       "      <th>otu6</th>\n",
       "      <th>otu7</th>\n",
       "      <th>otu8</th>\n",
       "      <th>otu9</th>\n",
       "      <th>otu10</th>\n",
       "      <th>...</th>\n",
       "      <th>otu1555</th>\n",
       "      <th>otu1556</th>\n",
       "      <th>otu1557</th>\n",
       "      <th>otu1558</th>\n",
       "      <th>otu1559</th>\n",
       "      <th>otu1560</th>\n",
       "      <th>otu1561</th>\n",
       "      <th>otu1562</th>\n",
       "      <th>otu1563</th>\n",
       "      <th>otu1564</th>\n",
       "    </tr>\n",
       "  </thead>\n",
       "  <tbody>\n",
       "    <tr>\n",
       "      <th>Unnamed: 0</th>\n",
       "      <td>0</td>\n",
       "      <td>1</td>\n",
       "      <td>2</td>\n",
       "      <td>3</td>\n",
       "      <td>4</td>\n",
       "      <td>5</td>\n",
       "      <td>6</td>\n",
       "      <td>7</td>\n",
       "      <td>8</td>\n",
       "      <td>9</td>\n",
       "      <td>...</td>\n",
       "      <td>1554</td>\n",
       "      <td>1555</td>\n",
       "      <td>1556</td>\n",
       "      <td>1557</td>\n",
       "      <td>1558</td>\n",
       "      <td>1559</td>\n",
       "      <td>1560</td>\n",
       "      <td>1561</td>\n",
       "      <td>1562</td>\n",
       "      <td>1563</td>\n",
       "    </tr>\n",
       "    <tr>\n",
       "      <th>otu</th>\n",
       "      <td>otu1</td>\n",
       "      <td>otu2</td>\n",
       "      <td>otu3</td>\n",
       "      <td>otu4</td>\n",
       "      <td>otu5</td>\n",
       "      <td>otu6</td>\n",
       "      <td>otu7</td>\n",
       "      <td>otu8</td>\n",
       "      <td>otu9</td>\n",
       "      <td>otu10</td>\n",
       "      <td>...</td>\n",
       "      <td>otu1555</td>\n",
       "      <td>otu1556</td>\n",
       "      <td>otu1557</td>\n",
       "      <td>otu1558</td>\n",
       "      <td>otu1559</td>\n",
       "      <td>otu1560</td>\n",
       "      <td>otu1561</td>\n",
       "      <td>otu1562</td>\n",
       "      <td>otu1563</td>\n",
       "      <td>otu1564</td>\n",
       "    </tr>\n",
       "    <tr>\n",
       "      <th>seq</th>\n",
       "      <td>TACGGAGGATGCGAGCGTTATCCGGATTTATTGGGTTTAAAGGGTG...</td>\n",
       "      <td>TACGTAGGTGGCAAGCGTTGTCCGGATTTATTGGGCGTAAAGCGCG...</td>\n",
       "      <td>TACGGAGGATGCGAGCGTTATCCGGATTTATTGGGTTTAAAGGGTG...</td>\n",
       "      <td>TACGTAGGGGGCAAGCGTTATCCGGATTTACTGGGTGTAAAGGGAG...</td>\n",
       "      <td>TACGTAGGGGGCAAGCGTTATCCGGATTTACTGGGTGTAAAGGGAG...</td>\n",
       "      <td>TACGGAGGGTGCGAGCGTTAATCGGAATTACTGGGCGTAAAGCGCT...</td>\n",
       "      <td>TACGGAGGATGCGAGCGTTATCCGGATTTATTGGGTTTAAAGGGTG...</td>\n",
       "      <td>TACGGAGGATGCGAGCGTTATCCGGATTTATTGGGTTTAAAGGGTG...</td>\n",
       "      <td>TACGGAGGATGCGAGCGTTATCCGGATTTATTGGGTTTAAAGGGTG...</td>\n",
       "      <td>TACGTAGGGGGCAAGCGTTATCCGGATTTACTGGGTGTAAAGGGAG...</td>\n",
       "      <td>...</td>\n",
       "      <td>TACGGAGGATGCGAGCGTTATCCGGATTTATTGGGTTTAAAGGGAG...</td>\n",
       "      <td>CGTCGGCAGCGTCAGATGTGTATAAGAGACAGTGCAGGTGCCAGCA...</td>\n",
       "      <td>TACGGAGGATGCGAGCGTTATCCGGATTTACTGGGTGTAAAGGGGG...</td>\n",
       "      <td>TACGTAGGGGGCAAGCGTTATCCGGATTTACTGGGTGTAAAGGGGG...</td>\n",
       "      <td>TACGTAGGGGGCAAGCGTTATCCGGATTCACTGGGCGTAAAGGGAG...</td>\n",
       "      <td>TACGTAGGGTGCGAGCGTTAATCGGAATTACTGGGCGTAAAGGGTG...</td>\n",
       "      <td>TACGGAGGATCCAAGCGTTATCCGGATTTATTGGGTTTAAAGGGTG...</td>\n",
       "      <td>TACGGAGGATTCAAGCGTTATCCGGATTTACTGGGTGTAAAGGGAG...</td>\n",
       "      <td>TACGGAGGGTGCGAGCGTTAATCGGAATTACTGGGTGTAAAGGGAG...</td>\n",
       "      <td>TACGTAGGTGGCAAGCGTTGTCCGGATTTACTGGGCGTAAAGGGAG...</td>\n",
       "    </tr>\n",
       "    <tr>\n",
       "      <th>tax</th>\n",
       "      <td>rootrank;Root;62.12|domain;Bacteria;62.12|phyl...</td>\n",
       "      <td>rootrank;Root;100|domain;Bacteria;100|phylum;F...</td>\n",
       "      <td>rootrank;Root;72.8|domain;Bacteria;72.8|phylum...</td>\n",
       "      <td>rootrank;Root;98.27|domain;Bacteria;98.27|phyl...</td>\n",
       "      <td>rootrank;Root;100|domain;Bacteria;100|phylum;F...</td>\n",
       "      <td>rootrank;Root;57.53|domain;Bacteria;57.53|phyl...</td>\n",
       "      <td>rootrank;Root;64.9|domain;Bacteria;64.44|phylu...</td>\n",
       "      <td>rootrank;Root;66.29|domain;Bacteria;66.29|phyl...</td>\n",
       "      <td>rootrank;Root;67.98|domain;Bacteria;67.98|phyl...</td>\n",
       "      <td>rootrank;Root;100|domain;Bacteria;100|phylum;F...</td>\n",
       "      <td>...</td>\n",
       "      <td>rootrank;Root;62.98|domain;Bacteria;62.98|phyl...</td>\n",
       "      <td>rootrank;Root;48.03|domain;Bacteria;45.85|phyl...</td>\n",
       "      <td>rootrank;Root;68.61|domain;Bacteria;68.61|phyl...</td>\n",
       "      <td>rootrank;Root;75.6|domain;Bacteria;75.6|phylum...</td>\n",
       "      <td>rootrank;Root;83.43|domain;Bacteria;83.43|phyl...</td>\n",
       "      <td>rootrank;Root;58.62|domain;Bacteria;58.62|phyl...</td>\n",
       "      <td>rootrank;Root;60.66|domain;Bacteria;60.66|phyl...</td>\n",
       "      <td>rootrank;Root;64.48|domain;Bacteria;64.48|phyl...</td>\n",
       "      <td>rootrank;Root;68.38|domain;Bacteria;68.38|phyl...</td>\n",
       "      <td>rootrank;Root;74.04|domain;Bacteria;74.04|phyl...</td>\n",
       "    </tr>\n",
       "  </tbody>\n",
       "</table>\n",
       "<p>4 rows × 1564 columns</p>\n",
       "</div>"
      ],
      "text/plain": [
       "                                                         otu1  \\\n",
       "Unnamed: 0                                                  0   \n",
       "otu                                                      otu1   \n",
       "seq         TACGGAGGATGCGAGCGTTATCCGGATTTATTGGGTTTAAAGGGTG...   \n",
       "tax         rootrank;Root;62.12|domain;Bacteria;62.12|phyl...   \n",
       "\n",
       "                                                         otu2  \\\n",
       "Unnamed: 0                                                  1   \n",
       "otu                                                      otu2   \n",
       "seq         TACGTAGGTGGCAAGCGTTGTCCGGATTTATTGGGCGTAAAGCGCG...   \n",
       "tax         rootrank;Root;100|domain;Bacteria;100|phylum;F...   \n",
       "\n",
       "                                                         otu3  \\\n",
       "Unnamed: 0                                                  2   \n",
       "otu                                                      otu3   \n",
       "seq         TACGGAGGATGCGAGCGTTATCCGGATTTATTGGGTTTAAAGGGTG...   \n",
       "tax         rootrank;Root;72.8|domain;Bacteria;72.8|phylum...   \n",
       "\n",
       "                                                         otu4  \\\n",
       "Unnamed: 0                                                  3   \n",
       "otu                                                      otu4   \n",
       "seq         TACGTAGGGGGCAAGCGTTATCCGGATTTACTGGGTGTAAAGGGAG...   \n",
       "tax         rootrank;Root;98.27|domain;Bacteria;98.27|phyl...   \n",
       "\n",
       "                                                         otu5  \\\n",
       "Unnamed: 0                                                  4   \n",
       "otu                                                      otu5   \n",
       "seq         TACGTAGGGGGCAAGCGTTATCCGGATTTACTGGGTGTAAAGGGAG...   \n",
       "tax         rootrank;Root;100|domain;Bacteria;100|phylum;F...   \n",
       "\n",
       "                                                         otu6  \\\n",
       "Unnamed: 0                                                  5   \n",
       "otu                                                      otu6   \n",
       "seq         TACGGAGGGTGCGAGCGTTAATCGGAATTACTGGGCGTAAAGCGCT...   \n",
       "tax         rootrank;Root;57.53|domain;Bacteria;57.53|phyl...   \n",
       "\n",
       "                                                         otu7  \\\n",
       "Unnamed: 0                                                  6   \n",
       "otu                                                      otu7   \n",
       "seq         TACGGAGGATGCGAGCGTTATCCGGATTTATTGGGTTTAAAGGGTG...   \n",
       "tax         rootrank;Root;64.9|domain;Bacteria;64.44|phylu...   \n",
       "\n",
       "                                                         otu8  \\\n",
       "Unnamed: 0                                                  7   \n",
       "otu                                                      otu8   \n",
       "seq         TACGGAGGATGCGAGCGTTATCCGGATTTATTGGGTTTAAAGGGTG...   \n",
       "tax         rootrank;Root;66.29|domain;Bacteria;66.29|phyl...   \n",
       "\n",
       "                                                         otu9  \\\n",
       "Unnamed: 0                                                  8   \n",
       "otu                                                      otu9   \n",
       "seq         TACGGAGGATGCGAGCGTTATCCGGATTTATTGGGTTTAAAGGGTG...   \n",
       "tax         rootrank;Root;67.98|domain;Bacteria;67.98|phyl...   \n",
       "\n",
       "                                                        otu10  ...  \\\n",
       "Unnamed: 0                                                  9  ...   \n",
       "otu                                                     otu10  ...   \n",
       "seq         TACGTAGGGGGCAAGCGTTATCCGGATTTACTGGGTGTAAAGGGAG...  ...   \n",
       "tax         rootrank;Root;100|domain;Bacteria;100|phylum;F...  ...   \n",
       "\n",
       "                                                      otu1555  \\\n",
       "Unnamed: 0                                               1554   \n",
       "otu                                                   otu1555   \n",
       "seq         TACGGAGGATGCGAGCGTTATCCGGATTTATTGGGTTTAAAGGGAG...   \n",
       "tax         rootrank;Root;62.98|domain;Bacteria;62.98|phyl...   \n",
       "\n",
       "                                                      otu1556  \\\n",
       "Unnamed: 0                                               1555   \n",
       "otu                                                   otu1556   \n",
       "seq         CGTCGGCAGCGTCAGATGTGTATAAGAGACAGTGCAGGTGCCAGCA...   \n",
       "tax         rootrank;Root;48.03|domain;Bacteria;45.85|phyl...   \n",
       "\n",
       "                                                      otu1557  \\\n",
       "Unnamed: 0                                               1556   \n",
       "otu                                                   otu1557   \n",
       "seq         TACGGAGGATGCGAGCGTTATCCGGATTTACTGGGTGTAAAGGGGG...   \n",
       "tax         rootrank;Root;68.61|domain;Bacteria;68.61|phyl...   \n",
       "\n",
       "                                                      otu1558  \\\n",
       "Unnamed: 0                                               1557   \n",
       "otu                                                   otu1558   \n",
       "seq         TACGTAGGGGGCAAGCGTTATCCGGATTTACTGGGTGTAAAGGGGG...   \n",
       "tax         rootrank;Root;75.6|domain;Bacteria;75.6|phylum...   \n",
       "\n",
       "                                                      otu1559  \\\n",
       "Unnamed: 0                                               1558   \n",
       "otu                                                   otu1559   \n",
       "seq         TACGTAGGGGGCAAGCGTTATCCGGATTCACTGGGCGTAAAGGGAG...   \n",
       "tax         rootrank;Root;83.43|domain;Bacteria;83.43|phyl...   \n",
       "\n",
       "                                                      otu1560  \\\n",
       "Unnamed: 0                                               1559   \n",
       "otu                                                   otu1560   \n",
       "seq         TACGTAGGGTGCGAGCGTTAATCGGAATTACTGGGCGTAAAGGGTG...   \n",
       "tax         rootrank;Root;58.62|domain;Bacteria;58.62|phyl...   \n",
       "\n",
       "                                                      otu1561  \\\n",
       "Unnamed: 0                                               1560   \n",
       "otu                                                   otu1561   \n",
       "seq         TACGGAGGATCCAAGCGTTATCCGGATTTATTGGGTTTAAAGGGTG...   \n",
       "tax         rootrank;Root;60.66|domain;Bacteria;60.66|phyl...   \n",
       "\n",
       "                                                      otu1562  \\\n",
       "Unnamed: 0                                               1561   \n",
       "otu                                                   otu1562   \n",
       "seq         TACGGAGGATTCAAGCGTTATCCGGATTTACTGGGTGTAAAGGGAG...   \n",
       "tax         rootrank;Root;64.48|domain;Bacteria;64.48|phyl...   \n",
       "\n",
       "                                                      otu1563  \\\n",
       "Unnamed: 0                                               1562   \n",
       "otu                                                   otu1563   \n",
       "seq         TACGGAGGGTGCGAGCGTTAATCGGAATTACTGGGTGTAAAGGGAG...   \n",
       "tax         rootrank;Root;68.38|domain;Bacteria;68.38|phyl...   \n",
       "\n",
       "                                                      otu1564  \n",
       "Unnamed: 0                                               1563  \n",
       "otu                                                   otu1564  \n",
       "seq         TACGTAGGTGGCAAGCGTTGTCCGGATTTACTGGGCGTAAAGGGAG...  \n",
       "tax         rootrank;Root;74.04|domain;Bacteria;74.04|phyl...  \n",
       "\n",
       "[4 rows x 1564 columns]"
      ]
     },
     "execution_count": 143,
     "metadata": {},
     "output_type": "execute_result"
    }
   ],
   "source": [
    "otu_info_helper.head()"
   ]
  },
  {
   "cell_type": "code",
   "execution_count": 147,
   "metadata": {},
   "outputs": [
    {
     "data": {
      "image/png": "[encoded data removed]",
      "text/plain": [
       "<Figure size 864x576 with 1 Axes>"
      ]
     },
     "metadata": {},
     "output_type": "display_data"
    }
   ],
   "source": [
    "# plot feature importance for count data\n",
    "plt_feat_importance(count_rf_clf, \"is_contamined\", otu_info_helper.columns)"
   ]
  },
  {
   "cell_type": "code",
   "execution_count": 159,
   "metadata": {},
   "outputs": [
    {
     "data": {
      "text/plain": [
       "Index(['Rearing_LAB ', 'Age_weeks', 'sample_type', 'extraction_date',\n",
       "       'extraction_run', 'extracted_by', 'DNA_elution_Vol_ul',\n",
       "       'Quantification_method', 'DNA_conc_ng_ul', '260 / 280', '230 / 260',\n",
       "       '16S_PCR_date', 'PCR_row', 'PCR_position', 'library_conc_ng_ul',\n",
       "       'FA_kit_used', 'repeat_library_prep', 'library_prep_attempt',\n",
       "       'Use_for_pooling', 'Dilution_factor', 'Vol_EB_ul', 'Vol_DNA_ul',\n",
       "       'light_cycle', 'cage_type', 'bedding_material', 'bedding_autoclaved',\n",
       "       'house_present', 'roll_present', 'enrichment_autoclaved', 'diet',\n",
       "       'diet_treatment', 'water_autoclaved', 'water_chlorinated',\n",
       "       'mean_room_temp_C', 'room_humidity', 'other_animals_present',\n",
       "       'other_animals_present_kind', 'housing_room_condition', 'tail_handling',\n",
       "       'Notes', 'median_count', 'is_contamined'],\n",
       "      dtype='object')"
      ]
     },
     "execution_count": 159,
     "metadata": {},
     "output_type": "execute_result"
    }
   ],
   "source": [
    "meta_df.columns"
   ]
  },
  {
   "cell_type": "code",
   "execution_count": 160,
   "metadata": {},
   "outputs": [
    {
     "data": {
      "image/png": "[encoded data removed]",
      "text/plain": [
       "<Figure size 864x576 with 1 Axes>"
      ]
     },
     "metadata": {
      "needs_background": "light"
     },
     "output_type": "display_data"
    }
   ],
   "source": [
    "# plot feature importance for meta data\n",
    "plt_feat_importance(meta_rf_clf, \"is_contamined\", meta_df.drop(columns=[\"is_contamined\"]).columns)"
   ]
  },
  {
   "cell_type": "markdown",
   "metadata": {},
   "source": [
    "## Shapley Value for feature contribution\n",
    "// TODO describe\n"
   ]
  },
  {
   "cell_type": "code",
   "execution_count": 162,
   "metadata": {},
   "outputs": [],
   "source": [
    "\n",
    "def plot_shap_val(clf, X_train):\n",
    "    \n",
    "    shap_values = shap.TreeExplainer(clf).shap_values(X_train)\n",
    "    shap.summary_plot(shap_values, X_train)\n",
    "    return shap_values"
   ]
  },
  {
   "cell_type": "code",
   "execution_count": 164,
   "metadata": {},
   "outputs": [
    {
     "data": {
      "image/png": "[encoded data removed]",
      "text/plain": [
       "<Figure size 576x684 with 1 Axes>"
      ]
     },
     "metadata": {
      "needs_background": "light"
     },
     "output_type": "display_data"
    },
    {
     "data": {
      "image/png": "[encoded data removed]",
      "text/plain": [
       "<Figure size 576x684 with 1 Axes>"
      ]
     },
     "metadata": {
      "needs_background": "light"
     },
     "output_type": "display_data"
    }
   ],
   "source": [
    "# get shapley values for count data and plot\n",
    "count_shap_vals = plot_shap_val(count_rf_clf, train_df_counts)\n",
    "\n"
   ]
  },
  {
   "cell_type": "code",
   "execution_count": 165,
   "metadata": {},
   "outputs": [
    {
     "data": {
      "image/png": "[encoded data removed]",
      "text/plain": [
       "<Figure size 576x684 with 1 Axes>"
      ]
     },
     "metadata": {
      "needs_background": "light"
     },
     "output_type": "display_data"
    }
   ],
   "source": [
    "# geth shapley values and plot for meta data\n",
    "count_meta_vals = plot_shap_val(meta_rf_clf, train_df_meta)"
   ]
  }
 ],
 "metadata": {
  "kernelspec": {
   "display_name": "Python 3",
   "language": "python",
   "name": "python3"
  },
  "language_info": {
   "codemirror_mode": {
    "name": "ipython",
    "version": 3
   },
   "file_extension": ".py",
   "mimetype": "text/x-python",
   "name": "python",
   "nbconvert_exporter": "python",
   "pygments_lexer": "ipython3",
   "version": "3.6.9"
  }
 },
 "nbformat": 4,
 "nbformat_minor": 4
}
