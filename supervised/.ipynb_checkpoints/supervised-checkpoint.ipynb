{
 "cells": [
  {
   "cell_type": "markdown",
   "metadata": {},
   "source": [
    "## Ziele\n",
    "Festlegung der Zielgroesse: PCR Platte, spezifisch, wird in kontaminierte Platte (Platte 1) und nicht kontaminierte Platte unterschieden. Ziel ist es mit einem ueberwachtem Lernverfahren vorherzusagen, ob eine Platte kontaminiert sein wird.\n",
    "Falls das mit annehmbarer Accuracy vorherzusagen ist, interessieren mich vor Allem die Features, die wichtig fuer die Vorhersage sind. Daraus erhoffe ich mir herauszufinden welche Variablen fuer die Kontamination verantwortlich sind / waren. Es handelt sich um eine Klassifikationsaufgabe\n",
    "\n",
    "## Ziele Bullet Points\n",
    "* What went wrong with the contaminated PCR Plate\n",
    "* Can we predict the contaminated PCR Plate\n",
    "* Are there specific contaminations\n",
    "\n",
    "## Implementation\n",
    "* Use Random Forest to predict PCR Plate (1 and other)\n",
    "* Check Accuracy\n",
    "- Use RF Feature Importance to find factors that contribute to contamination\n",
    "- Use Shapley Value to find factors that contribute to contamination\n"
   ]
  },
  {
   "cell_type": "code",
   "execution_count": 56,
   "metadata": {},
   "outputs": [],
   "source": [
    "# import packages\n",
    "import pandas as pd\n",
    "import numpy as np\n",
    "import seaborn as sns\n",
    "import shap\n",
    "\n",
    "import pprint\n",
    "import statistics\n",
    "\n",
    "import matplotlib.pyplot as plt\n",
    "import matplotlib.mlab as mlab\n",
    "import matplotlib\n",
    "plt.style.use('ggplot')\n",
    "from matplotlib.pyplot import figure\n",
    "\n",
    "from sklearn.model_selection import cross_val_score\n",
    "from sklearn.model_selection import RepeatedStratifiedKFold\n",
    "from sklearn.ensemble import RandomForestClassifier\n",
    "from sklearn.metrics import confusion_matrix\n",
    "from sklearn import metrics\n",
    "from sklearn import preprocessing\n",
    "from sklearn.ensemble import RandomForestRegressor\n",
    "from sklearn.tree import DecisionTreeClassifier\n",
    "from sklearn.model_selection import cross_val_score\n",
    "from sklearn.model_selection import cross_validate \n",
    "from sklearn.neural_network import MLPClassifier\n",
    "from sklearn.model_selection import StratifiedKFold\n",
    "from sklearn.metrics import f1_score\n",
    "from sklearn import tree\n",
    "from sklearn.model_selection import GridSearchCV\n",
    "\n",
    "np.random.seed(0)\n",
    "\n",
    "\n",
    "\n",
    "%matplotlib inline\n",
    "matplotlib.rcParams['figure.figsize'] = (10,4)\n",
    "\n",
    "pd.options.mode.chained_assignment = None\n",
    "pp = pprint.PrettyPrinter(indent=4)"
   ]
  },
  {
   "cell_type": "code",
   "execution_count": 64,
   "metadata": {
    "scrolled": false
   },
   "outputs": [
    {
     "data": {
      "text/plain": [
       "1    93\n",
       "2    91\n",
       "3    15\n",
       "Name: PCR_plate, dtype: int64"
      ]
     },
     "execution_count": 64,
     "metadata": {},
     "output_type": "execute_result"
    }
   ],
   "source": [
    "# read data\n",
    "meta_df = pd.read_csv(\"../data/output/preprocessed_data.csv\",  index_col=0)\n",
    "seq_df = pd.read_csv(\"../data/output/seqData.csv\", index_col = 0)\n",
    "seq_df_two = pd.read_csv(\"../data/output/seqData.csv\", index_col = 0) # helper\n",
    "otu_info = pd.read_csv(\"../data/output/otu_info.csv\")\n",
    "\n",
    "otu_info_helper = otu_info.rename(index = otu_info.otu)\n",
    "otu_info_helper = otu_info_helper.transpose()\n",
    "whole_meta_df = pd.read_csv(\"../data/output/whole_preprocessed_meta_data\", index_col = 0)\n",
    "whole_meta_df[\"PCR_plate\"].value_counts(dropna=False)\n"
   ]
  },
  {
   "cell_type": "markdown",
   "metadata": {},
   "source": [
    "## Task 0: Prepare Data specifically for supervised models\n",
    "I want to classify the count data as well as the metadata based on if the pcr plate was contamined. Therefore, I aggregate the information about the PCR plate of the sample into two groups: contamined (plate 1) and not contamined(plates 2,3). The contamined plates are encoded with a 1, the non-contamined plates with a 0.\n",
    "Subsequently, I will save the target variable (contamined, not contamined) as an extra vector an remove it from the dataframe we train and test with. I will perform to analyses: The main analysis will use the OTU Counts as features to predict if the plate will be contamined. If the predictions work with sufficient accuracy, I will investigate which OTUs have the highest influence on the prediction. I will perform the same anlayses with the metadata."
   ]
  },
  {
   "cell_type": "code",
   "execution_count": 65,
   "metadata": {},
   "outputs": [],
   "source": [
    "\n",
    "# Modify target variable\n",
    "meta_df = meta_df.assign(\n",
    "    is_contamined = lambda dataframe: dataframe['PCR_plate'].map(lambda PCR_plate: 1 if PCR_plate == 1 else 0) \n",
    ")\n",
    "meta_df = meta_df.drop(columns=[\"PCR_plate\"])\n",
    "\n",
    "\n"
   ]
  },
  {
   "cell_type": "code",
   "execution_count": 66,
   "metadata": {},
   "outputs": [],
   "source": [
    "whole_meta_df = whole_meta_df.assign(\n",
    "    is_contamined = lambda dataframe: dataframe['PCR_plate'].map(lambda PCR_plate: 1 if PCR_plate == 1 else 0) \n",
    ")\n",
    "whole_meta_df = whole_meta_df.drop(columns=[\"PCR_plate\"])"
   ]
  },
  {
   "cell_type": "code",
   "execution_count": 67,
   "metadata": {},
   "outputs": [
    {
     "data": {
      "text/plain": [
       "dtype('int64')"
      ]
     },
     "execution_count": 67,
     "metadata": {},
     "output_type": "execute_result"
    }
   ],
   "source": [
    "whole_meta_df.is_contamined.dtypes\n"
   ]
  },
  {
   "cell_type": "code",
   "execution_count": 68,
   "metadata": {},
   "outputs": [
    {
     "data": {
      "text/html": [
       "<div>\n",
       "<style scoped>\n",
       "    .dataframe tbody tr th:only-of-type {\n",
       "        vertical-align: middle;\n",
       "    }\n",
       "\n",
       "    .dataframe tbody tr th {\n",
       "        vertical-align: top;\n",
       "    }\n",
       "\n",
       "    .dataframe thead th {\n",
       "        text-align: right;\n",
       "    }\n",
       "</style>\n",
       "<table border=\"1\" class=\"dataframe\">\n",
       "  <thead>\n",
       "    <tr style=\"text-align: right;\">\n",
       "      <th></th>\n",
       "      <th>Rearing_LAB</th>\n",
       "      <th>Sex</th>\n",
       "      <th>Age_weeks</th>\n",
       "      <th>Animals_for</th>\n",
       "      <th>cage_ID</th>\n",
       "      <th>BOX</th>\n",
       "      <th>Position</th>\n",
       "      <th>sample_type</th>\n",
       "      <th>extraction_date</th>\n",
       "      <th>extraction_run</th>\n",
       "      <th>...</th>\n",
       "      <th>tail_handling</th>\n",
       "      <th>BW_g</th>\n",
       "      <th>BW1_g</th>\n",
       "      <th>BW2_g</th>\n",
       "      <th>BW3_g</th>\n",
       "      <th>BW4_g</th>\n",
       "      <th>BW5_g</th>\n",
       "      <th>Notes</th>\n",
       "      <th>median_count</th>\n",
       "      <th>is_contamined</th>\n",
       "    </tr>\n",
       "  </thead>\n",
       "  <tbody>\n",
       "    <tr>\n",
       "      <th>100A</th>\n",
       "      <td>LAB_3</td>\n",
       "      <td>F</td>\n",
       "      <td>14.0</td>\n",
       "      <td>behaviour</td>\n",
       "      <td>BF4</td>\n",
       "      <td>3.0</td>\n",
       "      <td>17.0</td>\n",
       "      <td>primary</td>\n",
       "      <td>29/5/2020</td>\n",
       "      <td>15.0</td>\n",
       "      <td>...</td>\n",
       "      <td>no</td>\n",
       "      <td>NaN</td>\n",
       "      <td>19.1</td>\n",
       "      <td>20.5</td>\n",
       "      <td>20.3</td>\n",
       "      <td>21.1</td>\n",
       "      <td>21.8</td>\n",
       "      <td>NaN</td>\n",
       "      <td>0.0</td>\n",
       "      <td>0</td>\n",
       "    </tr>\n",
       "    <tr>\n",
       "      <th>100B</th>\n",
       "      <td>LAB_3</td>\n",
       "      <td>F</td>\n",
       "      <td>14.0</td>\n",
       "      <td>gene_expr</td>\n",
       "      <td>BF4</td>\n",
       "      <td>2.0</td>\n",
       "      <td>17.0</td>\n",
       "      <td>primary</td>\n",
       "      <td>14/5/2020</td>\n",
       "      <td>8.0</td>\n",
       "      <td>...</td>\n",
       "      <td>no</td>\n",
       "      <td>NaN</td>\n",
       "      <td>19.2</td>\n",
       "      <td>20.7</td>\n",
       "      <td>21.1</td>\n",
       "      <td>22.2</td>\n",
       "      <td>23.4</td>\n",
       "      <td>NaN</td>\n",
       "      <td>0.0</td>\n",
       "      <td>1</td>\n",
       "    </tr>\n",
       "    <tr>\n",
       "      <th>101A</th>\n",
       "      <td>LAB_4</td>\n",
       "      <td>F</td>\n",
       "      <td>14.0</td>\n",
       "      <td>gene_expr</td>\n",
       "      <td>MF7</td>\n",
       "      <td>2.0</td>\n",
       "      <td>23.0</td>\n",
       "      <td>primary</td>\n",
       "      <td>14/5/2020</td>\n",
       "      <td>8.0</td>\n",
       "      <td>...</td>\n",
       "      <td>yes</td>\n",
       "      <td>NaN</td>\n",
       "      <td>17.0</td>\n",
       "      <td>20.1</td>\n",
       "      <td>19.9</td>\n",
       "      <td>19.8</td>\n",
       "      <td>21.1</td>\n",
       "      <td>NaN</td>\n",
       "      <td>0.0</td>\n",
       "      <td>1</td>\n",
       "    </tr>\n",
       "    <tr>\n",
       "      <th>101B</th>\n",
       "      <td>LAB_4</td>\n",
       "      <td>F</td>\n",
       "      <td>14.0</td>\n",
       "      <td>behaviour</td>\n",
       "      <td>MF7</td>\n",
       "      <td>3.0</td>\n",
       "      <td>23.0</td>\n",
       "      <td>primary</td>\n",
       "      <td>2/6/2020</td>\n",
       "      <td>16.0</td>\n",
       "      <td>...</td>\n",
       "      <td>yes</td>\n",
       "      <td>NaN</td>\n",
       "      <td>15.5</td>\n",
       "      <td>17.8</td>\n",
       "      <td>18.0</td>\n",
       "      <td>18.5</td>\n",
       "      <td>18.9</td>\n",
       "      <td>NaN</td>\n",
       "      <td>0.0</td>\n",
       "      <td>0</td>\n",
       "    </tr>\n",
       "    <tr>\n",
       "      <th>103A</th>\n",
       "      <td>LAB_4</td>\n",
       "      <td>F</td>\n",
       "      <td>14.0</td>\n",
       "      <td>behaviour</td>\n",
       "      <td>MF2</td>\n",
       "      <td>3.0</td>\n",
       "      <td>19.0</td>\n",
       "      <td>primary</td>\n",
       "      <td>2/6/2020</td>\n",
       "      <td>16.0</td>\n",
       "      <td>...</td>\n",
       "      <td>yes</td>\n",
       "      <td>NaN</td>\n",
       "      <td>16.0</td>\n",
       "      <td>18.4</td>\n",
       "      <td>18.3</td>\n",
       "      <td>17.9</td>\n",
       "      <td>19.1</td>\n",
       "      <td>NaN</td>\n",
       "      <td>0.0</td>\n",
       "      <td>0</td>\n",
       "    </tr>\n",
       "  </tbody>\n",
       "</table>\n",
       "<p>5 rows × 61 columns</p>\n",
       "</div>"
      ],
      "text/plain": [
       "     Rearing_LAB  Sex  Age_weeks Animals_for  cage_ID  BOX   Position   \\\n",
       "100A        LAB_3   F       14.0    behaviour     BF4   3.0       17.0   \n",
       "100B        LAB_3   F       14.0    gene_expr     BF4   2.0       17.0   \n",
       "101A        LAB_4   F       14.0    gene_expr     MF7   2.0       23.0   \n",
       "101B        LAB_4   F       14.0    behaviour     MF7   3.0       23.0   \n",
       "103A        LAB_4   F       14.0    behaviour     MF2   3.0       19.0   \n",
       "\n",
       "     sample_type extraction_date  extraction_run  ... tail_handling  BW_g  \\\n",
       "100A     primary       29/5/2020            15.0  ...            no   NaN   \n",
       "100B     primary       14/5/2020             8.0  ...            no   NaN   \n",
       "101A     primary       14/5/2020             8.0  ...           yes   NaN   \n",
       "101B     primary        2/6/2020            16.0  ...           yes   NaN   \n",
       "103A     primary        2/6/2020            16.0  ...           yes   NaN   \n",
       "\n",
       "     BW1_g  BW2_g  BW3_g  BW4_g  BW5_g  Notes median_count is_contamined  \n",
       "100A  19.1   20.5   20.3   21.1   21.8    NaN          0.0             0  \n",
       "100B  19.2   20.7   21.1   22.2   23.4    NaN          0.0             1  \n",
       "101A  17.0   20.1   19.9   19.8   21.1    NaN          0.0             1  \n",
       "101B  15.5   17.8   18.0   18.5   18.9    NaN          0.0             0  \n",
       "103A  16.0   18.4   18.3   17.9   19.1    NaN          0.0             0  \n",
       "\n",
       "[5 rows x 61 columns]"
      ]
     },
     "execution_count": 68,
     "metadata": {},
     "output_type": "execute_result"
    }
   ],
   "source": [
    "\n",
    "meta_df.head()\n",
    "whole_meta_df.head()"
   ]
  },
  {
   "cell_type": "code",
   "execution_count": 69,
   "metadata": {},
   "outputs": [
    {
     "data": {
      "text/plain": [
       "(173, 42)"
      ]
     },
     "execution_count": 69,
     "metadata": {},
     "output_type": "execute_result"
    }
   ],
   "source": [
    "meta_df.shape"
   ]
  },
  {
   "cell_type": "markdown",
   "metadata": {},
   "source": [
    "\n",
    "\n",
    "## Task 1:  split data in test and validation data\n",
    "Therefore I use a custom function to have balanced classes, as mentioned before my target variable ist if the plate was contaminied"
   ]
  },
  {
   "cell_type": "code",
   "execution_count": 70,
   "metadata": {},
   "outputs": [],
   "source": [
    "def split_to_train_test(df, label_column, train_frac=0.8):\n",
    "    train_df, test_df = pd.DataFrame(), pd.DataFrame()\n",
    "    labels = df[label_column].unique()\n",
    "    for lbl in labels:\n",
    "        lbl_df = df[df[label_column] == lbl]\n",
    "        lbl_train_df = lbl_df.sample(frac=train_frac)\n",
    "        lbl_test_df = lbl_df.drop(lbl_train_df.index)\n",
    "        print('\\n%s:\\n---------\\ntotal:%d\\ntrain_df:%d\\ntest_df:%d' % (lbl, len(lbl_df), len(lbl_train_df), len(lbl_test_df)))\n",
    "        train_df = train_df.append(lbl_train_df)\n",
    "        test_df = test_df.append(lbl_test_df)\n",
    "\n",
    "    return train_df, test_df"
   ]
  },
  {
   "cell_type": "code",
   "execution_count": 71,
   "metadata": {},
   "outputs": [
    {
     "data": {
      "text/plain": [
       "(199, 61)"
      ]
     },
     "execution_count": 71,
     "metadata": {},
     "output_type": "execute_result"
    }
   ],
   "source": [
    "whole_meta_df.shape"
   ]
  },
  {
   "cell_type": "code",
   "execution_count": 72,
   "metadata": {},
   "outputs": [
    {
     "data": {
      "text/plain": [
       "(173, 42)"
      ]
     },
     "execution_count": 72,
     "metadata": {},
     "output_type": "execute_result"
    }
   ],
   "source": [
    "meta_df.shape"
   ]
  },
  {
   "cell_type": "code",
   "execution_count": 73,
   "metadata": {},
   "outputs": [
    {
     "name": "stdout",
     "output_type": "stream",
     "text": [
      "\n",
      "0:\n",
      "---------\n",
      "total:90\n",
      "train_df:63\n",
      "test_df:27\n",
      "\n",
      "1:\n",
      "---------\n",
      "total:83\n",
      "train_df:58\n",
      "test_df:25\n",
      "\n",
      "0:\n",
      "---------\n",
      "total:106\n",
      "train_df:74\n",
      "test_df:32\n",
      "\n",
      "1:\n",
      "---------\n",
      "total:93\n",
      "train_df:65\n",
      "test_df:28\n"
     ]
    },
    {
     "data": {
      "text/plain": [
       "(199, 1565)"
      ]
     },
     "execution_count": 73,
     "metadata": {},
     "output_type": "execute_result"
    }
   ],
   "source": [
    "train_df_meta, test_df_meta = split_to_train_test(meta_df, \"is_contamined\",0.7)\n",
    "seq_df_and_target = seq_df_two\n",
    "seq_df_and_target[\"is_contamined\"] = whole_meta_df.is_contamined\n",
    "train_df_counts, test_df_counts = split_to_train_test(seq_df_and_target, \"is_contamined\", 0.7)\n",
    "seq_df_and_target.shape"
   ]
  },
  {
   "cell_type": "code",
   "execution_count": 74,
   "metadata": {},
   "outputs": [
    {
     "data": {
      "text/plain": [
       "0    90\n",
       "1    83\n",
       "Name: is_contamined, dtype: int64"
      ]
     },
     "execution_count": 74,
     "metadata": {},
     "output_type": "execute_result"
    }
   ],
   "source": [
    "# Check Class Balance to select suitable evaluation metric\n",
    "meta_df.is_contamined.value_counts()\n"
   ]
  },
  {
   "cell_type": "markdown",
   "metadata": {},
   "source": [
    "## Task 2: Select a evaluation metric\n",
    "For my first analyses I will chose the Accuracy as defined: Accuracy = (TP+TN)/(TP+FP+FN+TN) as a metric. It is a well established metric for a two class classification problem and since we have equally balanced classes it is a reasonable choice"
   ]
  },
  {
   "cell_type": "markdown",
   "metadata": {},
   "source": [
    "## Task 3: Create a baseline model\n",
    "Since I have a two class classification problem with balanced classes, it is suitable to chose the relative frequency of the more frequent class as naive baseline prediction accuracy.\n"
   ]
  },
  {
   "cell_type": "code",
   "execution_count": 13,
   "metadata": {},
   "outputs": [
    {
     "name": "stdout",
     "output_type": "stream",
     "text": [
      "Baseline Estimation $0.5202312138728323\n"
     ]
    }
   ],
   "source": [
    "# baseline estimation\n",
    "\n",
    "freq_class = max(meta_df.is_contamined.value_counts())\n",
    "baseline = freq_class / len(meta_df.index)\n",
    "print(\"Baseline Estimation ${}\".format(baseline))"
   ]
  },
  {
   "cell_type": "markdown",
   "metadata": {},
   "source": [
    "## Task 4: Build a decision tree model\n",
    "Use a decisoin tree as a very simple supervised method to see if more complex models are justified"
   ]
  },
  {
   "cell_type": "code",
   "execution_count": 14,
   "metadata": {},
   "outputs": [],
   "source": [
    "\n",
    "\n",
    "# function that returns predictions of a Decision Tree\n",
    "# takes whole dataframe including the target variable as input\n",
    "def train_dec_tree(df, target):\n",
    "    \n",
    "    # prepare data\n",
    "    y_train = df.loc[:, target]\n",
    "    X_train = df.drop(columns=[target])\n",
    "    \n",
    "    # Create Decision Tree classifer object\n",
    "    clf = DecisionTreeClassifier()\n",
    "\n",
    "    # Train Decision Tree Classifer\n",
    "    clf = clf.fit(X_train,y_train)\n",
    "\n",
    "    return clf\n",
    "\n",
    "\n"
   ]
  },
  {
   "cell_type": "markdown",
   "metadata": {},
   "source": [
    "### Decision Tree for count data"
   ]
  },
  {
   "cell_type": "code",
   "execution_count": 15,
   "metadata": {},
   "outputs": [
    {
     "data": {
      "text/plain": [
       "{'ccp_alpha': 0.0,\n",
       " 'class_weight': None,\n",
       " 'criterion': 'gini',\n",
       " 'max_depth': None,\n",
       " 'max_features': None,\n",
       " 'max_leaf_nodes': None,\n",
       " 'min_impurity_decrease': 0.0,\n",
       " 'min_impurity_split': None,\n",
       " 'min_samples_leaf': 1,\n",
       " 'min_samples_split': 2,\n",
       " 'min_weight_fraction_leaf': 0.0,\n",
       " 'presort': 'deprecated',\n",
       " 'random_state': None,\n",
       " 'splitter': 'best'}"
      ]
     },
     "execution_count": 15,
     "metadata": {},
     "output_type": "execute_result"
    }
   ],
   "source": [
    "clf_count_data = train_dec_tree(train_df_counts, \"is_contamined\")\n",
    "clf_count_data.get_params()"
   ]
  },
  {
   "cell_type": "code",
   "execution_count": 16,
   "metadata": {},
   "outputs": [
    {
     "name": "stdout",
     "output_type": "stream",
     "text": [
      "('              precision    recall  f1-score   support\\n'\n",
      " '\\n'\n",
      " '           0       0.71      0.62      0.67        32\\n'\n",
      " '           1       0.62      0.71      0.67        28\\n'\n",
      " '\\n'\n",
      " '    accuracy                           0.67        60\\n'\n",
      " '   macro avg       0.67      0.67      0.67        60\\n'\n",
      " 'weighted avg       0.67      0.67      0.67        60\\n')\n"
     ]
    }
   ],
   "source": [
    "count_pred = clf_count_data.predict(test_df_counts.drop(columns=[\"is_contamined\"]))\n",
    "metrics.accuracy_score(test_df_counts.is_contamined, count_pred)\n",
    "clf_report_dt_count = metrics.classification_report(test_df_counts.is_contamined, count_pred)\n",
    "pp.pprint(clf_report_dt_count)"
   ]
  },
  {
   "cell_type": "markdown",
   "metadata": {},
   "source": [
    "### Decision Tree count data cross validation"
   ]
  },
  {
   "cell_type": "code",
   "execution_count": 77,
   "metadata": {},
   "outputs": [],
   "source": [
    "## train / test with crossvalidation\n",
    "\n",
    "dtc  = DecisionTreeClassifier()\n",
    "scores_prec = cross_val_score(dtc, seq_df, seq_df_and_target.is_contamined, cv = 10, scoring='precision')\n",
    "scores_acc = cross_val_score(dtc, seq_df, seq_df_and_target.is_contamined, cv = 10, scoring='accuracy')\n",
    "scores_recall = cross_val_score(dtc, seq_df, seq_df_and_target.is_contamined, cv = 10, scoring='recall')\n",
    "scores_f1 = cross_val_score(dtc, seq_df, seq_df_and_target.is_contamined, cv = 10, scoring='f1')"
   ]
  },
  {
   "cell_type": "code",
   "execution_count": 78,
   "metadata": {},
   "outputs": [
    {
     "name": "stdout",
     "output_type": "stream",
     "text": [
      "0.6208993294287412 0.2116178262506146\n",
      "0.6684210526315789 0.12484524122566454\n",
      "0.6066666666666667 0.26294731304500096\n",
      "0.5736611595879331 0.17878421967424207\n"
     ]
    }
   ],
   "source": [
    "print(statistics.mean(scores_prec),statistics.stdev(scores_prec))\n",
    "print(statistics.mean(scores_acc), statistics.stdev(scores_acc))\n",
    "print(statistics.mean(scores_recall), statistics.stdev(scores_recall))\n",
    "print(statistics.mean(scores_f1), statistics.stdev(scores_f1))"
   ]
  },
  {
   "cell_type": "markdown",
   "metadata": {},
   "source": [
    "### Decision Tree for meta data"
   ]
  },
  {
   "cell_type": "code",
   "execution_count": 79,
   "metadata": {},
   "outputs": [
    {
     "name": "stdout",
     "output_type": "stream",
     "text": [
      "('              precision    recall  f1-score   support\\n'\n",
      " '\\n'\n",
      " '           0       1.00      1.00      1.00        27\\n'\n",
      " '           1       1.00      1.00      1.00        25\\n'\n",
      " '\\n'\n",
      " '    accuracy                           1.00        52\\n'\n",
      " '   macro avg       1.00      1.00      1.00        52\\n'\n",
      " 'weighted avg       1.00      1.00      1.00        52\\n')\n"
     ]
    }
   ],
   "source": [
    "clf_meta_data = train_dec_tree(train_df_meta, \"is_contamined\")\n",
    "meta_pred = clf_meta_data.predict(test_df_meta.drop(columns=[\"is_contamined\"]))\n",
    "metrics.accuracy_score(test_df_meta.is_contamined, meta_pred)\n",
    "clf_report_dt_meta = metrics.classification_report(test_df_meta.is_contamined, meta_pred)\n",
    "pp.pprint(clf_report_dt_meta)\n",
    "\n"
   ]
  },
  {
   "cell_type": "code",
   "execution_count": null,
   "metadata": {},
   "outputs": [],
   "source": []
  },
  {
   "cell_type": "markdown",
   "metadata": {},
   "source": [
    "## Task 5: Use a supervised machine learning model\n",
    "I have two objectives: Firstly, I want to find out what is distinctive for samples that were one the contamined plate 1. Therefore I am not so much interested in the prediction itself, rather then the features that are important for the prediction. So for the first question I use a random forest model and extract the feature importance. Additionally, I will use the shapley value to assess feature importance.\n",
    "\n",
    "Secondly, I am interested if it is possible to predict on which plate the contamination was. Therefore, I use the above-trained Random Forest model and baselines classifiers. Additionally, I will train a Mulit Layer Perceptron and Cross Validation to predict the plate."
   ]
  },
  {
   "cell_type": "code",
   "execution_count": 26,
   "metadata": {},
   "outputs": [],
   "source": [
    "\n",
    "# functions that return predictions of a Random Forest\n",
    "def train_test_rf(df, target):\n",
    "    \n",
    "    # prepare data\n",
    "    y_train = df.loc[:, target]\n",
    "    X_train = df.drop(columns=[target])\n",
    "    \n",
    "    clf = RandomForestClassifier(n_estimators=200, random_state=1)\n",
    "    clf = clf.fit(X_train, y_train)\n",
    "  \n",
    "    return clf"
   ]
  },
  {
   "cell_type": "code",
   "execution_count": 80,
   "metadata": {},
   "outputs": [],
   "source": [
    "## train / test with crossvalidation\n",
    "rfc = RandomForestClassifier(n_estimators=200, random_state=1)\n",
    "# rfc = DecisionTreeClassifier()\n",
    "scores_prec = cross_val_score(rfc, seq_df, seq_df_and_target.is_contamined, cv = 10, scoring='precision')\n",
    "scores_acc = cross_val_score(rfc, seq_df, seq_df_and_target.is_contamined, cv = 10, scoring='accuracy')\n",
    "scores_recall = cross_val_score(rfc, seq_df, seq_df_and_target.is_contamined, cv = 10, scoring='recall')\n",
    "scores_f1 = cross_val_score(rfc, seq_df, seq_df_and_target.is_contamined, cv = 10, scoring='f1')"
   ]
  },
  {
   "cell_type": "code",
   "execution_count": 81,
   "metadata": {},
   "outputs": [
    {
     "name": "stdout",
     "output_type": "stream",
     "text": [
      "0.826388888888889 0.14966383226623103\n",
      "0.7481578947368421 0.09943708909454352\n",
      "0.6611111111111111 0.27593214012390943\n",
      "0.6798984641089905 0.19842591940602117\n"
     ]
    }
   ],
   "source": [
    "print(statistics.mean(scores_prec),statistics.stdev(scores_prec))\n",
    "print(statistics.mean(scores_acc), statistics.stdev(scores_acc))\n",
    "print(statistics.mean(scores_recall), statistics.stdev(scores_recall))\n",
    "print(statistics.mean(scores_f1), statistics.stdev(scores_f1))"
   ]
  },
  {
   "cell_type": "code",
   "execution_count": 29,
   "metadata": {},
   "outputs": [],
   "source": [
    "# prints accuracy and displays confusion table as heatmap\n",
    "def accurcay_confusion_heatmap(test_df, predictions, target):\n",
    "    conf_mat = confusion_matrix(test_df.loc[:,target], predictions)\n",
    "    print(conf_mat)\n",
    "    # Model Accuracy, how often is the classifier correct?\n",
    "    print(\"Accuracy:\",metrics.accuracy_score(test_df.loc[:,target], predictions))\n",
    "    # helper df for heatmap\n",
    "    df_cm = pd.DataFrame(conf_mat, range(2), range(2))\n",
    "    # plt.figure(figsize=(10,7))\n",
    "    sns.set(font_scale=1.4) # for label size\n",
    "    sns.heatmap(df_cm, annot=True, annot_kws={\"size\": 4}) # font size\n",
    "\n",
    "    plt.show()"
   ]
  },
  {
   "cell_type": "markdown",
   "metadata": {},
   "source": [
    "### Supervised model for count data"
   ]
  },
  {
   "cell_type": "code",
   "execution_count": 30,
   "metadata": {},
   "outputs": [
    {
     "data": {
      "text/plain": [
       "{'bootstrap': True,\n",
       " 'ccp_alpha': 0.0,\n",
       " 'class_weight': None,\n",
       " 'criterion': 'gini',\n",
       " 'max_depth': None,\n",
       " 'max_features': 'auto',\n",
       " 'max_leaf_nodes': None,\n",
       " 'max_samples': None,\n",
       " 'min_impurity_decrease': 0.0,\n",
       " 'min_impurity_split': None,\n",
       " 'min_samples_leaf': 1,\n",
       " 'min_samples_split': 2,\n",
       " 'min_weight_fraction_leaf': 0.0,\n",
       " 'n_estimators': 200,\n",
       " 'n_jobs': None,\n",
       " 'oob_score': False,\n",
       " 'random_state': 1,\n",
       " 'verbose': 0,\n",
       " 'warm_start': False}"
      ]
     },
     "execution_count": 30,
     "metadata": {},
     "output_type": "execute_result"
    }
   ],
   "source": [
    "count_rf_clf = train_test_rf(train_df_counts, \"is_contamined\")\n",
    "count_pred_rf = count_rf_clf.predict(test_df_counts.drop(columns=[\"is_contamined\"]))\n",
    "\n",
    "rf_default_values = count_rf_clf.get_params()\n",
    "rf_default_values"
   ]
  },
  {
   "cell_type": "code",
   "execution_count": 31,
   "metadata": {},
   "outputs": [
    {
     "name": "stdout",
     "output_type": "stream",
     "text": [
      "('              precision    recall  f1-score   support\\n'\n",
      " '\\n'\n",
      " '           0       0.84      0.97      0.90        32\\n'\n",
      " '           1       0.96      0.79      0.86        28\\n'\n",
      " '\\n'\n",
      " '    accuracy                           0.88        60\\n'\n",
      " '   macro avg       0.90      0.88      0.88        60\\n'\n",
      " 'weighted avg       0.89      0.88      0.88        60\\n')\n"
     ]
    }
   ],
   "source": [
    "clf_report_count = metrics.classification_report(test_df_counts.is_contamined, count_pred_rf)\n",
    "pp.pprint(clf_report_count)"
   ]
  },
  {
   "cell_type": "code",
   "execution_count": 32,
   "metadata": {},
   "outputs": [
    {
     "name": "stdout",
     "output_type": "stream",
     "text": [
      "[[31  1]\n",
      " [ 6 22]]\n",
      "Accuracy: 0.8833333333333333\n"
     ]
    },
    {
     "data": {
      "image/png": "[encoded data removed]",
      "text/plain": [
       "<Figure size 720x288 with 2 Axes>"
      ]
     },
     "metadata": {},
     "output_type": "display_data"
    }
   ],
   "source": [
    "accurcay_confusion_heatmap(test_df_counts, count_pred_rf, \"is_contamined\")"
   ]
  },
  {
   "cell_type": "markdown",
   "metadata": {},
   "source": [
    "### Supervised model for meta data"
   ]
  },
  {
   "cell_type": "code",
   "execution_count": 33,
   "metadata": {},
   "outputs": [
    {
     "name": "stdout",
     "output_type": "stream",
     "text": [
      "('              precision    recall  f1-score   support\\n'\n",
      " '\\n'\n",
      " '           0       1.00      1.00      1.00        27\\n'\n",
      " '           1       1.00      1.00      1.00        25\\n'\n",
      " '\\n'\n",
      " '    accuracy                           1.00        52\\n'\n",
      " '   macro avg       1.00      1.00      1.00        52\\n'\n",
      " 'weighted avg       1.00      1.00      1.00        52\\n')\n"
     ]
    }
   ],
   "source": [
    "meta_rf_clf = train_test_rf(train_df_meta, \"is_contamined\")\n",
    "meta_pred_rf = meta_rf_clf.predict(test_df_meta.drop(columns=[\"is_contamined\"]))\n",
    "metrics.accuracy_score(test_df_meta.is_contamined, meta_pred_rf)\n",
    "clf_report_rf_meta = metrics.classification_report(test_df_meta.is_contamined, meta_pred_rf)\n",
    "pp.pprint(clf_report_rf_meta)"
   ]
  },
  {
   "cell_type": "markdown",
   "metadata": {},
   "source": [
    "\n",
    "## Task 5.1\n",
    "\n",
    "To get a insight what was differnt on the contamined plates, respectively which features contributet to the contamination, I now investigate the feature importance of the RF."
   ]
  },
  {
   "cell_type": "code",
   "execution_count": 34,
   "metadata": {},
   "outputs": [],
   "source": [
    "def plt_feat_importance(clf, target_var, features):\n",
    "    \n",
    "    feat_importances = pd.Series(clf.feature_importances_, index=features)\n",
    "    feat_importances.nlargest(10).plot(kind='barh')\n",
    "    plt.xlabel(\"Mean Decrease Impurity\", fontsize = 18)\n",
    "\n",
    "    return feat_importances"
   ]
  },
  {
   "cell_type": "code",
   "execution_count": 35,
   "metadata": {},
   "outputs": [
    {
     "data": {
      "text/html": [
       "<div>\n",
       "<style scoped>\n",
       "    .dataframe tbody tr th:only-of-type {\n",
       "        vertical-align: middle;\n",
       "    }\n",
       "\n",
       "    .dataframe tbody tr th {\n",
       "        vertical-align: top;\n",
       "    }\n",
       "\n",
       "    .dataframe thead th {\n",
       "        text-align: right;\n",
       "    }\n",
       "</style>\n",
       "<table border=\"1\" class=\"dataframe\">\n",
       "  <thead>\n",
       "    <tr style=\"text-align: right;\">\n",
       "      <th></th>\n",
       "      <th>otu1</th>\n",
       "      <th>otu2</th>\n",
       "      <th>otu3</th>\n",
       "      <th>otu4</th>\n",
       "      <th>otu5</th>\n",
       "      <th>otu6</th>\n",
       "      <th>otu7</th>\n",
       "      <th>otu8</th>\n",
       "      <th>otu9</th>\n",
       "      <th>otu10</th>\n",
       "      <th>...</th>\n",
       "      <th>otu1555</th>\n",
       "      <th>otu1556</th>\n",
       "      <th>otu1557</th>\n",
       "      <th>otu1558</th>\n",
       "      <th>otu1559</th>\n",
       "      <th>otu1560</th>\n",
       "      <th>otu1561</th>\n",
       "      <th>otu1562</th>\n",
       "      <th>otu1563</th>\n",
       "      <th>otu1564</th>\n",
       "    </tr>\n",
       "  </thead>\n",
       "  <tbody>\n",
       "    <tr>\n",
       "      <th>Unnamed: 0</th>\n",
       "      <td>0</td>\n",
       "      <td>1</td>\n",
       "      <td>2</td>\n",
       "      <td>3</td>\n",
       "      <td>4</td>\n",
       "      <td>5</td>\n",
       "      <td>6</td>\n",
       "      <td>7</td>\n",
       "      <td>8</td>\n",
       "      <td>9</td>\n",
       "      <td>...</td>\n",
       "      <td>1554</td>\n",
       "      <td>1555</td>\n",
       "      <td>1556</td>\n",
       "      <td>1557</td>\n",
       "      <td>1558</td>\n",
       "      <td>1559</td>\n",
       "      <td>1560</td>\n",
       "      <td>1561</td>\n",
       "      <td>1562</td>\n",
       "      <td>1563</td>\n",
       "    </tr>\n",
       "    <tr>\n",
       "      <th>otu</th>\n",
       "      <td>otu1</td>\n",
       "      <td>otu2</td>\n",
       "      <td>otu3</td>\n",
       "      <td>otu4</td>\n",
       "      <td>otu5</td>\n",
       "      <td>otu6</td>\n",
       "      <td>otu7</td>\n",
       "      <td>otu8</td>\n",
       "      <td>otu9</td>\n",
       "      <td>otu10</td>\n",
       "      <td>...</td>\n",
       "      <td>otu1555</td>\n",
       "      <td>otu1556</td>\n",
       "      <td>otu1557</td>\n",
       "      <td>otu1558</td>\n",
       "      <td>otu1559</td>\n",
       "      <td>otu1560</td>\n",
       "      <td>otu1561</td>\n",
       "      <td>otu1562</td>\n",
       "      <td>otu1563</td>\n",
       "      <td>otu1564</td>\n",
       "    </tr>\n",
       "    <tr>\n",
       "      <th>seq</th>\n",
       "      <td>TACGGAGGATGCGAGCGTTATCCGGATTTATTGGGTTTAAAGGGTG...</td>\n",
       "      <td>TACGTAGGTGGCAAGCGTTGTCCGGATTTATTGGGCGTAAAGCGCG...</td>\n",
       "      <td>TACGGAGGATGCGAGCGTTATCCGGATTTATTGGGTTTAAAGGGTG...</td>\n",
       "      <td>TACGTAGGGGGCAAGCGTTATCCGGATTTACTGGGTGTAAAGGGAG...</td>\n",
       "      <td>TACGTAGGGGGCAAGCGTTATCCGGATTTACTGGGTGTAAAGGGAG...</td>\n",
       "      <td>TACGGAGGGTGCGAGCGTTAATCGGAATTACTGGGCGTAAAGCGCT...</td>\n",
       "      <td>TACGGAGGATGCGAGCGTTATCCGGATTTATTGGGTTTAAAGGGTG...</td>\n",
       "      <td>TACGGAGGATGCGAGCGTTATCCGGATTTATTGGGTTTAAAGGGTG...</td>\n",
       "      <td>TACGGAGGATGCGAGCGTTATCCGGATTTATTGGGTTTAAAGGGTG...</td>\n",
       "      <td>TACGTAGGGGGCAAGCGTTATCCGGATTTACTGGGTGTAAAGGGAG...</td>\n",
       "      <td>...</td>\n",
       "      <td>TACGGAGGATGCGAGCGTTATCCGGATTTATTGGGTTTAAAGGGAG...</td>\n",
       "      <td>CGTCGGCAGCGTCAGATGTGTATAAGAGACAGTGCAGGTGCCAGCA...</td>\n",
       "      <td>TACGGAGGATGCGAGCGTTATCCGGATTTACTGGGTGTAAAGGGGG...</td>\n",
       "      <td>TACGTAGGGGGCAAGCGTTATCCGGATTTACTGGGTGTAAAGGGGG...</td>\n",
       "      <td>TACGTAGGGGGCAAGCGTTATCCGGATTCACTGGGCGTAAAGGGAG...</td>\n",
       "      <td>TACGTAGGGTGCGAGCGTTAATCGGAATTACTGGGCGTAAAGGGTG...</td>\n",
       "      <td>TACGGAGGATCCAAGCGTTATCCGGATTTATTGGGTTTAAAGGGTG...</td>\n",
       "      <td>TACGGAGGATTCAAGCGTTATCCGGATTTACTGGGTGTAAAGGGAG...</td>\n",
       "      <td>TACGGAGGGTGCGAGCGTTAATCGGAATTACTGGGTGTAAAGGGAG...</td>\n",
       "      <td>TACGTAGGTGGCAAGCGTTGTCCGGATTTACTGGGCGTAAAGGGAG...</td>\n",
       "    </tr>\n",
       "    <tr>\n",
       "      <th>tax</th>\n",
       "      <td>rootrank;Root;62.12|domain;Bacteria;62.12|phyl...</td>\n",
       "      <td>rootrank;Root;100|domain;Bacteria;100|phylum;F...</td>\n",
       "      <td>rootrank;Root;72.8|domain;Bacteria;72.8|phylum...</td>\n",
       "      <td>rootrank;Root;98.27|domain;Bacteria;98.27|phyl...</td>\n",
       "      <td>rootrank;Root;100|domain;Bacteria;100|phylum;F...</td>\n",
       "      <td>rootrank;Root;57.53|domain;Bacteria;57.53|phyl...</td>\n",
       "      <td>rootrank;Root;64.9|domain;Bacteria;64.44|phylu...</td>\n",
       "      <td>rootrank;Root;66.29|domain;Bacteria;66.29|phyl...</td>\n",
       "      <td>rootrank;Root;67.98|domain;Bacteria;67.98|phyl...</td>\n",
       "      <td>rootrank;Root;100|domain;Bacteria;100|phylum;F...</td>\n",
       "      <td>...</td>\n",
       "      <td>rootrank;Root;62.98|domain;Bacteria;62.98|phyl...</td>\n",
       "      <td>rootrank;Root;48.03|domain;Bacteria;45.85|phyl...</td>\n",
       "      <td>rootrank;Root;68.61|domain;Bacteria;68.61|phyl...</td>\n",
       "      <td>rootrank;Root;75.6|domain;Bacteria;75.6|phylum...</td>\n",
       "      <td>rootrank;Root;83.43|domain;Bacteria;83.43|phyl...</td>\n",
       "      <td>rootrank;Root;58.62|domain;Bacteria;58.62|phyl...</td>\n",
       "      <td>rootrank;Root;60.66|domain;Bacteria;60.66|phyl...</td>\n",
       "      <td>rootrank;Root;64.48|domain;Bacteria;64.48|phyl...</td>\n",
       "      <td>rootrank;Root;68.38|domain;Bacteria;68.38|phyl...</td>\n",
       "      <td>rootrank;Root;74.04|domain;Bacteria;74.04|phyl...</td>\n",
       "    </tr>\n",
       "  </tbody>\n",
       "</table>\n",
       "<p>4 rows × 1564 columns</p>\n",
       "</div>"
      ],
      "text/plain": [
       "                                                         otu1  \\\n",
       "Unnamed: 0                                                  0   \n",
       "otu                                                      otu1   \n",
       "seq         TACGGAGGATGCGAGCGTTATCCGGATTTATTGGGTTTAAAGGGTG...   \n",
       "tax         rootrank;Root;62.12|domain;Bacteria;62.12|phyl...   \n",
       "\n",
       "                                                         otu2  \\\n",
       "Unnamed: 0                                                  1   \n",
       "otu                                                      otu2   \n",
       "seq         TACGTAGGTGGCAAGCGTTGTCCGGATTTATTGGGCGTAAAGCGCG...   \n",
       "tax         rootrank;Root;100|domain;Bacteria;100|phylum;F...   \n",
       "\n",
       "                                                         otu3  \\\n",
       "Unnamed: 0                                                  2   \n",
       "otu                                                      otu3   \n",
       "seq         TACGGAGGATGCGAGCGTTATCCGGATTTATTGGGTTTAAAGGGTG...   \n",
       "tax         rootrank;Root;72.8|domain;Bacteria;72.8|phylum...   \n",
       "\n",
       "                                                         otu4  \\\n",
       "Unnamed: 0                                                  3   \n",
       "otu                                                      otu4   \n",
       "seq         TACGTAGGGGGCAAGCGTTATCCGGATTTACTGGGTGTAAAGGGAG...   \n",
       "tax         rootrank;Root;98.27|domain;Bacteria;98.27|phyl...   \n",
       "\n",
       "                                                         otu5  \\\n",
       "Unnamed: 0                                                  4   \n",
       "otu                                                      otu5   \n",
       "seq         TACGTAGGGGGCAAGCGTTATCCGGATTTACTGGGTGTAAAGGGAG...   \n",
       "tax         rootrank;Root;100|domain;Bacteria;100|phylum;F...   \n",
       "\n",
       "                                                         otu6  \\\n",
       "Unnamed: 0                                                  5   \n",
       "otu                                                      otu6   \n",
       "seq         TACGGAGGGTGCGAGCGTTAATCGGAATTACTGGGCGTAAAGCGCT...   \n",
       "tax         rootrank;Root;57.53|domain;Bacteria;57.53|phyl...   \n",
       "\n",
       "                                                         otu7  \\\n",
       "Unnamed: 0                                                  6   \n",
       "otu                                                      otu7   \n",
       "seq         TACGGAGGATGCGAGCGTTATCCGGATTTATTGGGTTTAAAGGGTG...   \n",
       "tax         rootrank;Root;64.9|domain;Bacteria;64.44|phylu...   \n",
       "\n",
       "                                                         otu8  \\\n",
       "Unnamed: 0                                                  7   \n",
       "otu                                                      otu8   \n",
       "seq         TACGGAGGATGCGAGCGTTATCCGGATTTATTGGGTTTAAAGGGTG...   \n",
       "tax         rootrank;Root;66.29|domain;Bacteria;66.29|phyl...   \n",
       "\n",
       "                                                         otu9  \\\n",
       "Unnamed: 0                                                  8   \n",
       "otu                                                      otu9   \n",
       "seq         TACGGAGGATGCGAGCGTTATCCGGATTTATTGGGTTTAAAGGGTG...   \n",
       "tax         rootrank;Root;67.98|domain;Bacteria;67.98|phyl...   \n",
       "\n",
       "                                                        otu10  ...  \\\n",
       "Unnamed: 0                                                  9  ...   \n",
       "otu                                                     otu10  ...   \n",
       "seq         TACGTAGGGGGCAAGCGTTATCCGGATTTACTGGGTGTAAAGGGAG...  ...   \n",
       "tax         rootrank;Root;100|domain;Bacteria;100|phylum;F...  ...   \n",
       "\n",
       "                                                      otu1555  \\\n",
       "Unnamed: 0                                               1554   \n",
       "otu                                                   otu1555   \n",
       "seq         TACGGAGGATGCGAGCGTTATCCGGATTTATTGGGTTTAAAGGGAG...   \n",
       "tax         rootrank;Root;62.98|domain;Bacteria;62.98|phyl...   \n",
       "\n",
       "                                                      otu1556  \\\n",
       "Unnamed: 0                                               1555   \n",
       "otu                                                   otu1556   \n",
       "seq         CGTCGGCAGCGTCAGATGTGTATAAGAGACAGTGCAGGTGCCAGCA...   \n",
       "tax         rootrank;Root;48.03|domain;Bacteria;45.85|phyl...   \n",
       "\n",
       "                                                      otu1557  \\\n",
       "Unnamed: 0                                               1556   \n",
       "otu                                                   otu1557   \n",
       "seq         TACGGAGGATGCGAGCGTTATCCGGATTTACTGGGTGTAAAGGGGG...   \n",
       "tax         rootrank;Root;68.61|domain;Bacteria;68.61|phyl...   \n",
       "\n",
       "                                                      otu1558  \\\n",
       "Unnamed: 0                                               1557   \n",
       "otu                                                   otu1558   \n",
       "seq         TACGTAGGGGGCAAGCGTTATCCGGATTTACTGGGTGTAAAGGGGG...   \n",
       "tax         rootrank;Root;75.6|domain;Bacteria;75.6|phylum...   \n",
       "\n",
       "                                                      otu1559  \\\n",
       "Unnamed: 0                                               1558   \n",
       "otu                                                   otu1559   \n",
       "seq         TACGTAGGGGGCAAGCGTTATCCGGATTCACTGGGCGTAAAGGGAG...   \n",
       "tax         rootrank;Root;83.43|domain;Bacteria;83.43|phyl...   \n",
       "\n",
       "                                                      otu1560  \\\n",
       "Unnamed: 0                                               1559   \n",
       "otu                                                   otu1560   \n",
       "seq         TACGTAGGGTGCGAGCGTTAATCGGAATTACTGGGCGTAAAGGGTG...   \n",
       "tax         rootrank;Root;58.62|domain;Bacteria;58.62|phyl...   \n",
       "\n",
       "                                                      otu1561  \\\n",
       "Unnamed: 0                                               1560   \n",
       "otu                                                   otu1561   \n",
       "seq         TACGGAGGATCCAAGCGTTATCCGGATTTATTGGGTTTAAAGGGTG...   \n",
       "tax         rootrank;Root;60.66|domain;Bacteria;60.66|phyl...   \n",
       "\n",
       "                                                      otu1562  \\\n",
       "Unnamed: 0                                               1561   \n",
       "otu                                                   otu1562   \n",
       "seq         TACGGAGGATTCAAGCGTTATCCGGATTTACTGGGTGTAAAGGGAG...   \n",
       "tax         rootrank;Root;64.48|domain;Bacteria;64.48|phyl...   \n",
       "\n",
       "                                                      otu1563  \\\n",
       "Unnamed: 0                                               1562   \n",
       "otu                                                   otu1563   \n",
       "seq         TACGGAGGGTGCGAGCGTTAATCGGAATTACTGGGTGTAAAGGGAG...   \n",
       "tax         rootrank;Root;68.38|domain;Bacteria;68.38|phyl...   \n",
       "\n",
       "                                                      otu1564  \n",
       "Unnamed: 0                                               1563  \n",
       "otu                                                   otu1564  \n",
       "seq         TACGTAGGTGGCAAGCGTTGTCCGGATTTACTGGGCGTAAAGGGAG...  \n",
       "tax         rootrank;Root;74.04|domain;Bacteria;74.04|phyl...  \n",
       "\n",
       "[4 rows x 1564 columns]"
      ]
     },
     "execution_count": 35,
     "metadata": {},
     "output_type": "execute_result"
    }
   ],
   "source": [
    "otu_info_helper.head()"
   ]
  },
  {
   "cell_type": "code",
   "execution_count": 36,
   "metadata": {},
   "outputs": [
    {
     "data": {
      "image/png": "[encoded data removed]",
      "text/plain": [
       "<Figure size 720x288 with 1 Axes>"
      ]
     },
     "metadata": {},
     "output_type": "display_data"
    }
   ],
   "source": [
    "# plot feature importance for count data\n",
    "importance = plt_feat_importance(count_rf_clf, \"is_contamined\", otu_info_helper.columns)\n"
   ]
  },
  {
   "cell_type": "code",
   "execution_count": 37,
   "metadata": {},
   "outputs": [
    {
     "data": {
      "text/plain": [
       "otu1       0.002344\n",
       "otu2       0.000714\n",
       "otu3       0.001829\n",
       "otu4       0.000772\n",
       "otu5       0.000174\n",
       "             ...   \n",
       "otu1560    0.000000\n",
       "otu1561    0.000000\n",
       "otu1562    0.000000\n",
       "otu1563    0.000000\n",
       "otu1564    0.000000\n",
       "Length: 1564, dtype: float64"
      ]
     },
     "execution_count": 37,
     "metadata": {},
     "output_type": "execute_result"
    },
    {
     "data": {
      "image/png": "[encoded data removed]",
      "text/plain": [
       "<Figure size 720x288 with 1 Axes>"
      ]
     },
     "metadata": {},
     "output_type": "display_data"
    }
   ],
   "source": [
    "\n",
    "plt_feat_importance(count_rf_clf, \"is_contamined\", otu_info_helper.columns)"
   ]
  },
  {
   "cell_type": "code",
   "execution_count": 38,
   "metadata": {},
   "outputs": [
    {
     "data": {
      "text/plain": [
       "Index(['Rearing_LAB ', 'Age_weeks', 'sample_type', 'extraction_date',\n",
       "       'extraction_run', 'extracted_by', 'DNA_elution_Vol_ul',\n",
       "       'Quantification_method', 'DNA_conc_ng_ul', '260 / 280', '230 / 260',\n",
       "       '16S_PCR_date', 'PCR_row', 'PCR_position', 'library_conc_ng_ul',\n",
       "       'FA_kit_used', 'repeat_library_prep', 'library_prep_attempt',\n",
       "       'Use_for_pooling', 'Dilution_factor', 'Vol_EB_ul', 'Vol_DNA_ul',\n",
       "       'light_cycle', 'cage_type', 'bedding_material', 'bedding_autoclaved',\n",
       "       'house_present', 'roll_present', 'enrichment_autoclaved', 'diet',\n",
       "       'diet_treatment', 'water_autoclaved', 'water_chlorinated',\n",
       "       'mean_room_temp_C', 'room_humidity', 'other_animals_present',\n",
       "       'other_animals_present_kind', 'housing_room_condition', 'tail_handling',\n",
       "       'Notes', 'median_count', 'is_contamined'],\n",
       "      dtype='object')"
      ]
     },
     "execution_count": 38,
     "metadata": {},
     "output_type": "execute_result"
    }
   ],
   "source": [
    "\n",
    "\n",
    "meta_df.columns"
   ]
  },
  {
   "cell_type": "code",
   "execution_count": 39,
   "metadata": {},
   "outputs": [
    {
     "data": {
      "text/plain": [
       "Rearing_LAB                   0.000596\n",
       "Age_weeks                     0.055136\n",
       "sample_type                   0.000000\n",
       "extraction_date               0.032872\n",
       "extraction_run                0.180911\n",
       "extracted_by                  0.002316\n",
       "DNA_elution_Vol_ul            0.075648\n",
       "Quantification_method         0.023723\n",
       "DNA_conc_ng_ul                0.009897\n",
       "260 / 280                     0.006053\n",
       "230 / 260                     0.004123\n",
       "16S_PCR_date                  0.200370\n",
       "PCR_row                       0.005315\n",
       "PCR_position                  0.003097\n",
       "library_conc_ng_ul            0.016408\n",
       "FA_kit_used                   0.116323\n",
       "repeat_library_prep           0.000000\n",
       "library_prep_attempt          0.235171\n",
       "Use_for_pooling               0.000000\n",
       "Dilution_factor               0.010955\n",
       "Vol_EB_ul                     0.011011\n",
       "Vol_DNA_ul                    0.000000\n",
       "light_cycle                   0.000042\n",
       "cage_type                     0.000900\n",
       "bedding_material              0.000503\n",
       "bedding_autoclaved            0.000000\n",
       "house_present                 0.000224\n",
       "roll_present                  0.000402\n",
       "enrichment_autoclaved         0.000000\n",
       "diet                          0.000459\n",
       "diet_treatment                0.000899\n",
       "water_autoclaved              0.000014\n",
       "water_chlorinated             0.000871\n",
       "mean_room_temp_C              0.000373\n",
       "room_humidity                 0.001769\n",
       "other_animals_present         0.000067\n",
       "other_animals_present_kind    0.000653\n",
       "housing_room_condition        0.000000\n",
       "tail_handling                 0.000000\n",
       "Notes                         0.002898\n",
       "median_count                  0.000000\n",
       "dtype: float64"
      ]
     },
     "execution_count": 39,
     "metadata": {},
     "output_type": "execute_result"
    },
    {
     "data": {
      "image/png": "[encoded data removed]",
      "text/plain": [
       "<Figure size 720x288 with 1 Axes>"
      ]
     },
     "metadata": {},
     "output_type": "display_data"
    }
   ],
   "source": [
    "# plot feature importance for meta data\n",
    "plt_feat_importance(meta_rf_clf, \"is_contamined\", meta_df.drop(columns=[\"is_contamined\"]).columns)"
   ]
  },
  {
   "cell_type": "markdown",
   "metadata": {},
   "source": [
    "## Shapley Value for feature contribution\n",
    "// TODO describe\n"
   ]
  },
  {
   "cell_type": "code",
   "execution_count": 40,
   "metadata": {},
   "outputs": [],
   "source": [
    "\n",
    "def plot_shap_val(clf, X_train):\n",
    "    \n",
    "    shap_obj  = shap.TreeExplainer(clf)\n",
    "    shap_values = shap_obj.shap_values(X_train)\n",
    "    shap.summary_plot(shap_values, X_train)\n",
    "    return shap_obj"
   ]
  },
  {
   "cell_type": "code",
   "execution_count": 41,
   "metadata": {},
   "outputs": [
    {
     "data": {
      "image/png": "[encoded data removed]",
      "text/plain": [
       "<Figure size 576x684 with 1 Axes>"
      ]
     },
     "metadata": {},
     "output_type": "display_data"
    }
   ],
   "source": [
    "# get shapley values for count data and plot\n",
    "count_shap_vals = plot_shap_val(count_rf_clf, train_df_counts)\n",
    "\n"
   ]
  },
  {
   "cell_type": "code",
   "execution_count": 42,
   "metadata": {},
   "outputs": [
    {
     "data": {
      "image/png": "[encoded data removed]",
      "text/plain": [
       "<Figure size 576x684 with 1 Axes>"
      ]
     },
     "metadata": {},
     "output_type": "display_data"
    }
   ],
   "source": [
    "# geth shapley values and plot for meta data\n",
    "count_meta_vals = plot_shap_val(meta_rf_clf, train_df_meta)"
   ]
  },
  {
   "cell_type": "markdown",
   "metadata": {},
   "source": [
    "## Task 5.2 Multi Layer Perceptron\n",
    "Before I train the model, I need to scale the data (this was not necessary for the Random Forest, because it can deal with unscaled data). I did this during preprocessing and only need to load the data"
   ]
  },
  {
   "cell_type": "code",
   "execution_count": 43,
   "metadata": {},
   "outputs": [],
   "source": [
    "scaled_df = pd.read_csv(\"../data/output/scaled_seq.csv\")\n"
   ]
  },
  {
   "cell_type": "code",
   "execution_count": 44,
   "metadata": {},
   "outputs": [
    {
     "data": {
      "text/plain": [
       "(199, 1565)"
      ]
     },
     "execution_count": 44,
     "metadata": {},
     "output_type": "execute_result"
    }
   ],
   "source": [
    "scaled_df.shape"
   ]
  },
  {
   "cell_type": "code",
   "execution_count": 45,
   "metadata": {},
   "outputs": [
    {
     "data": {
      "text/plain": [
       "(173, 42)"
      ]
     },
     "execution_count": 45,
     "metadata": {},
     "output_type": "execute_result"
    }
   ],
   "source": [
    "meta_df.shape"
   ]
  },
  {
   "cell_type": "code",
   "execution_count": 46,
   "metadata": {},
   "outputs": [
    {
     "name": "stdout",
     "output_type": "stream",
     "text": [
      "[0 1 0 0 1 1 1 0 1 1 0 0 1 1 0 0 0 0 0 0]\n",
      "('              precision    recall  f1-score   support\\n'\n",
      " '\\n'\n",
      " '           0       0.73      0.67      0.70        12\\n'\n",
      " '           1       0.56      0.62      0.59         8\\n'\n",
      " '\\n'\n",
      " '    accuracy                           0.65        20\\n'\n",
      " '   macro avg       0.64      0.65      0.64        20\\n'\n",
      " 'weighted avg       0.66      0.65      0.65        20\\n')\n",
      "0.65\n",
      "[0 0 0 0 0 0 0 0 0 0 0 0 0 1 0 0 1 0 0 0]\n",
      "('              precision    recall  f1-score   support\\n'\n",
      " '\\n'\n",
      " '           0       1.00      0.61      0.76        18\\n'\n",
      " '           1       0.22      1.00      0.36         2\\n'\n",
      " '\\n'\n",
      " '    accuracy                           0.65        20\\n'\n",
      " '   macro avg       0.61      0.81      0.56        20\\n'\n",
      " 'weighted avg       0.92      0.65      0.72        20\\n')\n",
      "0.65\n",
      "[0 0 1 1 1 0 0 0 1 0 0 0 0 0 0 1 0 0 0 1]\n",
      "('              precision    recall  f1-score   support\\n'\n",
      " '\\n'\n",
      " '           0       0.64      0.50      0.56        14\\n'\n",
      " '           1       0.22      0.33      0.27         6\\n'\n",
      " '\\n'\n",
      " '    accuracy                           0.45        20\\n'\n",
      " '   macro avg       0.43      0.42      0.41        20\\n'\n",
      " 'weighted avg       0.51      0.45      0.47        20\\n')\n",
      "0.45\n",
      "[0 0 0 1 1 1 0 1 0 0 0 0 0 1 0 1 0 0 0 1]\n",
      "('              precision    recall  f1-score   support\\n'\n",
      " '\\n'\n",
      " '           0       0.64      0.54      0.58        13\\n'\n",
      " '           1       0.33      0.43      0.38         7\\n'\n",
      " '\\n'\n",
      " '    accuracy                           0.50        20\\n'\n",
      " '   macro avg       0.48      0.48      0.48        20\\n'\n",
      " 'weighted avg       0.53      0.50      0.51        20\\n')\n",
      "0.5\n",
      "[0 0 0 1 0 1 0 0 0 0 0 1 1 1 1 0 1 1 0 1]\n",
      "('              precision    recall  f1-score   support\\n'\n",
      " '\\n'\n",
      " '           0       0.82      0.82      0.82        11\\n'\n",
      " '           1       0.78      0.78      0.78         9\\n'\n",
      " '\\n'\n",
      " '    accuracy                           0.80        20\\n'\n",
      " '   macro avg       0.80      0.80      0.80        20\\n'\n",
      " 'weighted avg       0.80      0.80      0.80        20\\n')\n",
      "0.8\n",
      "[0 0 0 1 0 0 0 1 1 0 1 1 1 1 1 0 1 1 1 1]\n",
      "('              precision    recall  f1-score   support\\n'\n",
      " '\\n'\n",
      " '           0       0.64      0.88      0.74         8\\n'\n",
      " '           1       0.89      0.67      0.76        12\\n'\n",
      " '\\n'\n",
      " '    accuracy                           0.75        20\\n'\n",
      " '   macro avg       0.76      0.77      0.75        20\\n'\n",
      " 'weighted avg       0.79      0.75      0.75        20\\n')\n",
      "0.75\n",
      "[0 1 1 0 1 1 0 0 1 1 1 1 1 0 1 0 1 1 1 1]\n",
      "('              precision    recall  f1-score   support\\n'\n",
      " '\\n'\n",
      " '           0       0.40      0.67      0.50         6\\n'\n",
      " '           1       0.80      0.57      0.67        14\\n'\n",
      " '\\n'\n",
      " '    accuracy                           0.60        20\\n'\n",
      " '   macro avg       0.60      0.62      0.58        20\\n'\n",
      " 'weighted avg       0.68      0.60      0.62        20\\n')\n",
      "0.6\n",
      "[1 1 0 0 1 0 1 0 1 1 1 1 1 0 1 1 0 0 0 1]\n",
      "('              precision    recall  f1-score   support\\n'\n",
      " '\\n'\n",
      " '           0       0.40      0.50      0.44         8\\n'\n",
      " '           1       0.60      0.50      0.55        12\\n'\n",
      " '\\n'\n",
      " '    accuracy                           0.50        20\\n'\n",
      " '   macro avg       0.50      0.50      0.49        20\\n'\n",
      " 'weighted avg       0.52      0.50      0.51        20\\n')\n",
      "0.5\n",
      "[0 0 1 0 1 0 0 1 0 0 1 1 1 1 1 1 1 1 1 1]\n",
      "('              precision    recall  f1-score   support\\n'\n",
      " '\\n'\n",
      " '           0       0.70      1.00      0.82         7\\n'\n",
      " '           1       1.00      0.77      0.87        13\\n'\n",
      " '\\n'\n",
      " '    accuracy                           0.85        20\\n'\n",
      " '   macro avg       0.85      0.88      0.85        20\\n'\n",
      " 'weighted avg       0.89      0.85      0.85        20\\n')\n",
      "0.85\n",
      "[0 0 0 0 1 1 1 1 1 1 0 0 1 0 1 1 1 1 1]\n",
      "('              precision    recall  f1-score   support\\n'\n",
      " '\\n'\n",
      " '           0       0.40      0.57      0.47         7\\n'\n",
      " '           1       0.67      0.50      0.57        12\\n'\n",
      " '\\n'\n",
      " '    accuracy                           0.53        19\\n'\n",
      " '   macro avg       0.53      0.54      0.52        19\\n'\n",
      " 'weighted avg       0.57      0.53      0.53        19\\n')\n",
      "0.5263157894736842\n"
     ]
    }
   ],
   "source": [
    "model = MLPClassifier() \n",
    "\n",
    "is_contamined.index = range(len(is_contamined))\n",
    "scaled_df.index = range(len(scaled_df))\n",
    "scaled_df = scaled_df.drop(scaled_df.columns[0], axis=1)\n",
    "\n",
    "# cv_results = cross_validate(model,scaled_df, is_contamined, cv=10, \n",
    "#                             return_train_score=False, \n",
    "#                             scoring=model.score) \n",
    "# print(\"Fit scores: {}\".format(cv_results['test_score']))\n",
    "\n",
    "kf = StratifiedKFold(n_splits=10)\n",
    "clf = MLPClassifier()\n",
    "score_list = []\n",
    "report_list = []\n",
    "for train_indices, test_indices in kf.split(scaled_df, seq_df_and_target.is_contamined):\n",
    "    clf.fit(scaled_df.iloc[train_indices,:], is_contamined[train_indices])\n",
    "    pred = clf.predict(scaled_df.iloc[test_indices,:])\n",
    "    print(pred)\n",
    "    cur_report = metrics.classification_report(pred, is_contamined[test_indices])\n",
    "    cur_score = clf.score(scaled_df.iloc[test_indices,:], is_contamined[test_indices])\n",
    "    score_list.append(cur_score)\n",
    "    report_list.append(cur_report)\n",
    "    pp.pprint(cur_report)\n",
    "    print(cur_score)"
   ]
  },
  {
   "cell_type": "markdown",
   "metadata": {},
   "source": [
    "### Better way to Cross validate fount\n",
    "I use now cross_val_score from sckit learn\n"
   ]
  },
  {
   "cell_type": "code",
   "execution_count": 47,
   "metadata": {},
   "outputs": [],
   "source": [
    "mlp_untuned = MLPClassifier()"
   ]
  },
  {
   "cell_type": "code",
   "execution_count": 48,
   "metadata": {},
   "outputs": [],
   "source": [
    "scores_prec = cross_val_score(mlp_untuned, scaled_df, seq_df_and_target.is_contamined, cv = 10, scoring='precision')\n",
    "scores_acc = cross_val_score(mlp_untuned, scaled_df, seq_df_and_target.is_contamined, cv = 10, scoring='accuracy')\n",
    "scores_recall = cross_val_score(mlp_untuned, scaled_df, seq_df_and_target.is_contamined, cv = 10, scoring='recall')\n",
    "scores_f1 = cross_val_score(mlp_untuned, scaled_df, seq_df_and_target.is_contamined, cv = 10, scoring='f1')"
   ]
  },
  {
   "cell_type": "code",
   "execution_count": 49,
   "metadata": {},
   "outputs": [
    {
     "name": "stdout",
     "output_type": "stream",
     "text": [
      "0.6015506715506715 0.1896488966154589\n",
      "0.6723684210526316 0.1337841524470794\n",
      "0.6433333333333333 0.2273754350790038\n",
      "0.5732869607173012 0.25591285442420864\n"
     ]
    }
   ],
   "source": [
    "print(statistics.mean(scores_prec),statistics.stdev(scores_prec))\n",
    "print(statistics.mean(scores_acc), statistics.stdev(scores_acc))\n",
    "print(statistics.mean(scores_recall), statistics.stdev(scores_recall))\n",
    "print(statistics.mean(scores_f1), statistics.stdev(scores_f1))"
   ]
  },
  {
   "cell_type": "code",
   "execution_count": 50,
   "metadata": {},
   "outputs": [
    {
     "data": {
      "text/plain": [
       "{'activation': 'relu',\n",
       " 'alpha': 0.0001,\n",
       " 'batch_size': 'auto',\n",
       " 'beta_1': 0.9,\n",
       " 'beta_2': 0.999,\n",
       " 'early_stopping': False,\n",
       " 'epsilon': 1e-08,\n",
       " 'hidden_layer_sizes': (100,),\n",
       " 'learning_rate': 'constant',\n",
       " 'learning_rate_init': 0.001,\n",
       " 'max_fun': 15000,\n",
       " 'max_iter': 200,\n",
       " 'momentum': 0.9,\n",
       " 'n_iter_no_change': 10,\n",
       " 'nesterovs_momentum': True,\n",
       " 'power_t': 0.5,\n",
       " 'random_state': None,\n",
       " 'shuffle': True,\n",
       " 'solver': 'adam',\n",
       " 'tol': 0.0001,\n",
       " 'validation_fraction': 0.1,\n",
       " 'verbose': False,\n",
       " 'warm_start': False}"
      ]
     },
     "execution_count": 50,
     "metadata": {},
     "output_type": "execute_result"
    }
   ],
   "source": [
    "clf.get_params()"
   ]
  },
  {
   "cell_type": "markdown",
   "metadata": {},
   "source": [
    "## MLP with parameter tuning"
   ]
  },
  {
   "cell_type": "code",
   "execution_count": null,
   "metadata": {},
   "outputs": [],
   "source": [
    "mlp = MLPClassifier(max_iter=500, random_state=0)\n",
    "parameter_space = {\n",
    "    'hidden_layer_sizes': [(50,50,50), (50,100,50), (100,)],\n",
    "      'activation' : ['identity', 'logistic', 'tanh', 'relu'],\n",
    "            'solver' : ['lbfgs', 'sgd', 'adam'],\n",
    "    'alpha': [0.0001, 0.01, 0.05, 0.1],\n",
    "    'learning_rate': ['constant','adaptive'], \n",
    "}\n",
    "clf = GridSearchCV(mlp, parameter_space, n_jobs=-1, cv=10)\n",
    "clf.fit(scaled_df, seq_df_and_target.is_contamined)\n",
    "\n",
    "# Best paramete set\n",
    "print('Best parameters found:\\n', clf.best_params_)\n"
   ]
  },
  {
   "cell_type": "markdown",
   "metadata": {},
   "source": [
    "### MLP with tuned parameter\n"
   ]
  },
  {
   "cell_type": "code",
   "execution_count": 82,
   "metadata": {},
   "outputs": [],
   "source": [
    "mlp_tuned = MLPClassifier(activation='tanh', alpha=0.0001, hidden_layer_sizes=(100,50,100), learning_rate='constant',\n",
    "                         solver='lbfgs', random_state=0, max_iter=500)\n",
    "scores_prec = cross_val_score(mlp_tuned, scaled_df, seq_df_and_target.is_contamined, cv = 10, scoring='precision')\n",
    "scores_acc = cross_val_score(mlp_tuned, scaled_df, seq_df_and_target.is_contamined, cv = 10, scoring='accuracy')\n",
    "scores_recall = cross_val_score(mlp_tuned, scaled_df, seq_df_and_target.is_contamined, cv = 10, scoring='recall')\n",
    "scores_f1 = cross_val_score(mlp_tuned, scaled_df, seq_df_and_target.is_contamined, cv = 10, scoring='f1')"
   ]
  },
  {
   "cell_type": "code",
   "execution_count": 83,
   "metadata": {},
   "outputs": [
    {
     "name": "stdout",
     "output_type": "stream",
     "text": [
      "0.6416956572838926 0.16749877811883518\n",
      "0.6528947368421053 0.12908424529070722\n",
      "0.6311111111111111 0.27640649177768056\n",
      "0.604928709634592 0.19273140994588192\n"
     ]
    }
   ],
   "source": [
    "print(statistics.mean(scores_prec),statistics.stdev(scores_prec))\n",
    "print(statistics.mean(scores_acc), statistics.stdev(scores_acc))\n",
    "print(statistics.mean(scores_recall), statistics.stdev(scores_recall))\n",
    "print(statistics.mean(scores_f1), statistics.stdev(scores_f1))"
   ]
  },
  {
   "cell_type": "markdown",
   "metadata": {},
   "source": [
    "## Result Analyse\n",
    "I will create boxplots of the most important and least important otus"
   ]
  },
  {
   "cell_type": "code",
   "execution_count": 123,
   "metadata": {},
   "outputs": [
    {
     "data": {
      "text/plain": [
       "[72, 257, 385, 207, 296, 803, 68, 102, 311, 514]"
      ]
     },
     "execution_count": 123,
     "metadata": {},
     "output_type": "execute_result"
    }
   ],
   "source": [
    "most_important = importance.nlargest(10)\n",
    "most_important_names = list(most_important.index)\n",
    "most_important_ind = [int(x[3:]) for x in most_important_names]\n",
    "most_important_ind"
   ]
  },
  {
   "cell_type": "code",
   "execution_count": 124,
   "metadata": {},
   "outputs": [
    {
     "data": {
      "text/plain": [
       "otu22     0.0\n",
       "otu98     0.0\n",
       "otu147    0.0\n",
       "otu183    0.0\n",
       "otu191    0.0\n",
       "otu201    0.0\n",
       "otu220    0.0\n",
       "otu231    0.0\n",
       "otu233    0.0\n",
       "otu261    0.0\n",
       "dtype: float64"
      ]
     },
     "execution_count": 124,
     "metadata": {},
     "output_type": "execute_result"
    }
   ],
   "source": [
    "least_important = importance.nsmallest(10)\n",
    "least_important"
   ]
  },
  {
   "cell_type": "code",
   "execution_count": 125,
   "metadata": {},
   "outputs": [
    {
     "data": {
      "text/plain": [
       "[22, 98, 147, 183, 191, 201, 220, 231, 233, 261]"
      ]
     },
     "execution_count": 125,
     "metadata": {},
     "output_type": "execute_result"
    }
   ],
   "source": [
    "least_important_names = list(least_important.index)\n",
    "least_important_ind = [int(x[3:]) for x in least_important_names]\n",
    "least_important_ind"
   ]
  },
  {
   "cell_type": "code",
   "execution_count": 90,
   "metadata": {},
   "outputs": [
    {
     "data": {
      "text/html": [
       "<div>\n",
       "<style scoped>\n",
       "    .dataframe tbody tr th:only-of-type {\n",
       "        vertical-align: middle;\n",
       "    }\n",
       "\n",
       "    .dataframe tbody tr th {\n",
       "        vertical-align: top;\n",
       "    }\n",
       "\n",
       "    .dataframe thead th {\n",
       "        text-align: right;\n",
       "    }\n",
       "</style>\n",
       "<table border=\"1\" class=\"dataframe\">\n",
       "  <thead>\n",
       "    <tr style=\"text-align: right;\">\n",
       "      <th></th>\n",
       "      <th>0</th>\n",
       "      <th>1</th>\n",
       "      <th>2</th>\n",
       "      <th>3</th>\n",
       "      <th>4</th>\n",
       "      <th>5</th>\n",
       "      <th>6</th>\n",
       "      <th>7</th>\n",
       "      <th>8</th>\n",
       "      <th>9</th>\n",
       "      <th>...</th>\n",
       "      <th>1554</th>\n",
       "      <th>1555</th>\n",
       "      <th>1556</th>\n",
       "      <th>1557</th>\n",
       "      <th>1558</th>\n",
       "      <th>1559</th>\n",
       "      <th>1560</th>\n",
       "      <th>1561</th>\n",
       "      <th>1562</th>\n",
       "      <th>1563</th>\n",
       "    </tr>\n",
       "  </thead>\n",
       "  <tbody>\n",
       "    <tr>\n",
       "      <th>100A</th>\n",
       "      <td>121182</td>\n",
       "      <td>0</td>\n",
       "      <td>9921</td>\n",
       "      <td>1351</td>\n",
       "      <td>65360</td>\n",
       "      <td>24331</td>\n",
       "      <td>3858</td>\n",
       "      <td>15493</td>\n",
       "      <td>373</td>\n",
       "      <td>1911</td>\n",
       "      <td>...</td>\n",
       "      <td>0</td>\n",
       "      <td>0</td>\n",
       "      <td>0</td>\n",
       "      <td>0</td>\n",
       "      <td>0</td>\n",
       "      <td>0</td>\n",
       "      <td>0</td>\n",
       "      <td>0</td>\n",
       "      <td>0</td>\n",
       "      <td>0</td>\n",
       "    </tr>\n",
       "    <tr>\n",
       "      <th>100B</th>\n",
       "      <td>51332</td>\n",
       "      <td>0</td>\n",
       "      <td>5047</td>\n",
       "      <td>97217</td>\n",
       "      <td>245</td>\n",
       "      <td>5078</td>\n",
       "      <td>1564</td>\n",
       "      <td>8653</td>\n",
       "      <td>2739</td>\n",
       "      <td>2879</td>\n",
       "      <td>...</td>\n",
       "      <td>0</td>\n",
       "      <td>0</td>\n",
       "      <td>0</td>\n",
       "      <td>0</td>\n",
       "      <td>0</td>\n",
       "      <td>0</td>\n",
       "      <td>0</td>\n",
       "      <td>0</td>\n",
       "      <td>0</td>\n",
       "      <td>0</td>\n",
       "    </tr>\n",
       "    <tr>\n",
       "      <th>101A</th>\n",
       "      <td>47276</td>\n",
       "      <td>250</td>\n",
       "      <td>27034</td>\n",
       "      <td>917</td>\n",
       "      <td>32350</td>\n",
       "      <td>11503</td>\n",
       "      <td>6836</td>\n",
       "      <td>26665</td>\n",
       "      <td>9471</td>\n",
       "      <td>286</td>\n",
       "      <td>...</td>\n",
       "      <td>0</td>\n",
       "      <td>0</td>\n",
       "      <td>0</td>\n",
       "      <td>0</td>\n",
       "      <td>0</td>\n",
       "      <td>0</td>\n",
       "      <td>0</td>\n",
       "      <td>0</td>\n",
       "      <td>0</td>\n",
       "      <td>0</td>\n",
       "    </tr>\n",
       "    <tr>\n",
       "      <th>101B</th>\n",
       "      <td>35653</td>\n",
       "      <td>0</td>\n",
       "      <td>25285</td>\n",
       "      <td>145</td>\n",
       "      <td>41464</td>\n",
       "      <td>16648</td>\n",
       "      <td>4978</td>\n",
       "      <td>20689</td>\n",
       "      <td>8220</td>\n",
       "      <td>281</td>\n",
       "      <td>...</td>\n",
       "      <td>0</td>\n",
       "      <td>0</td>\n",
       "      <td>0</td>\n",
       "      <td>0</td>\n",
       "      <td>0</td>\n",
       "      <td>0</td>\n",
       "      <td>0</td>\n",
       "      <td>0</td>\n",
       "      <td>0</td>\n",
       "      <td>0</td>\n",
       "    </tr>\n",
       "    <tr>\n",
       "      <th>103A</th>\n",
       "      <td>90972</td>\n",
       "      <td>962</td>\n",
       "      <td>1765</td>\n",
       "      <td>93</td>\n",
       "      <td>188</td>\n",
       "      <td>16078</td>\n",
       "      <td>12066</td>\n",
       "      <td>20746</td>\n",
       "      <td>15073</td>\n",
       "      <td>38305</td>\n",
       "      <td>...</td>\n",
       "      <td>0</td>\n",
       "      <td>0</td>\n",
       "      <td>0</td>\n",
       "      <td>0</td>\n",
       "      <td>0</td>\n",
       "      <td>0</td>\n",
       "      <td>0</td>\n",
       "      <td>0</td>\n",
       "      <td>0</td>\n",
       "      <td>0</td>\n",
       "    </tr>\n",
       "  </tbody>\n",
       "</table>\n",
       "<p>5 rows × 1564 columns</p>\n",
       "</div>"
      ],
      "text/plain": [
       "           0    1      2      3      4      5      6      7      8      9  \\\n",
       "100A  121182    0   9921   1351  65360  24331   3858  15493    373   1911   \n",
       "100B   51332    0   5047  97217    245   5078   1564   8653   2739   2879   \n",
       "101A   47276  250  27034    917  32350  11503   6836  26665   9471    286   \n",
       "101B   35653    0  25285    145  41464  16648   4978  20689   8220    281   \n",
       "103A   90972  962   1765     93    188  16078  12066  20746  15073  38305   \n",
       "\n",
       "      ...  1554  1555  1556  1557  1558  1559  1560  1561  1562  1563  \n",
       "100A  ...     0     0     0     0     0     0     0     0     0     0  \n",
       "100B  ...     0     0     0     0     0     0     0     0     0     0  \n",
       "101A  ...     0     0     0     0     0     0     0     0     0     0  \n",
       "101B  ...     0     0     0     0     0     0     0     0     0     0  \n",
       "103A  ...     0     0     0     0     0     0     0     0     0     0  \n",
       "\n",
       "[5 rows x 1564 columns]"
      ]
     },
     "execution_count": 90,
     "metadata": {},
     "output_type": "execute_result"
    }
   ],
   "source": [
    "seq_df.head()"
   ]
  },
  {
   "cell_type": "code",
   "execution_count": 126,
   "metadata": {},
   "outputs": [],
   "source": [
    "least_important_df = seq_df.iloc[:,least_important_ind]\n",
    "most_important_df = seq_df.iloc[:,most_important_ind]"
   ]
  },
  {
   "cell_type": "code",
   "execution_count": 92,
   "metadata": {},
   "outputs": [
    {
     "data": {
      "text/plain": [
       "<matplotlib.axes._subplots.AxesSubplot at 0x7fe2b715be10>"
      ]
     },
     "execution_count": 92,
     "metadata": {},
     "output_type": "execute_result"
    },
    {
     "data": {
      "image/png": "[encoded data removed]",
      "text/plain": [
       "<Figure size 720x288 with 1 Axes>"
      ]
     },
     "metadata": {
      "needs_background": "light"
     },
     "output_type": "display_data"
    }
   ],
   "source": [
    "most_important_df.boxplot()"
   ]
  },
  {
   "cell_type": "code",
   "execution_count": 93,
   "metadata": {},
   "outputs": [
    {
     "data": {
      "text/plain": [
       "<matplotlib.axes._subplots.AxesSubplot at 0x7fe2b6840470>"
      ]
     },
     "execution_count": 93,
     "metadata": {},
     "output_type": "execute_result"
    },
    {
     "data": {
      "image/png": "[encoded data removed]",
      "text/plain": [
       "<Figure size 720x288 with 1 Axes>"
      ]
     },
     "metadata": {
      "needs_background": "light"
     },
     "output_type": "display_data"
    }
   ],
   "source": [
    "least_important_df.boxplot()"
   ]
  },
  {
   "cell_type": "code",
   "execution_count": 94,
   "metadata": {},
   "outputs": [
    {
     "name": "stderr",
     "output_type": "stream",
     "text": [
      "22.6% of the points cannot be placed; you may want to decrease the size of the markers or use stripplot.\n",
      "64.8% of the points cannot be placed; you may want to decrease the size of the markers or use stripplot.\n",
      "81.4% of the points cannot be placed; you may want to decrease the size of the markers or use stripplot.\n",
      "79.4% of the points cannot be placed; you may want to decrease the size of the markers or use stripplot.\n",
      "78.9% of the points cannot be placed; you may want to decrease the size of the markers or use stripplot.\n",
      "83.4% of the points cannot be placed; you may want to decrease the size of the markers or use stripplot.\n",
      "81.9% of the points cannot be placed; you may want to decrease the size of the markers or use stripplot.\n",
      "82.4% of the points cannot be placed; you may want to decrease the size of the markers or use stripplot.\n",
      "82.9% of the points cannot be placed; you may want to decrease the size of the markers or use stripplot.\n",
      "90.5% of the points cannot be placed; you may want to decrease the size of the markers or use stripplot.\n"
     ]
    },
    {
     "data": {
      "text/plain": [
       "<matplotlib.axes._subplots.AxesSubplot at 0x7fe2b6480f28>"
      ]
     },
     "execution_count": 94,
     "metadata": {},
     "output_type": "execute_result"
    },
    {
     "data": {
      "image/png": "[encoded data removed]",
      "text/plain": [
       "<Figure size 720x288 with 1 Axes>"
      ]
     },
     "metadata": {
      "needs_background": "light"
     },
     "output_type": "display_data"
    }
   ],
   "source": [
    "# f, ax = plt.subplots()\n",
    "# ax.set(yscale=\"log\")\n",
    "\n",
    "sns.swarmplot(x = \"OTUs\", y = \"Counts\",data = pd.melt(least_important_df,\n",
    "                                            var_name=\"OTUs\", value_name=\"Counts\"), s = 3)\n"
   ]
  },
  {
   "cell_type": "code",
   "execution_count": 95,
   "metadata": {},
   "outputs": [
    {
     "name": "stderr",
     "output_type": "stream",
     "text": [
      "37.2% of the points cannot be placed; you may want to decrease the size of the markers or use stripplot.\n",
      "87.9% of the points cannot be placed; you may want to decrease the size of the markers or use stripplot.\n",
      "64.8% of the points cannot be placed; you may want to decrease the size of the markers or use stripplot.\n"
     ]
    },
    {
     "data": {
      "text/plain": [
       "<matplotlib.axes._subplots.AxesSubplot at 0x7fe2b66af1d0>"
      ]
     },
     "execution_count": 95,
     "metadata": {},
     "output_type": "execute_result"
    },
    {
     "data": {
      "image/png": "[encoded data removed]",
      "text/plain": [
       "<Figure size 720x288 with 1 Axes>"
      ]
     },
     "metadata": {
      "needs_background": "light"
     },
     "output_type": "display_data"
    }
   ],
   "source": [
    "f, ax = plt.subplots()\n",
    "ax.set(yscale=\"log\")\n",
    "\n",
    "sns.swarmplot(x = \"OTUs\", y = \"Counts\",data = pd.melt(most_important_df,\n",
    "                                            var_name=\"OTUs\", value_name=\"Counts\"), s = 3)\n"
   ]
  },
  {
   "cell_type": "code",
   "execution_count": 96,
   "metadata": {},
   "outputs": [
    {
     "data": {
      "text/plain": [
       "<matplotlib.axes._subplots.AxesSubplot at 0x7fe2b5d57e80>"
      ]
     },
     "execution_count": 96,
     "metadata": {},
     "output_type": "execute_result"
    },
    {
     "data": {
      "image/png": "[encoded data removed]",
      "text/plain": [
       "<Figure size 720x288 with 1 Axes>"
      ]
     },
     "metadata": {
      "needs_background": "light"
     },
     "output_type": "display_data"
    }
   ],
   "source": [
    "f, ax = plt.subplots()\n",
    "ax.set(yscale=\"log\")\n",
    "\n",
    "sns.boxplot(x = \"OTUs\", y = \"Counts\",data = pd.melt(most_important_df,\n",
    "                                            var_name=\"OTUs\", value_name=\"Counts\"))"
   ]
  },
  {
   "cell_type": "code",
   "execution_count": null,
   "metadata": {},
   "outputs": [],
   "source": []
  },
  {
   "cell_type": "code",
   "execution_count": 97,
   "metadata": {},
   "outputs": [
    {
     "data": {
      "text/plain": [
       "<matplotlib.axes._subplots.AxesSubplot at 0x7fe2b55e6cf8>"
      ]
     },
     "execution_count": 97,
     "metadata": {},
     "output_type": "execute_result"
    },
    {
     "data": {
      "image/png": "[encoded data removed]",
      "text/plain": [
       "<Figure size 720x288 with 1 Axes>"
      ]
     },
     "metadata": {
      "needs_background": "light"
     },
     "output_type": "display_data"
    }
   ],
   "source": [
    "f, ax = plt.subplots()\n",
    "ax.set(yscale=\"log\")\n",
    "\n",
    "sns.boxplot(x = \"OTUs\", y = \"Counts\",data = pd.melt(least_important_df,\n",
    "                                            var_name=\"OTUs\", value_name=\"Counts\"))"
   ]
  },
  {
   "cell_type": "markdown",
   "metadata": {},
   "source": [
    "## Resulta analysis 1\n",
    "check boxplots of contaminated vs non-contaminated samples for the most important OTUs\n"
   ]
  },
  {
   "cell_type": "code",
   "execution_count": 127,
   "metadata": {},
   "outputs": [],
   "source": [
    "most_important_ind\n",
    "most_important_df[\"is_contamined\"] = seq_df_and_target.is_contamined\n",
    "least_important_df[\"is_contamined\"] = seq_df_and_target.is_contamined"
   ]
  },
  {
   "cell_type": "code",
   "execution_count": null,
   "metadata": {},
   "outputs": [],
   "source": []
  },
  {
   "cell_type": "code",
   "execution_count": 128,
   "metadata": {},
   "outputs": [],
   "source": [
    "plot_df = most_important_df.drop(columns=[\"is_contamined\"]).stack().reset_index()\n",
    "plot_df_least = least_important_df.drop(columns=[\"is_contamined\"]).stack().reset_index()"
   ]
  },
  {
   "cell_type": "code",
   "execution_count": 129,
   "metadata": {},
   "outputs": [],
   "source": [
    "most_important_df[\"level_0\"] = most_important_df.index\n",
    "least_important_df[\"level_0\"] = least_important_df.index"
   ]
  },
  {
   "cell_type": "code",
   "execution_count": 130,
   "metadata": {},
   "outputs": [],
   "source": [
    "\n",
    "newplot_df  = plot_df.level_0.map(most_important_df.is_contamined)\n",
    "newplot_df_least  = plot_df_least.level_0.map(least_important_df.is_contamined)"
   ]
  },
  {
   "cell_type": "code",
   "execution_count": 131,
   "metadata": {},
   "outputs": [
    {
     "data": {
      "text/plain": [
       "0       0\n",
       "1       0\n",
       "2       0\n",
       "3       0\n",
       "4       0\n",
       "       ..\n",
       "1985    1\n",
       "1986    1\n",
       "1987    1\n",
       "1988    1\n",
       "1989    1\n",
       "Name: level_0, Length: 1990, dtype: int64"
      ]
     },
     "execution_count": 131,
     "metadata": {},
     "output_type": "execute_result"
    }
   ],
   "source": [
    "newplot_df"
   ]
  },
  {
   "cell_type": "code",
   "execution_count": 132,
   "metadata": {},
   "outputs": [],
   "source": [
    "plot_df[\"is_contamined\"] = newplot_df\n",
    "plot_df_least[\"is_contamined\"] = newplot_df_least"
   ]
  },
  {
   "cell_type": "code",
   "execution_count": 133,
   "metadata": {},
   "outputs": [],
   "source": [
    "plot_df.head()\n",
    "plot_df.columns = [\"sampleId\", \"OTUs\", \"Counts\", \"is_contaminated\"]\n",
    "plot_df_least.columns = [\"sampleId\", \"OTUs\", \"Counts\", \"is_contaminated\"]"
   ]
  },
  {
   "cell_type": "code",
   "execution_count": 134,
   "metadata": {},
   "outputs": [
    {
     "data": {
      "text/plain": [
       "0       0\n",
       "1       0\n",
       "2       0\n",
       "3       0\n",
       "4       0\n",
       "       ..\n",
       "1985    1\n",
       "1986    1\n",
       "1987    1\n",
       "1988    1\n",
       "1989    1\n",
       "Name: level_0, Length: 1990, dtype: int64"
      ]
     },
     "execution_count": 134,
     "metadata": {},
     "output_type": "execute_result"
    }
   ],
   "source": [
    "newplot_df"
   ]
  },
  {
   "cell_type": "code",
   "execution_count": 135,
   "metadata": {},
   "outputs": [
    {
     "data": {
      "text/html": [
       "<div>\n",
       "<style scoped>\n",
       "    .dataframe tbody tr th:only-of-type {\n",
       "        vertical-align: middle;\n",
       "    }\n",
       "\n",
       "    .dataframe tbody tr th {\n",
       "        vertical-align: top;\n",
       "    }\n",
       "\n",
       "    .dataframe thead th {\n",
       "        text-align: right;\n",
       "    }\n",
       "</style>\n",
       "<table border=\"1\" class=\"dataframe\">\n",
       "  <thead>\n",
       "    <tr style=\"text-align: right;\">\n",
       "      <th></th>\n",
       "      <th>sampleId</th>\n",
       "      <th>OTUs</th>\n",
       "      <th>Counts</th>\n",
       "      <th>is_contaminated</th>\n",
       "    </tr>\n",
       "  </thead>\n",
       "  <tbody>\n",
       "    <tr>\n",
       "      <th>0</th>\n",
       "      <td>100A</td>\n",
       "      <td>72</td>\n",
       "      <td>90</td>\n",
       "      <td>0</td>\n",
       "    </tr>\n",
       "    <tr>\n",
       "      <th>1</th>\n",
       "      <td>100A</td>\n",
       "      <td>257</td>\n",
       "      <td>5</td>\n",
       "      <td>0</td>\n",
       "    </tr>\n",
       "    <tr>\n",
       "      <th>2</th>\n",
       "      <td>100A</td>\n",
       "      <td>385</td>\n",
       "      <td>0</td>\n",
       "      <td>0</td>\n",
       "    </tr>\n",
       "    <tr>\n",
       "      <th>3</th>\n",
       "      <td>100A</td>\n",
       "      <td>207</td>\n",
       "      <td>1750</td>\n",
       "      <td>0</td>\n",
       "    </tr>\n",
       "    <tr>\n",
       "      <th>4</th>\n",
       "      <td>100A</td>\n",
       "      <td>296</td>\n",
       "      <td>85</td>\n",
       "      <td>0</td>\n",
       "    </tr>\n",
       "    <tr>\n",
       "      <th>...</th>\n",
       "      <td>...</td>\n",
       "      <td>...</td>\n",
       "      <td>...</td>\n",
       "      <td>...</td>\n",
       "    </tr>\n",
       "    <tr>\n",
       "      <th>1985</th>\n",
       "      <td>S9</td>\n",
       "      <td>803</td>\n",
       "      <td>0</td>\n",
       "      <td>1</td>\n",
       "    </tr>\n",
       "    <tr>\n",
       "      <th>1986</th>\n",
       "      <td>S9</td>\n",
       "      <td>68</td>\n",
       "      <td>1352</td>\n",
       "      <td>1</td>\n",
       "    </tr>\n",
       "    <tr>\n",
       "      <th>1987</th>\n",
       "      <td>S9</td>\n",
       "      <td>102</td>\n",
       "      <td>77</td>\n",
       "      <td>1</td>\n",
       "    </tr>\n",
       "    <tr>\n",
       "      <th>1988</th>\n",
       "      <td>S9</td>\n",
       "      <td>311</td>\n",
       "      <td>140</td>\n",
       "      <td>1</td>\n",
       "    </tr>\n",
       "    <tr>\n",
       "      <th>1989</th>\n",
       "      <td>S9</td>\n",
       "      <td>514</td>\n",
       "      <td>1</td>\n",
       "      <td>1</td>\n",
       "    </tr>\n",
       "  </tbody>\n",
       "</table>\n",
       "<p>1990 rows × 4 columns</p>\n",
       "</div>"
      ],
      "text/plain": [
       "     sampleId OTUs  Counts  is_contaminated\n",
       "0        100A   72      90                0\n",
       "1        100A  257       5                0\n",
       "2        100A  385       0                0\n",
       "3        100A  207    1750                0\n",
       "4        100A  296      85                0\n",
       "...       ...  ...     ...              ...\n",
       "1985       S9  803       0                1\n",
       "1986       S9   68    1352                1\n",
       "1987       S9  102      77                1\n",
       "1988       S9  311     140                1\n",
       "1989       S9  514       1                1\n",
       "\n",
       "[1990 rows x 4 columns]"
      ]
     },
     "execution_count": 135,
     "metadata": {},
     "output_type": "execute_result"
    }
   ],
   "source": [
    "plot_df"
   ]
  },
  {
   "cell_type": "code",
   "execution_count": 136,
   "metadata": {},
   "outputs": [
    {
     "data": {
      "image/png": "[encoded data removed]",
      "text/plain": [
       "<Figure size 720x288 with 1 Axes>"
      ]
     },
     "metadata": {
      "needs_background": "light"
     },
     "output_type": "display_data"
    }
   ],
   "source": [
    "## boxplot compare important OTUS from contaminated and not contaminated samples\n",
    "f, ax = plt.subplots()\n",
    "ax.set(yscale=\"log\")\n",
    "ax = sns.boxplot(x=\"OTUs\", y=\"Counts\", hue=\"is_contaminated\",              \n",
    "data=plot_df, palette=\"Set3\")"
   ]
  },
  {
   "cell_type": "code",
   "execution_count": 137,
   "metadata": {},
   "outputs": [
    {
     "data": {
      "image/png": "[encoded data removed]",
      "text/plain": [
       "<Figure size 720x288 with 1 Axes>"
      ]
     },
     "metadata": {
      "needs_background": "light"
     },
     "output_type": "display_data"
    }
   ],
   "source": [
    "f, ax = plt.subplots()\n",
    "\n",
    "ax = sns.boxplot(x=\"OTUs\", y=\"Counts\", hue=\"is_contaminated\",              \n",
    "data=plot_df, palette=\"Set3\")"
   ]
  },
  {
   "cell_type": "code",
   "execution_count": 138,
   "metadata": {},
   "outputs": [
    {
     "data": {
      "image/png": "[encoded data removed]",
      "text/plain": [
       "<Figure size 720x288 with 1 Axes>"
      ]
     },
     "metadata": {
      "needs_background": "light"
     },
     "output_type": "display_data"
    }
   ],
   "source": [
    "## boxplot compare non important OTUS from contaminated and not contaminated samples\n",
    "f, ax = plt.subplots()\n",
    "ax.set(yscale=\"log\")\n",
    "ax = sns.boxplot(x=\"OTUs\", y=\"Counts\", hue=\"is_contaminated\",              \n",
    "data=plot_df_least, palette=\"Set3\")"
   ]
  },
  {
   "cell_type": "code",
   "execution_count": 139,
   "metadata": {},
   "outputs": [],
   "source": [
    "important_tax = otu_info.iloc[most_important_ind,3]"
   ]
  },
  {
   "cell_type": "code",
   "execution_count": 143,
   "metadata": {},
   "outputs": [
    {
     "data": {
      "text/plain": [
       "'unclassified_Lachnospiraceae'"
      ]
     },
     "execution_count": 143,
     "metadata": {},
     "output_type": "execute_result"
    }
   ],
   "source": [
    "important_tax.iloc[1].split(';')[-2]"
   ]
  },
  {
   "cell_type": "code",
   "execution_count": 151,
   "metadata": {},
   "outputs": [
    {
     "name": "stdout",
     "output_type": "stream",
     "text": [
      "unclassified_Bacteroidales 72\n",
      "unclassified_Lachnospiraceae 257\n",
      "Lachnospiraceae UCG-006 385\n",
      "Lachnospiraceae NK4A136 group 207\n",
      "Enterorhabdus 296\n",
      "Blautia 803\n",
      "unclassified_Bacteroidales 68\n",
      "Lactobacillus 102\n",
      "unclassified_Lachnospiraceae 311\n",
      "unclassified_Bacteroidales 514\n"
     ]
    }
   ],
   "source": [
    "for i in range(len(important_tax)):\n",
    "    cur_tax = important_tax.iloc[i].split(';')[-2]\n",
    "    print(cur_tax, important_tax.index[i])"
   ]
  },
  {
   "cell_type": "code",
   "execution_count": 147,
   "metadata": {},
   "outputs": [
    {
     "data": {
      "text/plain": [
       "72     rootrank;Root;58.8|domain;Bacteria;58.8|phylum...\n",
       "257    rootrank;Root;91.72|domain;Bacteria;91.72|phyl...\n",
       "385    rootrank;Root;100|domain;Bacteria;100|phylum;F...\n",
       "207    rootrank;Root;100|domain;Bacteria;100|phylum;F...\n",
       "296    rootrank;Root;100|domain;Bacteria;100|phylum;A...\n",
       "803    rootrank;Root;95.64|domain;Bacteria;95.64|phyl...\n",
       "68     rootrank;Root;60.38|domain;Bacteria;60.38|phyl...\n",
       "102    rootrank;Root;100|domain;Bacteria;100|phylum;F...\n",
       "311    rootrank;Root;71.79|domain;Bacteria;71.79|phyl...\n",
       "514    rootrank;Root;65.48|domain;Bacteria;65.48|phyl...\n",
       "Name: tax, dtype: object"
      ]
     },
     "execution_count": 147,
     "metadata": {},
     "output_type": "execute_result"
    }
   ],
   "source": [
    "important_tax"
   ]
  },
  {
   "cell_type": "code",
   "execution_count": 149,
   "metadata": {},
   "outputs": [
    {
     "name": "stdout",
     "output_type": "stream",
     "text": [
      "<class 'int'>\n",
      "<class 'int'>\n",
      "<class 'int'>\n",
      "<class 'int'>\n",
      "<class 'int'>\n",
      "<class 'int'>\n",
      "<class 'int'>\n",
      "<class 'int'>\n",
      "<class 'int'>\n",
      "<class 'int'>\n"
     ]
    }
   ],
   "source": [
    "for i in important_tax.index:\n",
    "    print(type(i))"
   ]
  },
  {
   "cell_type": "code",
   "execution_count": null,
   "metadata": {},
   "outputs": [],
   "source": []
  }
 ],
 "metadata": {
  "kernelspec": {
   "display_name": "Python 3",
   "language": "python",
   "name": "python3"
  },
  "language_info": {
   "codemirror_mode": {
    "name": "ipython",
    "version": 3
   },
   "file_extension": ".py",
   "mimetype": "text/x-python",
   "name": "python",
   "nbconvert_exporter": "python",
   "pygments_lexer": "ipython3",
   "version": "3.6.9"
  }
 },
 "nbformat": 4,
 "nbformat_minor": 4
}
